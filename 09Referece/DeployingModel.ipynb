{
 "cells": [
  {
   "cell_type": "code",
   "execution_count": 8,
   "metadata": {},
   "outputs": [],
   "source": [
    "import myutils\n",
    "\n",
    "model_type = \"rnn\"\n",
    "model = myutils.get_model(model_type = model_type, num_classes = 5)\n",
    "model.eval();"
   ]
  },
  {
   "cell_type": "code",
   "execution_count": 9,
   "metadata": {},
   "outputs": [],
   "source": [
    "import torch\n",
    "device = torch.device(\"cuda:0\" if torch.cuda.is_available() else \"cpu\")\n",
    "\n",
    "path2weights = \"./models/weights_\"+model_type+\".pt\"\n",
    " \n",
    "model.load_state_dict(torch.load(path2weights))\n",
    "model.to(device);"
   ]
  },
  {
   "cell_type": "code",
   "execution_count": 10,
   "metadata": {},
   "outputs": [
    {
     "name": "stderr",
     "output_type": "stream",
     "text": [
      "OpenCV: Couldn't read video stream from file \"./data/hmdb51_org/turn/50_FIRST_DATES_turn_h_nm_np1_fr_goo_23.avi\"\n"
     ]
    },
    {
     "data": {
      "text/plain": [
       "(0, 0)"
      ]
     },
     "execution_count": 10,
     "metadata": {},
     "output_type": "execute_result"
    }
   ],
   "source": [
    "path2vido = \"./data/hmdb51_org/turn/50_FIRST_DATES_turn_h_nm_np1_fr_goo_23.avi\"\n",
    "frames, v_len = myutils.get_frames(path2vido, n_frames=16)\n",
    "len(frames), v_len"
   ]
  },
  {
   "cell_type": "code",
   "execution_count": 11,
   "metadata": {},
   "outputs": [
    {
     "data": {
      "text/plain": [
       "<Figure size 1000x1000 with 0 Axes>"
      ]
     },
     "metadata": {},
     "output_type": "display_data"
    }
   ],
   "source": [
    "import matplotlib.pylab as plt\n",
    "%matplotlib inline\n",
    "\n",
    "plt.figure(figsize=(10,10))\n",
    "for ii,img in enumerate(frames[::4]):\n",
    "    plt.subplot(2,2,ii+1)\n",
    "    plt.imshow(img)"
   ]
  },
  {
   "cell_type": "code",
   "execution_count": 12,
   "metadata": {},
   "outputs": [
    {
     "ename": "RuntimeError",
     "evalue": "stack expects a non-empty TensorList",
     "output_type": "error",
     "traceback": [
      "\u001b[0;31m---------------------------------------------------------------------------\u001b[0m",
      "\u001b[0;31mRuntimeError\u001b[0m                              Traceback (most recent call last)",
      "\u001b[1;32m/Users/owo/HOUSE/-ActionClass/09Referece/DeployingModel.ipynb 셀 5\u001b[0m line \u001b[0;36m1\n\u001b[0;32m----> <a href='vscode-notebook-cell:/Users/owo/HOUSE/-ActionClass/09Referece/DeployingModel.ipynb#W4sZmlsZQ%3D%3D?line=0'>1</a>\u001b[0m imgs_tensor \u001b[39m=\u001b[39m myutils\u001b[39m.\u001b[39mtransform_frames(frames, model_type)\n\u001b[1;32m      <a href='vscode-notebook-cell:/Users/owo/HOUSE/-ActionClass/09Referece/DeployingModel.ipynb#W4sZmlsZQ%3D%3D?line=1'>2</a>\u001b[0m \u001b[39mprint\u001b[39m(imgs_tensor\u001b[39m.\u001b[39mshape, torch\u001b[39m.\u001b[39mmin(imgs_tensor), torch\u001b[39m.\u001b[39mmax(imgs_tensor))\n",
      "File \u001b[0;32m~/HOUSE/-ActionClass/09Referece/myutils.py:242\u001b[0m, in \u001b[0;36mtransform_frames\u001b[0;34m(frames, model_type)\u001b[0m\n\u001b[1;32m    240\u001b[0m     frame_tr \u001b[39m=\u001b[39m test_transformer(frame)\n\u001b[1;32m    241\u001b[0m     frames_tr\u001b[39m.\u001b[39mappend(frame_tr)\n\u001b[0;32m--> 242\u001b[0m imgs_tensor \u001b[39m=\u001b[39m torch\u001b[39m.\u001b[39mstack(frames_tr)    \n\u001b[1;32m    244\u001b[0m \u001b[39mif\u001b[39;00m model_type\u001b[39m==\u001b[39m\u001b[39m\"\u001b[39m\u001b[39m3dcnn\u001b[39m\u001b[39m\"\u001b[39m:\n\u001b[1;32m    245\u001b[0m     imgs_tensor \u001b[39m=\u001b[39m torch\u001b[39m.\u001b[39mtranspose(imgs_tensor, \u001b[39m1\u001b[39m, \u001b[39m0\u001b[39m)\n",
      "\u001b[0;31mRuntimeError\u001b[0m: stack expects a non-empty TensorList"
     ]
    }
   ],
   "source": [
    "imgs_tensor = myutils.transform_frames(frames, model_type)\n",
    "print(imgs_tensor.shape, torch.min(imgs_tensor), torch.max(imgs_tensor))"
   ]
  },
  {
   "cell_type": "code",
   "execution_count": null,
   "metadata": {},
   "outputs": [],
   "source": [
    "with torch.no_grad():\n",
    "    out = model(imgs_tensor.to(device)).cpu()\n",
    "    print(out.shape)\n",
    "    pred = torch.argmax(out).item()\n",
    "    print(pred)"
   ]
  }
 ],
 "metadata": {
  "kernelspec": {
   "display_name": "Python 3",
   "language": "python",
   "name": "python3"
  },
  "language_info": {
   "codemirror_mode": {
    "name": "ipython",
    "version": 3
   },
   "file_extension": ".py",
   "mimetype": "text/x-python",
   "name": "python",
   "nbconvert_exporter": "python",
   "pygments_lexer": "ipython3",
   "version": "3.11.4"
  }
 },
 "nbformat": 4,
 "nbformat_minor": 2
}
