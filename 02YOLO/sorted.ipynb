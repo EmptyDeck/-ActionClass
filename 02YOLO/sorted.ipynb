{
 "cells": [
  {
   "cell_type": "code",
   "execution_count": 28,
   "metadata": {},
   "outputs": [],
   "source": [
    "import numpy as np\n",
    "import cv2 as cv\n",
    "import sys\n",
    "import pandas as pd\n",
    "import os\n",
    "import cv2 as cv\n",
    "import mediapipe as mp"
   ]
  },
  {
   "cell_type": "code",
   "execution_count": 53,
   "metadata": {},
   "outputs": [],
   "source": [
    "def construct_yolo_v3():\n",
    "    f = open('coco_names.txt', 'r')\n",
    "    class_names = [line.strip() for line in f.readlines()]\n",
    "\n",
    "    model = cv.dnn.readNet('yolov3.weights', 'yolov3.cfg')\n",
    "    layer_names = model.getLayerNames()\n",
    "    out_layers = [layer_names[i - 1] for i in model.getUnconnectedOutLayers()]\n",
    "    \n",
    "    return model, out_layers, class_names\n",
    "\n",
    "def yolo_detect(img, yolo_model, out_layers):\n",
    "    height, width = img.shape[0], img.shape[1]\n",
    "    test_img = cv.dnn.blobFromImage(img, 1.0 / 256, (448, 448), (0, 0, 0), swapRB=True)\n",
    "    \n",
    "    yolo_model.setInput(test_img)\n",
    "    output3 = yolo_model.forward(out_layers)\n",
    "    \n",
    "    box, conf, id = [], [], []  # 박스, 신뢰도, 부류 번호\n",
    "    for output in output3:\n",
    "        for vec85 in output:\n",
    "            scores = vec85[5:]\n",
    "            class_id = np.argmax(scores)\n",
    "            confidence = scores[class_id]\n",
    "            if confidence > 0.5:  # 신뢰도가 50% 이상인 경우만 취함\n",
    "                centerx, centery = int(vec85[0] * width), int(vec85[1] * height)\n",
    "                w, h = int(vec85[2] * width), int(vec85[3] * height)\n",
    "                x, y = int(centerx - w / 2), int(centery - h / 2)\n",
    "                box.append([x, y, x + w, y + h])\n",
    "                conf.append(float(confidence))\n",
    "                id.append(class_id)\n",
    "            \n",
    "    ind = cv.dnn.NMSBoxes(box, conf, 0.5, 0.4)\n",
    "    objects = [box[i] + [conf[i]] + [id[i]] for i in range(len(box)) if i in ind]\n",
    "    return objects\n",
    "\n",
    "def sort_to_csv(video_path):\n",
    "\n",
    "    model, out_layers, class_names = construct_yolo_v3()\n",
    "    colors = np.random.uniform(0, 255, size=(100, 3))\n",
    "\n",
    "\n",
    "    from sort import Sort\n",
    "    sort = Sort()\n",
    "    cap = cv.VideoCapture(video_path)\n",
    "\n",
    "    if not cap.isOpened(): \n",
    "        sys.exit('동영상 파일을 열 수 없습니다.')\n",
    "\n",
    "    # 결과를 저장할 리스트 생성\n",
    "    tracking_results = []\n",
    "\n",
    "    frame_number = 0\n",
    "    while True:\n",
    "        ret, frame = cap.read()\n",
    "        if not ret: \n",
    "            break\n",
    "        \n",
    "        res = yolo_detect(frame, model, out_layers)   \n",
    "        persons = [res[i] for i in range(len(res)) if res[i][5] == 0]\n",
    "\n",
    "        if len(persons) == 0: \n",
    "            tracks = sort.update()\n",
    "        else:\n",
    "            tracks = sort.update(np.array(persons))\n",
    "        \n",
    "        for track in tracks:\n",
    "            x1, y1, x2, y2, track_id = track.astype(int)\n",
    "            # 리스트에 결과 추가\n",
    "            tracking_results.append({'Frame': frame_number, 'ID': track_id, 'Box': [x1, y1, x2, y2]})\n",
    "\n",
    "        frame_number += 1\n",
    "\n",
    "        key = cv.waitKey(1) \n",
    "        if key == ord('q'): \n",
    "            break \n",
    "\n",
    "    cap.release()\n",
    "    cv.destroyAllWindows()\n",
    "    \n",
    "    tracking_results_df = pd.DataFrame(tracking_results).reset_index(drop=True)\n",
    "\n",
    "    return tracking_results_df"
   ]
  },
  {
   "cell_type": "code",
   "execution_count": 54,
   "metadata": {},
   "outputs": [],
   "source": [
    "def extract_and_create_videos(video_path, tracking_data, output_folder):\n",
    "    cap = cv.VideoCapture(video_path)\n",
    "    if not cap.isOpened():\n",
    "        raise Exception(\"Error opening video file\")\n",
    "\n",
    "    # Get video properties\n",
    "    frame_rate = cap.get(cv.CAP_PROP_FPS)\n",
    "    video_width = int(cap.get(cv.CAP_PROP_FRAME_WIDTH))\n",
    "    video_height = int(cap.get(cv.CAP_PROP_FRAME_HEIGHT))\n",
    "\n",
    "    # Create a dictionary to store video writers for each ID\n",
    "    video_writers = {}\n",
    "\n",
    "    # Process each entry in the tracking data\n",
    "    for index, row in tracking_data.iterrows():\n",
    "        frame_number = row['Frame']\n",
    "        box = eval(row['Box'])\n",
    "        person_id = row['ID']\n",
    "        x1, y1, x2, y2 = box\n",
    "\n",
    "        # Ensure coordinates are within bounds\n",
    "        x1, y1, x2, y2 = max(x1, 0), max(y1, 0), min(x2, video_width), min(y2, video_height)\n",
    "\n",
    "        # Set the video to the specific frame\n",
    "        cap.set(cv.CAP_PROP_POS_FRAMES, frame_number)\n",
    "        ret, frame = cap.read()\n",
    "        if not ret or frame is None:\n",
    "            continue\n",
    "\n",
    "        # Crop and resize frame\n",
    "        cropped_frame = frame[y1:y2, x1:x2]\n",
    "        if cropped_frame.size == 0:\n",
    "            continue  # Skip if the cropped frame is empty\n",
    "        resized_frame = cv.resize(cropped_frame, (300, 300))\n",
    "\n",
    "        # Check if the video writer for this ID exists\n",
    "        if person_id not in video_writers:\n",
    "            output_filename = os.path.join(output_folder, f\"video_id_{person_id}.mp4\")\n",
    "            fourcc = cv.VideoWriter_fourcc(*'mp4v')\n",
    "            video_writers[person_id] = cv.VideoWriter(output_filename, fourcc, frame_rate, (300, 300))\n",
    "\n",
    "        # Write the frame to the video\n",
    "        video_writers[person_id].write(resized_frame)\n",
    "\n",
    "    # Release all video writers\n",
    "    for writer in video_writers.values():\n",
    "        writer.release()\n",
    "\n",
    "    cap.release()"
   ]
  },
  {
   "cell_type": "code",
   "execution_count": null,
   "metadata": {},
   "outputs": [],
   "source": [
    "def video_square(df,video_path):\n",
    "\n",
    "    tracking_data = {}\n",
    "\n",
    "    for _, row in df.iterrows():\n",
    "        frame_number = row['Frame']\n",
    "        box_str = str(row['Box'])\n",
    "        box = eval(row['Box'])\n",
    "        track_id = row['ID']\n",
    "        if frame_number not in tracking_data:\n",
    "            tracking_data[frame_number] = []\n",
    "        tracking_data[frame_number].append((track_id, box))\n",
    "\n",
    "    cap = cv.VideoCapture(video_path)\n",
    "    \n",
    "    if not cap.isOpened():\n",
    "        sys.exit('동영상 파일을 열 수 없습니다.')\n",
    "\n",
    "    # Define the codec and create VideoWriter object\n",
    "    #mode = 'avi'\n",
    "    mode = 'mp4'\n",
    "    if mode == 'avi':\n",
    "        fourcc = cv.VideoWriter_fourcc(*'XVID')\n",
    "        out = cv.VideoWriter('output.avi', fourcc, 20.0, (int(cap.get(3)), int(cap.get(4))))\n",
    "    elif mode == 'mp4':\n",
    "        fourcc = cv.VideoWriter_fourcc(*'mp4v')\n",
    "        out = cv.VideoWriter('output2.mp4', fourcc, 20.0, (int(cap.get(3)), int(cap.get(4))))\n",
    "\n",
    "    frame_number = 0\n",
    "    while True:\n",
    "        ret, frame = cap.read()\n",
    "        if not ret:\n",
    "            break\n",
    "\n",
    "        if frame_number in tracking_data:\n",
    "            for track_id, box in tracking_data[frame_number]:\n",
    "                x1, y1, x2, y2 = box\n",
    "                cv.rectangle(frame, (x1, y1), (x2, y2), (0, 255, 0), 2)\n",
    "                cv.putText(frame, str(track_id), (x1, y1 - 10), cv.FONT_HERSHEY_SIMPLEX, 0.9, (0, 255, 0), 2)\n",
    "\n",
    "\n",
    "        out.write(frame)\n",
    "\n",
    "        cv.imshow('Tracking', frame)\n",
    "        frame_number += 1\n",
    "\n",
    "        if cv.waitKey(1) & 0xFF == ord('q'):\n",
    "            break\n",
    "\n",
    "    # Release everything if job is finished\n",
    "    cap.release()\n",
    "    out.release()\n",
    "    cv.destroyAllWindows()"
   ]
  },
  {
   "cell_type": "code",
   "execution_count": 19,
   "metadata": {},
   "outputs": [],
   "source": [
    "def skeleton(videopath):\n",
    "\n",
    "    mp_pose=mp.solutions.pose\n",
    "    mp_drawing=mp.solutions.drawing_utils\n",
    "    mp_styles=mp.solutions.drawing_styles\n",
    "\n",
    "    pose=mp_pose.Pose(static_image_mode=False,enable_segmentation=True,min_detection_confidence=0.5,min_tracking_confidence=0.5)\n",
    "\n",
    "    #cap=cv.VideoCapture(0)\n",
    "    cap=cv.VideoCapture(videopath)\n",
    "\n",
    "    while True:\n",
    "        ret,frame=cap.read()\n",
    "        if not ret:\n",
    "            print('프레임 획득에 실패하여 루프를 나갑니다.')\n",
    "            break\n",
    "        \n",
    "        res=pose.process(cv.cvtColor(frame,cv.COLOR_BGR2RGB))\n",
    "        \n",
    "        mp_drawing.draw_landmarks(frame,res.pose_landmarks,mp_pose.POSE_CONNECTIONS,landmark_drawing_spec=mp_styles.get_default_pose_landmarks_style())\n",
    "        \n",
    "        cv.imshow('MediaPipe pose',cv.flip(frame,1)) # 좌우반전\n",
    "        if cv.waitKey(5)==ord('q'):\n",
    "            mp_drawing.plot_landmarks(res.pose_world_landmarks,mp_pose.POSE_CONNECTIONS)\n",
    "            break\n",
    "\n",
    "    cap.release()\n",
    "    cv.destroyAllWindows()"
   ]
  },
  {
   "cell_type": "code",
   "execution_count": 24,
   "metadata": {},
   "outputs": [],
   "source": [
    "video_path = '../data/mevid.mp4'\n",
    "output_folder = '../OUTPUT'\n",
    "outputvideo = '../OUTPUT/video_id_6.mp4'"
   ]
  },
  {
   "cell_type": "code",
   "execution_count": 56,
   "metadata": {},
   "outputs": [],
   "source": [
    "csv_df = sort_to_csv(video_path)"
   ]
  },
  {
   "cell_type": "code",
   "execution_count": 29,
   "metadata": {},
   "outputs": [
    {
     "ename": "NameError",
     "evalue": "name 'csv_df' is not defined",
     "output_type": "error",
     "traceback": [
      "\u001b[0;31m---------------------------------------------------------------------------\u001b[0m",
      "\u001b[0;31mNameError\u001b[0m                                 Traceback (most recent call last)",
      "\u001b[1;32m/Users/owo/HOUSE/-ActionClass/02YOLO/sorted.ipynb 셀 8\u001b[0m line \u001b[0;36m1\n\u001b[0;32m----> <a href='vscode-notebook-cell:/Users/owo/HOUSE/-ActionClass/02YOLO/sorted.ipynb#X15sZmlsZQ%3D%3D?line=0'>1</a>\u001b[0m csv_df\u001b[39m.\u001b[39mto_csv(\u001b[39m'\u001b[39m\u001b[39m../OUTPUT/sort_csv\u001b[39m\u001b[39m'\u001b[39m)\n",
      "\u001b[0;31mNameError\u001b[0m: name 'csv_df' is not defined"
     ]
    }
   ],
   "source": [
    "csv_df.to_csv('../OUTPUT/sort_csv')"
   ]
  },
  {
   "cell_type": "code",
   "execution_count": null,
   "metadata": {},
   "outputs": [],
   "source": [
    "extract_and_create_videos(video_path, csv_df, output_folder)"
   ]
  },
  {
   "cell_type": "code",
   "execution_count": 14,
   "metadata": {},
   "outputs": [
    {
     "ename": "",
     "evalue": "",
     "output_type": "error",
     "traceback": [
      "\u001b[1;31m현재 셀 또는 이전 셀에서 코드를 실행하는 동안 Kernel이 충돌했습니다. 셀의 코드를 검토하여 오류의 가능한 원인을 식별하세요. 자세한 내용을 보려면 <a href='https://aka.ms/vscodeJupyterKernelCrash'> 여기 </a> 를 클릭하세요. 자세한 내용은 Jupyter <a href='command:jupyter.viewOutput'>로그</a>를 참조하세요."
     ]
    }
   ],
   "source": [
    "tracking_data = video_square(csv_df,video_path)"
   ]
  },
  {
   "cell_type": "code",
   "execution_count": 27,
   "metadata": {},
   "outputs": [
    {
     "name": "stderr",
     "output_type": "stream",
     "text": [
      "I0000 00:00:1700701405.579676       1 gl_context.cc:344] GL version: 2.1 (2.1 Metal - 88), renderer: Apple M1\n"
     ]
    },
    {
     "name": "stdout",
     "output_type": "stream",
     "text": [
      "프레임 획득에 실패하여 루프를 나갑니다.\n"
     ]
    }
   ],
   "source": [
    "skeleton(outputvideo)"
   ]
  }
 ],
 "metadata": {
  "kernelspec": {
   "display_name": "pose",
   "language": "python",
   "name": "python3"
  },
  "language_info": {
   "codemirror_mode": {
    "name": "ipython",
    "version": 3
   },
   "file_extension": ".py",
   "mimetype": "text/x-python",
   "name": "python",
   "nbconvert_exporter": "python",
   "pygments_lexer": "ipython3",
   "version": "3.8.18"
  }
 },
 "nbformat": 4,
 "nbformat_minor": 2
}
