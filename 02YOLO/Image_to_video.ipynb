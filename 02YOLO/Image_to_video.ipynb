{
 "cells": [
  {
   "cell_type": "code",
   "execution_count": 6,
   "metadata": {},
   "outputs": [
    {
     "name": "stdout",
     "output_type": "stream",
     "text": [
      "Found 284 images in the folder.\n"
     ]
    }
   ],
   "source": [
    "import cv2\n",
    "import os\n",
    "\n",
    "def create_video_from_images(image_folder, output_video, frame_rate, image_extension='png'):\n",
    "    images = [img for img in os.listdir(image_folder) if img.endswith(image_extension)]\n",
    "    images.sort()  # Ensure that the images are sorted by name\n",
    "\n",
    "    print(f\"Found {len(images)} images in the folder.\")  # Debug print\n",
    "\n",
    "    if not images:\n",
    "        raise ValueError(\"No images found in the folder. Check the folder path and image extensions.\")\n",
    "\n",
    "    # Determine the width and height from the first image\n",
    "    frame = cv2.imread(os.path.join(image_folder, images[0]))\n",
    "    if frame is None:\n",
    "        raise ValueError(\"Unable to read the first image. Check if the image file is valid.\")\n",
    "\n",
    "    height, width, layers = frame.shape\n",
    "\n",
    "    video = cv2.VideoWriter(output_video, cv2.VideoWriter_fourcc(*'mp4v'), frame_rate, (width, height))\n",
    "\n",
    "    for image in images:\n",
    "        frame = cv2.imread(os.path.join(image_folder, image))\n",
    "        if frame is None:\n",
    "            print(f\"Warning: Unable to read image {image}. Skipping.\")\n",
    "            continue\n",
    "        video.write(frame)\n",
    "\n",
    "    cv2.destroyAllWindows()\n",
    "    video.release()\n",
    "\n",
    "# Usage\n",
    "image_folder = 'cropped_videos'  # Update with the path to your images\n",
    "output_video = 'output_video.mp4'\n",
    "frame_rate = 30  # Frames per second\n",
    "create_video_from_images(image_folder, output_video, frame_rate)\n"
   ]
  }
 ],
 "metadata": {
  "kernelspec": {
   "display_name": "pose",
   "language": "python",
   "name": "python3"
  },
  "language_info": {
   "codemirror_mode": {
    "name": "ipython",
    "version": 3
   },
   "file_extension": ".py",
   "mimetype": "text/x-python",
   "name": "python",
   "nbconvert_exporter": "python",
   "pygments_lexer": "ipython3",
   "version": "3.8.18"
  }
 },
 "nbformat": 4,
 "nbformat_minor": 2
}
