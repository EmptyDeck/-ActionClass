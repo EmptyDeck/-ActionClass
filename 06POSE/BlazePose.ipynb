{
 "cells": [
  {
   "cell_type": "code",
   "execution_count": 8,
   "metadata": {},
   "outputs": [
    {
     "name": "stdout",
     "output_type": "stream",
     "text": [
      "Requirement already satisfied: mediapipe in /Users/owo/anaconda3/envs/pose/lib/python3.8/site-packages (0.10.8)\n",
      "Requirement already satisfied: absl-py in /Users/owo/anaconda3/envs/pose/lib/python3.8/site-packages (from mediapipe) (2.0.0)\n",
      "Requirement already satisfied: attrs>=19.1.0 in /Users/owo/anaconda3/envs/pose/lib/python3.8/site-packages (from mediapipe) (23.1.0)\n",
      "Requirement already satisfied: flatbuffers>=2.0 in /Users/owo/anaconda3/envs/pose/lib/python3.8/site-packages (from mediapipe) (23.5.26)\n",
      "Requirement already satisfied: matplotlib in /Users/owo/anaconda3/envs/pose/lib/python3.8/site-packages (from mediapipe) (3.7.4)\n",
      "Requirement already satisfied: numpy in /Users/owo/anaconda3/envs/pose/lib/python3.8/site-packages (from mediapipe) (1.24.4)\n",
      "Requirement already satisfied: opencv-contrib-python in /Users/owo/anaconda3/envs/pose/lib/python3.8/site-packages (from mediapipe) (4.8.1.78)\n",
      "Requirement already satisfied: protobuf<4,>=3.11 in /Users/owo/anaconda3/envs/pose/lib/python3.8/site-packages (from mediapipe) (3.20.3)\n",
      "Requirement already satisfied: sounddevice>=0.4.4 in /Users/owo/anaconda3/envs/pose/lib/python3.8/site-packages (from mediapipe) (0.4.6)\n",
      "Requirement already satisfied: CFFI>=1.0 in /Users/owo/anaconda3/envs/pose/lib/python3.8/site-packages (from sounddevice>=0.4.4->mediapipe) (1.16.0)\n",
      "Requirement already satisfied: contourpy>=1.0.1 in /Users/owo/anaconda3/envs/pose/lib/python3.8/site-packages (from matplotlib->mediapipe) (1.1.1)\n",
      "Requirement already satisfied: cycler>=0.10 in /Users/owo/anaconda3/envs/pose/lib/python3.8/site-packages (from matplotlib->mediapipe) (0.12.1)\n",
      "Requirement already satisfied: fonttools>=4.22.0 in /Users/owo/anaconda3/envs/pose/lib/python3.8/site-packages (from matplotlib->mediapipe) (4.44.3)\n",
      "Requirement already satisfied: kiwisolver>=1.0.1 in /Users/owo/anaconda3/envs/pose/lib/python3.8/site-packages (from matplotlib->mediapipe) (1.4.5)\n",
      "Requirement already satisfied: packaging>=20.0 in /Users/owo/anaconda3/envs/pose/lib/python3.8/site-packages (from matplotlib->mediapipe) (23.2)\n",
      "Requirement already satisfied: pillow>=6.2.0 in /Users/owo/anaconda3/envs/pose/lib/python3.8/site-packages (from matplotlib->mediapipe) (10.0.1)\n",
      "Requirement already satisfied: pyparsing>=2.3.1 in /Users/owo/anaconda3/envs/pose/lib/python3.8/site-packages (from matplotlib->mediapipe) (3.1.1)\n",
      "Requirement already satisfied: python-dateutil>=2.7 in /Users/owo/anaconda3/envs/pose/lib/python3.8/site-packages (from matplotlib->mediapipe) (2.8.2)\n",
      "Requirement already satisfied: importlib-resources>=3.2.0 in /Users/owo/anaconda3/envs/pose/lib/python3.8/site-packages (from matplotlib->mediapipe) (6.1.1)\n",
      "Requirement already satisfied: pycparser in /Users/owo/anaconda3/envs/pose/lib/python3.8/site-packages (from CFFI>=1.0->sounddevice>=0.4.4->mediapipe) (2.21)\n",
      "Requirement already satisfied: zipp>=3.1.0 in /Users/owo/anaconda3/envs/pose/lib/python3.8/site-packages (from importlib-resources>=3.2.0->matplotlib->mediapipe) (3.17.0)\n",
      "Requirement already satisfied: six>=1.5 in /Users/owo/anaconda3/envs/pose/lib/python3.8/site-packages (from python-dateutil>=2.7->matplotlib->mediapipe) (1.16.0)\n"
     ]
    }
   ],
   "source": [
    "! pip install mediapipe"
   ]
  },
  {
   "cell_type": "code",
   "execution_count": 2,
   "metadata": {},
   "outputs": [],
   "source": [
    "! cd /Users/owo/HOUSE/-ActionClass/06POSE/mediapipe"
   ]
  },
  {
   "cell_type": "code",
   "execution_count": 3,
   "metadata": {},
   "outputs": [
    {
     "name": "stdout",
     "output_type": "stream",
     "text": [
      "/Users/owo/HOUSE/-ActionClass/06POSE\n"
     ]
    }
   ],
   "source": [
    "import os\n",
    "print(os.getcwd())"
   ]
  },
  {
   "cell_type": "code",
   "execution_count": 9,
   "metadata": {},
   "outputs": [],
   "source": [
    "videopath = '../OUTPUT/01.avi'\n",
    "videopath = '../OUTPUT/slip.mp4'"
   ]
  },
  {
   "cell_type": "code",
   "execution_count": 10,
   "metadata": {},
   "outputs": [
    {
     "name": "stderr",
     "output_type": "stream",
     "text": [
      "I0000 00:00:1700389867.701067       1 gl_context.cc:344] GL version: 2.1 (2.1 Metal - 88), renderer: Apple M1\n"
     ]
    },
    {
     "name": "stdout",
     "output_type": "stream",
     "text": [
      "프레임 획득에 실패하여 루프를 나갑니다.\n"
     ]
    }
   ],
   "source": [
    "import cv2 as cv\n",
    "import mediapipe as mp\n",
    "\n",
    "mp_pose=mp.solutions.pose\n",
    "mp_drawing=mp.solutions.drawing_utils\n",
    "mp_styles=mp.solutions.drawing_styles\n",
    "\n",
    "pose=mp_pose.Pose(static_image_mode=False,enable_segmentation=True,min_detection_confidence=0.5,min_tracking_confidence=0.5)\n",
    "\n",
    "#cap=cv.VideoCapture(0)\n",
    "cap=cv.VideoCapture(videopath)\n",
    "\n",
    "while True:\n",
    "    ret,frame=cap.read()\n",
    "    if not ret:\n",
    "      print('프레임 획득에 실패하여 루프를 나갑니다.')\n",
    "      break\n",
    "    \n",
    "    res=pose.process(cv.cvtColor(frame,cv.COLOR_BGR2RGB))\n",
    "    \n",
    "    mp_drawing.draw_landmarks(frame,res.pose_landmarks,mp_pose.POSE_CONNECTIONS,landmark_drawing_spec=mp_styles.get_default_pose_landmarks_style())\n",
    "    \n",
    "    cv.imshow('MediaPipe pose',cv.flip(frame,1)) # 좌우반전\n",
    "    if cv.waitKey(5)==ord('q'):\n",
    "      mp_drawing.plot_landmarks(res.pose_world_landmarks,mp_pose.POSE_CONNECTIONS)\n",
    "      break\n",
    "\n",
    "cap.release()\n",
    "cv.destroyAllWindows()"
   ]
  }
 ],
 "metadata": {
  "kernelspec": {
   "display_name": "pose",
   "language": "python",
   "name": "python3"
  },
  "language_info": {
   "codemirror_mode": {
    "name": "ipython",
    "version": 3
   },
   "file_extension": ".py",
   "mimetype": "text/x-python",
   "name": "python",
   "nbconvert_exporter": "python",
   "pygments_lexer": "ipython3",
   "version": "3.8.18"
  }
 },
 "nbformat": 4,
 "nbformat_minor": 2
}
