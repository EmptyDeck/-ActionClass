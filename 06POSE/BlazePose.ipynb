{
 "cells": [
  {
   "cell_type": "code",
   "execution_count": 8,
   "metadata": {},
   "outputs": [
    {
     "name": "stdout",
     "output_type": "stream",
     "text": [
      "Requirement already satisfied: mediapipe in /Users/owo/anaconda3/envs/pose/lib/python3.8/site-packages (0.10.8)\n",
      "Requirement already satisfied: absl-py in /Users/owo/anaconda3/envs/pose/lib/python3.8/site-packages (from mediapipe) (2.0.0)\n",
      "Requirement already satisfied: attrs>=19.1.0 in /Users/owo/anaconda3/envs/pose/lib/python3.8/site-packages (from mediapipe) (23.1.0)\n",
      "Requirement already satisfied: flatbuffers>=2.0 in /Users/owo/anaconda3/envs/pose/lib/python3.8/site-packages (from mediapipe) (23.5.26)\n",
      "Requirement already satisfied: matplotlib in /Users/owo/anaconda3/envs/pose/lib/python3.8/site-packages (from mediapipe) (3.7.4)\n",
      "Requirement already satisfied: numpy in /Users/owo/anaconda3/envs/pose/lib/python3.8/site-packages (from mediapipe) (1.24.4)\n",
      "Requirement already satisfied: opencv-contrib-python in /Users/owo/anaconda3/envs/pose/lib/python3.8/site-packages (from mediapipe) (4.8.1.78)\n",
      "Requirement already satisfied: protobuf<4,>=3.11 in /Users/owo/anaconda3/envs/pose/lib/python3.8/site-packages (from mediapipe) (3.20.3)\n",
      "Requirement already satisfied: sounddevice>=0.4.4 in /Users/owo/anaconda3/envs/pose/lib/python3.8/site-packages (from mediapipe) (0.4.6)\n",
      "Requirement already satisfied: CFFI>=1.0 in /Users/owo/anaconda3/envs/pose/lib/python3.8/site-packages (from sounddevice>=0.4.4->mediapipe) (1.16.0)\n",
      "Requirement already satisfied: contourpy>=1.0.1 in /Users/owo/anaconda3/envs/pose/lib/python3.8/site-packages (from matplotlib->mediapipe) (1.1.1)\n",
      "Requirement already satisfied: cycler>=0.10 in /Users/owo/anaconda3/envs/pose/lib/python3.8/site-packages (from matplotlib->mediapipe) (0.12.1)\n",
      "Requirement already satisfied: fonttools>=4.22.0 in /Users/owo/anaconda3/envs/pose/lib/python3.8/site-packages (from matplotlib->mediapipe) (4.44.3)\n",
      "Requirement already satisfied: kiwisolver>=1.0.1 in /Users/owo/anaconda3/envs/pose/lib/python3.8/site-packages (from matplotlib->mediapipe) (1.4.5)\n",
      "Requirement already satisfied: packaging>=20.0 in /Users/owo/anaconda3/envs/pose/lib/python3.8/site-packages (from matplotlib->mediapipe) (23.2)\n",
      "Requirement already satisfied: pillow>=6.2.0 in /Users/owo/anaconda3/envs/pose/lib/python3.8/site-packages (from matplotlib->mediapipe) (10.0.1)\n",
      "Requirement already satisfied: pyparsing>=2.3.1 in /Users/owo/anaconda3/envs/pose/lib/python3.8/site-packages (from matplotlib->mediapipe) (3.1.1)\n",
      "Requirement already satisfied: python-dateutil>=2.7 in /Users/owo/anaconda3/envs/pose/lib/python3.8/site-packages (from matplotlib->mediapipe) (2.8.2)\n",
      "Requirement already satisfied: importlib-resources>=3.2.0 in /Users/owo/anaconda3/envs/pose/lib/python3.8/site-packages (from matplotlib->mediapipe) (6.1.1)\n",
      "Requirement already satisfied: pycparser in /Users/owo/anaconda3/envs/pose/lib/python3.8/site-packages (from CFFI>=1.0->sounddevice>=0.4.4->mediapipe) (2.21)\n",
      "Requirement already satisfied: zipp>=3.1.0 in /Users/owo/anaconda3/envs/pose/lib/python3.8/site-packages (from importlib-resources>=3.2.0->matplotlib->mediapipe) (3.17.0)\n",
      "Requirement already satisfied: six>=1.5 in /Users/owo/anaconda3/envs/pose/lib/python3.8/site-packages (from python-dateutil>=2.7->matplotlib->mediapipe) (1.16.0)\n"
     ]
    }
   ],
   "source": [
    "! pip install mediapipe"
   ]
  },
  {
   "cell_type": "code",
   "execution_count": 2,
   "metadata": {},
   "outputs": [],
   "source": [
    "! cd /Users/owo/HOUSE/-ActionClass/06POSE/mediapipe"
   ]
  },
  {
   "cell_type": "code",
   "execution_count": 3,
   "metadata": {},
   "outputs": [
    {
     "name": "stdout",
     "output_type": "stream",
     "text": [
      "/Users/owo/HOUSE/-ActionClass/06POSE\n"
     ]
    }
   ],
   "source": [
    "import os\n",
    "print(os.getcwd())"
   ]
  },
  {
   "cell_type": "code",
   "execution_count": 9,
   "metadata": {},
   "outputs": [],
   "source": [
    "videopath = '../OUTPUT/01.avi'\n",
    "videopath = '../OUTPUT/slip.mp4'"
   ]
  },
  {
   "cell_type": "markdown",
   "metadata": {},
   "source": [
    "# 미리보기"
   ]
  },
  {
   "cell_type": "code",
   "execution_count": 1,
   "metadata": {},
   "outputs": [
    {
     "name": "stderr",
     "output_type": "stream",
     "text": [
      "WARNING: All log messages before absl::InitializeLog() is called are written to STDERR\n",
      "I0000 00:00:1700665979.392977       1 gl_context.cc:344] GL version: 2.1 (2.1 Metal - 88), renderer: Apple M1\n",
      "INFO: Created TensorFlow Lite XNNPACK delegate for CPU.\n"
     ]
    },
    {
     "ename": "NameError",
     "evalue": "name 'videopath' is not defined",
     "output_type": "error",
     "traceback": [
      "\u001b[0;31m---------------------------------------------------------------------------\u001b[0m",
      "\u001b[0;31mNameError\u001b[0m                                 Traceback (most recent call last)",
      "\u001b[1;32m/Users/owo/HOUSE/-ActionClass/06POSE/BlazePose.ipynb 셀 6\u001b[0m line \u001b[0;36m1\n\u001b[1;32m      <a href='vscode-notebook-cell:/Users/owo/HOUSE/-ActionClass/06POSE/BlazePose.ipynb#W5sZmlsZQ%3D%3D?line=7'>8</a>\u001b[0m pose\u001b[39m=\u001b[39mmp_pose\u001b[39m.\u001b[39mPose(static_image_mode\u001b[39m=\u001b[39m\u001b[39mFalse\u001b[39;00m,enable_segmentation\u001b[39m=\u001b[39m\u001b[39mTrue\u001b[39;00m,min_detection_confidence\u001b[39m=\u001b[39m\u001b[39m0.5\u001b[39m,min_tracking_confidence\u001b[39m=\u001b[39m\u001b[39m0.5\u001b[39m)\n\u001b[1;32m     <a href='vscode-notebook-cell:/Users/owo/HOUSE/-ActionClass/06POSE/BlazePose.ipynb#W5sZmlsZQ%3D%3D?line=9'>10</a>\u001b[0m \u001b[39m#cap=cv.VideoCapture(0)\u001b[39;00m\n\u001b[0;32m---> <a href='vscode-notebook-cell:/Users/owo/HOUSE/-ActionClass/06POSE/BlazePose.ipynb#W5sZmlsZQ%3D%3D?line=10'>11</a>\u001b[0m cap\u001b[39m=\u001b[39mcv\u001b[39m.\u001b[39mVideoCapture(videopath)\n\u001b[1;32m     <a href='vscode-notebook-cell:/Users/owo/HOUSE/-ActionClass/06POSE/BlazePose.ipynb#W5sZmlsZQ%3D%3D?line=12'>13</a>\u001b[0m \u001b[39mwhile\u001b[39;00m \u001b[39mTrue\u001b[39;00m:\n\u001b[1;32m     <a href='vscode-notebook-cell:/Users/owo/HOUSE/-ActionClass/06POSE/BlazePose.ipynb#W5sZmlsZQ%3D%3D?line=13'>14</a>\u001b[0m     ret,frame\u001b[39m=\u001b[39mcap\u001b[39m.\u001b[39mread()\n",
      "\u001b[0;31mNameError\u001b[0m: name 'videopath' is not defined"
     ]
    }
   ],
   "source": [
    "import cv2 as cv\n",
    "import mediapipe as mp\n",
    "\n",
    "mp_pose=mp.solutions.pose\n",
    "mp_drawing=mp.solutions.drawing_utils\n",
    "mp_styles=mp.solutions.drawing_styles\n",
    "\n",
    "pose=mp_pose.Pose(static_image_mode=False,enable_segmentation=True,min_detection_confidence=0.5,min_tracking_confidence=0.5)\n",
    "\n",
    "#cap=cv.VideoCapture(0)\n",
    "cap=cv.VideoCapture(videopath)\n",
    "\n",
    "while True:\n",
    "    ret,frame=cap.read()\n",
    "    if not ret:\n",
    "      print('프레임 획득에 실패하여 루프를 나갑니다.')\n",
    "      break\n",
    "    \n",
    "    res=pose.process(cv.cvtColor(frame,cv.COLOR_BGR2RGB))\n",
    "    \n",
    "    mp_drawing.draw_landmarks(frame,res.pose_landmarks,mp_pose.POSE_CONNECTIONS,landmark_drawing_spec=mp_styles.get_default_pose_landmarks_style())\n",
    "    \n",
    "    cv.imshow('MediaPipe pose',cv.flip(frame,1)) # 좌우반전\n",
    "    if cv.waitKey(5)==ord('q'):\n",
    "      mp_drawing.plot_landmarks(res.pose_world_landmarks,mp_pose.POSE_CONNECTIONS)\n",
    "      break\n",
    "\n",
    "cap.release()\n",
    "cv.destroyAllWindows()"
   ]
  },
  {
   "cell_type": "markdown",
   "metadata": {},
   "source": [
    "# CSV 만들기"
   ]
  },
  {
   "cell_type": "code",
   "execution_count": 11,
   "metadata": {},
   "outputs": [
    {
     "name": "stderr",
     "output_type": "stream",
     "text": [
      "I0000 00:00:1700392518.746909       1 gl_context.cc:344] GL version: 2.1 (2.1 Metal - 88), renderer: Apple M1\n"
     ]
    },
    {
     "name": "stdout",
     "output_type": "stream",
     "text": [
      "프레임 획득에 실패하여 루프를 나갑니다.\n"
     ]
    }
   ],
   "source": [
    "import cv2 as cv\n",
    "import mediapipe as mp\n",
    "import numpy as np\n",
    "import csv\n",
    "\n",
    "mp_pose = mp.solutions.pose\n",
    "pose = mp_pose.Pose(static_image_mode=False, enable_segmentation=True, min_detection_confidence=0.5, min_tracking_confidence=0.5)\n",
    "\n",
    "cap = cv.VideoCapture(videopath)\n",
    "\n",
    "# CSV 파일을 열고, 헤더를 작성합니다.\n",
    "with open('normalized_pose_landmarks.csv', 'w', newline='') as file:\n",
    "    csv_writer = csv.writer(file)\n",
    "    # CSV 파일에 헤더를 작성합니다. 각 랜드마크에 대해 x, y, z 좌표를 저장합니다.\n",
    "    headers = [\"frame\", \"landmark\"]\n",
    "    headers.extend([\"x\", \"y\", \"z\", \"visibility\", \"relative_x\", \"relative_y\", \"relative_z\"])\n",
    "    csv_writer.writerow(headers)\n",
    "\n",
    "    frame_count = 0\n",
    "    while True:\n",
    "        ret, frame = cap.read()\n",
    "        if not ret:\n",
    "            print('프레임 획득에 실패하여 루프를 나갑니다.')\n",
    "            break\n",
    "\n",
    "        results = pose.process(cv.cvtColor(frame, cv.COLOR_BGR2RGB))\n",
    "        if results.pose_landmarks:\n",
    "            landmarks = results.pose_landmarks.landmark\n",
    "            # 몸의 중심(예: 골반 중심)을 기준점으로 사용합니다.\n",
    "            reference_landmark = landmarks[mp_pose.PoseLandmark.LEFT_HIP.value]\n",
    "\n",
    "            for i, landmark in enumerate(landmarks):\n",
    "                # 상대적 위치 계산\n",
    "                relative_x = landmark.x - reference_landmark.x\n",
    "                relative_y = landmark.y - reference_landmark.y\n",
    "                relative_z = landmark.z - reference_landmark.z\n",
    "\n",
    "                # 데이터를 CSV 파일에 작성합니다.\n",
    "                row = [frame_count, i, landmark.x, landmark.y, landmark.z, landmark.visibility, relative_x, relative_y, relative_z]\n",
    "                csv_writer.writerow(row)\n",
    "\n",
    "        frame_count += 1\n",
    "        if cv.waitKey(5) == ord('q'):\n",
    "            break\n",
    "\n",
    "cap.release()\n",
    "cv.destroyAllWindows()"
   ]
  }
 ],
 "metadata": {
  "kernelspec": {
   "display_name": "pose",
   "language": "python",
   "name": "python3"
  },
  "language_info": {
   "codemirror_mode": {
    "name": "ipython",
    "version": 3
   },
   "file_extension": ".py",
   "mimetype": "text/x-python",
   "name": "python",
   "nbconvert_exporter": "python",
   "pygments_lexer": "ipython3",
   "version": "3.8.18"
  }
 },
 "nbformat": 4,
 "nbformat_minor": 2
}
