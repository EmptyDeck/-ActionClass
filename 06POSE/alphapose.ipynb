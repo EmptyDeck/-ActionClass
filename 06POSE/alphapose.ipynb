{
 "cells": [
  {
   "cell_type": "code",
   "execution_count": 27,
   "metadata": {},
   "outputs": [],
   "source": [
    "! cd /Users/owo/HOUSE/-ActionClass/06POSE/AlphaPose"
   ]
  },
  {
   "cell_type": "code",
   "execution_count": 37,
   "metadata": {},
   "outputs": [
    {
     "name": "stdout",
     "output_type": "stream",
     "text": [
      "Requirement already satisfied: natsort in /Users/owo/anaconda3/envs/torchenv/lib/python3.11/site-packages (8.4.0)\n",
      "Requirement already satisfied: numpy in /Users/owo/anaconda3/envs/torchenv/lib/python3.11/site-packages (1.26.2)\n",
      "Requirement already satisfied: numba in /Users/owo/anaconda3/envs/torchenv/lib/python3.11/site-packages (0.58.1)\n",
      "Requirement already satisfied: librosa in /Users/owo/anaconda3/envs/torchenv/lib/python3.11/site-packages (0.10.1)\n",
      "Requirement already satisfied: llvmlite<0.42,>=0.41.0dev0 in /Users/owo/anaconda3/envs/torchenv/lib/python3.11/site-packages (from numba) (0.41.1)\n",
      "Requirement already satisfied: numpy<1.27,>=1.22 in /Users/owo/anaconda3/envs/torchenv/lib/python3.11/site-packages (from numba) (1.26.2)\n",
      "Requirement already satisfied: audioread>=2.1.9 in /Users/owo/anaconda3/envs/torchenv/lib/python3.11/site-packages (from librosa) (3.0.0)\n",
      "Requirement already satisfied: scipy>=1.2.0 in /Users/owo/anaconda3/envs/torchenv/lib/python3.11/site-packages (from librosa) (1.11.1)\n",
      "Requirement already satisfied: scikit-learn>=0.20.0 in /Users/owo/anaconda3/envs/torchenv/lib/python3.11/site-packages (from librosa) (1.2.2)\n",
      "Requirement already satisfied: joblib>=0.14 in /Users/owo/anaconda3/envs/torchenv/lib/python3.11/site-packages (from librosa) (1.2.0)\n",
      "Requirement already satisfied: decorator>=4.3.0 in /Users/owo/anaconda3/envs/torchenv/lib/python3.11/site-packages (from librosa) (5.1.1)\n",
      "Requirement already satisfied: soundfile>=0.12.1 in /Users/owo/anaconda3/envs/torchenv/lib/python3.11/site-packages (from librosa) (0.12.1)\n",
      "Requirement already satisfied: pooch>=1.0 in /Users/owo/anaconda3/envs/torchenv/lib/python3.11/site-packages (from librosa) (1.7.0)\n",
      "Requirement already satisfied: soxr>=0.3.2 in /Users/owo/anaconda3/envs/torchenv/lib/python3.11/site-packages (from librosa) (0.3.5)\n",
      "Requirement already satisfied: typing-extensions>=4.1.1 in /Users/owo/anaconda3/envs/torchenv/lib/python3.11/site-packages (from librosa) (4.6.3)\n",
      "Requirement already satisfied: lazy-loader>=0.1 in /Users/owo/anaconda3/envs/torchenv/lib/python3.11/site-packages (from librosa) (0.3)\n",
      "Requirement already satisfied: msgpack>=1.0 in /Users/owo/anaconda3/envs/torchenv/lib/python3.11/site-packages (from librosa) (1.0.3)\n",
      "Requirement already satisfied: platformdirs>=2.5.0 in /Users/owo/anaconda3/envs/torchenv/lib/python3.11/site-packages (from pooch>=1.0->librosa) (2.5.2)\n",
      "Requirement already satisfied: packaging>=20.0 in /Users/owo/anaconda3/envs/torchenv/lib/python3.11/site-packages (from pooch>=1.0->librosa) (23.0)\n",
      "Requirement already satisfied: requests>=2.19.0 in /Users/owo/anaconda3/envs/torchenv/lib/python3.11/site-packages (from pooch>=1.0->librosa) (2.29.0)\n",
      "Requirement already satisfied: threadpoolctl>=2.0.0 in /Users/owo/anaconda3/envs/torchenv/lib/python3.11/site-packages (from scikit-learn>=0.20.0->librosa) (3.2.0)\n",
      "Requirement already satisfied: cffi>=1.0 in /Users/owo/anaconda3/envs/torchenv/lib/python3.11/site-packages (from soundfile>=0.12.1->librosa) (1.15.1)\n",
      "Requirement already satisfied: pycparser in /Users/owo/anaconda3/envs/torchenv/lib/python3.11/site-packages (from cffi>=1.0->soundfile>=0.12.1->librosa) (2.21)\n",
      "Requirement already satisfied: charset-normalizer<4,>=2 in /Users/owo/anaconda3/envs/torchenv/lib/python3.11/site-packages (from requests>=2.19.0->pooch>=1.0->librosa) (2.0.4)\n",
      "Requirement already satisfied: idna<4,>=2.5 in /Users/owo/anaconda3/envs/torchenv/lib/python3.11/site-packages (from requests>=2.19.0->pooch>=1.0->librosa) (3.4)\n",
      "Requirement already satisfied: urllib3<1.27,>=1.21.1 in /Users/owo/anaconda3/envs/torchenv/lib/python3.11/site-packages (from requests>=2.19.0->pooch>=1.0->librosa) (1.26.16)\n",
      "Requirement already satisfied: certifi>=2017.4.17 in /Users/owo/anaconda3/envs/torchenv/lib/python3.11/site-packages (from requests>=2.19.0->pooch>=1.0->librosa) (2023.7.22)\n",
      "Collecting blosc2\n",
      "  Downloading blosc2-2.3.1-cp311-cp311-macosx_11_0_arm64.whl.metadata (9.1 kB)\n",
      "Collecting FuzzyTM\n",
      "  Downloading FuzzyTM-2.0.5-py3-none-any.whl (29 kB)\n",
      "Requirement already satisfied: numpy>=1.20.3 in /Users/owo/anaconda3/envs/torchenv/lib/python3.11/site-packages (from blosc2) (1.26.2)\n",
      "Collecting ndindex>=1.4 (from blosc2)\n",
      "  Downloading ndindex-1.7-py3-none-any.whl (85 kB)\n",
      "\u001b[2K     \u001b[90m━━━━━━━━━━━━━━━━━━━━━━━━━━━━━━━━━━━━━━━━\u001b[0m \u001b[32m85.7/85.7 kB\u001b[0m \u001b[31m5.1 MB/s\u001b[0m eta \u001b[36m0:00:00\u001b[0m\n",
      "\u001b[?25hRequirement already satisfied: msgpack in /Users/owo/anaconda3/envs/torchenv/lib/python3.11/site-packages (from blosc2) (1.0.3)\n",
      "Requirement already satisfied: py-cpuinfo in /Users/owo/anaconda3/envs/torchenv/lib/python3.11/site-packages (from blosc2) (9.0.0)\n",
      "Requirement already satisfied: pandas in /Users/owo/anaconda3/envs/torchenv/lib/python3.11/site-packages (from FuzzyTM) (1.5.3)\n",
      "Requirement already satisfied: scipy in /Users/owo/anaconda3/envs/torchenv/lib/python3.11/site-packages (from FuzzyTM) (1.11.1)\n",
      "Collecting pyfume (from FuzzyTM)\n",
      "  Downloading pyFUME-0.2.25-py3-none-any.whl (67 kB)\n",
      "\u001b[2K     \u001b[90m━━━━━━━━━━━━━━━━━━━━━━━━━━━━━━━━━━━━━━━━\u001b[0m \u001b[32m67.1/67.1 kB\u001b[0m \u001b[31m5.6 MB/s\u001b[0m eta \u001b[36m0:00:00\u001b[0m\n",
      "\u001b[?25hRequirement already satisfied: python-dateutil>=2.8.1 in /Users/owo/anaconda3/envs/torchenv/lib/python3.11/site-packages (from pandas->FuzzyTM) (2.8.2)\n",
      "Requirement already satisfied: pytz>=2020.1 in /Users/owo/anaconda3/envs/torchenv/lib/python3.11/site-packages (from pandas->FuzzyTM) (2022.7)\n",
      "Collecting simpful (from pyfume->FuzzyTM)\n",
      "  Downloading simpful-2.11.0-py3-none-any.whl (32 kB)\n",
      "Collecting fst-pso (from pyfume->FuzzyTM)\n",
      "  Downloading fst-pso-1.8.1.tar.gz (18 kB)\n",
      "  Preparing metadata (setup.py) ... \u001b[?25ldone\n",
      "\u001b[?25hRequirement already satisfied: six>=1.5 in /Users/owo/anaconda3/envs/torchenv/lib/python3.11/site-packages (from python-dateutil>=2.8.1->pandas->FuzzyTM) (1.16.0)\n",
      "Collecting miniful (from fst-pso->pyfume->FuzzyTM)\n",
      "  Downloading miniful-0.0.6.tar.gz (2.8 kB)\n",
      "  Preparing metadata (setup.py) ... \u001b[?25ldone\n",
      "\u001b[?25hDownloading blosc2-2.3.1-cp311-cp311-macosx_11_0_arm64.whl (3.4 MB)\n",
      "\u001b[2K   \u001b[90m━━━━━━━━━━━━━━━━━━━━━━━━━━━━━━━━━━━━━━━━\u001b[0m \u001b[32m3.4/3.4 MB\u001b[0m \u001b[31m8.4 MB/s\u001b[0m eta \u001b[36m0:00:00\u001b[0m00:01\u001b[0m00:01\u001b[0mm\n",
      "\u001b[?25hBuilding wheels for collected packages: fst-pso, miniful\n",
      "  Building wheel for fst-pso (setup.py) ... \u001b[?25ldone\n",
      "\u001b[?25h  Created wheel for fst-pso: filename=fst_pso-1.8.1-py3-none-any.whl size=20430 sha256=7e17f79526746caeafa6eddc8e1a5d181b565ed38b9875d7bd7ce54b0b0d03ca\n",
      "  Stored in directory: /Users/owo/Library/Caches/pip/wheels/69/f5/e5/18ad53fe1ed6b2af9fad05ec052e4acbac8e92441df44bad2e\n",
      "  Building wheel for miniful (setup.py) ... \u001b[?25ldone\n",
      "\u001b[?25h  Created wheel for miniful: filename=miniful-0.0.6-py3-none-any.whl size=3513 sha256=100d2a18527adaa12016128cc61eb5c677d4ddfc39245bb7349df26ad8f67a01\n",
      "  Stored in directory: /Users/owo/Library/Caches/pip/wheels/9d/ff/2f/afe4cd56f47de147407705626517d68bea0f3b74eb1fb168e6\n",
      "Successfully built fst-pso miniful\n",
      "Installing collected packages: ndindex, simpful, miniful, blosc2, fst-pso, pyfume, FuzzyTM\n",
      "\u001b[31mERROR: pip's dependency resolver does not currently take into account all the packages that are installed. This behaviour is the source of the following dependency conflicts.\n",
      "tables 3.8.0 requires blosc2~=2.0.0, but you have blosc2 2.3.1 which is incompatible.\u001b[0m\u001b[31m\n",
      "\u001b[0mSuccessfully installed FuzzyTM-2.0.5 blosc2-2.3.1 fst-pso-1.8.1 miniful-0.0.6 ndindex-1.7 pyfume-0.2.25 simpful-2.11.0\n"
     ]
    }
   ],
   "source": [
    "!pip install natsort\n",
    "!pip install --upgrade numpy\n",
    "!pip install --upgrade numba librosa\n",
    "!pip install blosc2 FuzzyTM"
   ]
  },
  {
   "cell_type": "code",
   "execution_count": 38,
   "metadata": {},
   "outputs": [
    {
     "name": "stdout",
     "output_type": "stream",
     "text": [
      "Collecting blosc2==2.0.0\n",
      "  Downloading blosc2-2.0.0-cp311-cp311-macosx_11_0_arm64.whl (3.1 MB)\n",
      "\u001b[2K     \u001b[90m━━━━━━━━━━━━━━━━━━━━━━━━━━━━━━━━━━━━━━━━\u001b[0m \u001b[32m3.1/3.1 MB\u001b[0m \u001b[31m2.6 MB/s\u001b[0m eta \u001b[36m0:00:00\u001b[0m00:01\u001b[0m00:01\u001b[0m\n",
      "\u001b[?25hRequirement already satisfied: msgpack in /Users/owo/anaconda3/envs/torchenv/lib/python3.11/site-packages (from blosc2==2.0.0) (1.0.3)\n",
      "Installing collected packages: blosc2\n",
      "  Attempting uninstall: blosc2\n",
      "    Found existing installation: blosc2 2.3.1\n",
      "    Uninstalling blosc2-2.3.1:\n",
      "      Successfully uninstalled blosc2-2.3.1\n",
      "Successfully installed blosc2-2.0.0\n"
     ]
    }
   ],
   "source": [
    "!pip install blosc2==2.0.0"
   ]
  },
  {
   "cell_type": "code",
   "execution_count": 41,
   "metadata": {},
   "outputs": [
    {
     "name": "stdout",
     "output_type": "stream",
     "text": [
      "Requirement already satisfied: tables in /Users/owo/anaconda3/envs/torchenv/lib/python3.11/site-packages (3.8.0)\n",
      "Collecting tables\n",
      "  Downloading tables-3.9.1.tar.gz (4.7 MB)\n",
      "\u001b[2K     \u001b[90m━━━━━━━━━━━━━━━━━━━━━━━━━━━━━━━━━━━━━━━━\u001b[0m \u001b[32m4.7/4.7 MB\u001b[0m \u001b[31m8.5 MB/s\u001b[0m eta \u001b[36m0:00:00\u001b[0ma \u001b[36m0:00:01\u001b[0mm\n",
      "\u001b[?25h  Installing build dependencies ... \u001b[?25ldone\n",
      "\u001b[?25h  Getting requirements to build wheel ... \u001b[?25ldone\n",
      "\u001b[?25h  Preparing metadata (pyproject.toml) ... \u001b[?25ldone\n",
      "\u001b[?25hRequirement already satisfied: numpy>=1.19.0 in /Users/owo/anaconda3/envs/torchenv/lib/python3.11/site-packages (from tables) (1.26.2)\n",
      "Requirement already satisfied: numexpr>=2.6.2 in /Users/owo/anaconda3/envs/torchenv/lib/python3.11/site-packages (from tables) (2.8.4)\n",
      "Requirement already satisfied: packaging in /Users/owo/anaconda3/envs/torchenv/lib/python3.11/site-packages (from tables) (23.0)\n",
      "Requirement already satisfied: py-cpuinfo in /Users/owo/anaconda3/envs/torchenv/lib/python3.11/site-packages (from tables) (9.0.0)\n",
      "Collecting blosc2>=2.2.8 (from tables)\n",
      "  Using cached blosc2-2.3.1-cp311-cp311-macosx_11_0_arm64.whl.metadata (9.1 kB)\n",
      "Requirement already satisfied: ndindex>=1.4 in /Users/owo/anaconda3/envs/torchenv/lib/python3.11/site-packages (from blosc2>=2.2.8->tables) (1.7)\n",
      "Requirement already satisfied: msgpack in /Users/owo/anaconda3/envs/torchenv/lib/python3.11/site-packages (from blosc2>=2.2.8->tables) (1.0.3)\n",
      "Using cached blosc2-2.3.1-cp311-cp311-macosx_11_0_arm64.whl (3.4 MB)\n",
      "Building wheels for collected packages: tables\n",
      "  Building wheel for tables (pyproject.toml) ... \u001b[?25ldone\n",
      "\u001b[?25h  Created wheel for tables: filename=tables-3.9.1-cp311-cp311-macosx_11_0_arm64.whl size=1271702 sha256=32800f5f46eedbed35dfde66e71bd18aaf75274b8a98cee1d1fb420b44863e0b\n",
      "  Stored in directory: /Users/owo/Library/Caches/pip/wheels/06/51/9b/7ff76771e9723682ec81fd36c9fd8c279a8897dafd0fdb9117\n",
      "Successfully built tables\n",
      "Installing collected packages: blosc2, tables\n",
      "  Attempting uninstall: blosc2\n",
      "    Found existing installation: blosc2 2.0.0\n",
      "    Uninstalling blosc2-2.0.0:\n",
      "      Successfully uninstalled blosc2-2.0.0\n",
      "  Attempting uninstall: tables\n",
      "    Found existing installation: tables 3.8.0\n",
      "    Uninstalling tables-3.8.0:\n",
      "      Successfully uninstalled tables-3.8.0\n",
      "Successfully installed blosc2-2.3.1 tables-3.9.1\n"
     ]
    }
   ],
   "source": [
    "!pip install --upgrade tables"
   ]
  },
  {
   "cell_type": "code",
   "execution_count": 1,
   "metadata": {},
   "outputs": [
    {
     "name": "stdout",
     "output_type": "stream",
     "text": [
      "/Users/owo/HOUSE/-ActionClass/06POSE/AlphaPose\n"
     ]
    }
   ],
   "source": [
    "import sys\n",
    "import os\n",
    "\n",
    "# Python 경로에 AlphaPose 디렉토리 추가\n",
    "sys.path.append(\"/Users/owo/HOUSE/-ActionClass/06POSE/AlphaPose\")\n",
    "\n",
    "# 작업 디렉토리 변경\n",
    "os.chdir(\"/Users/owo/HOUSE/-ActionClass/06POSE/Alphapose\")\n",
    "\n",
    "# 현재 작업 디렉토리 확인\n",
    "print(os.getcwd())\n"
   ]
  },
  {
   "cell_type": "code",
   "execution_count": 36,
   "metadata": {},
   "outputs": [
    {
     "name": "stdout",
     "output_type": "stream",
     "text": [
      "Requirement already satisfied: scipy in /Users/owo/anaconda3/envs/pose/lib/python3.8/site-packages (1.10.1)\n",
      "Requirement already satisfied: numpy<1.27.0,>=1.19.5 in /Users/owo/anaconda3/envs/pose/lib/python3.8/site-packages (from scipy) (1.24.4)\n",
      "Requirement already satisfied: cython_bbox in /Users/owo/anaconda3/envs/pose/lib/python3.8/site-packages (0.1.5)\n",
      "Requirement already satisfied: Cython in /Users/owo/anaconda3/envs/pose/lib/python3.8/site-packages (from cython_bbox) (3.0.5)\n",
      "Requirement already satisfied: numpy in /Users/owo/anaconda3/envs/pose/lib/python3.8/site-packages (from cython_bbox) (1.24.4)\n",
      "Collecting easydict\n",
      "  Downloading easydict-1.11.tar.gz (6.6 kB)\n",
      "  Preparing metadata (setup.py) ... \u001b[?25ldone\n",
      "\u001b[?25hBuilding wheels for collected packages: easydict\n",
      "  Building wheel for easydict (setup.py) ... \u001b[?25ldone\n",
      "\u001b[?25h  Created wheel for easydict: filename=easydict-1.11-py3-none-any.whl size=6661 sha256=f279240dd1a5c1cf30756ded5e4172acc635ed1a52afd3227faeca3a1604e5ff\n",
      "  Stored in directory: /Users/owo/Library/Caches/pip/wheels/4a/da/c3/24f93937d475a9156e9b244f627b593f9c1386ce64a0cf1c65\n",
      "Successfully built easydict\n",
      "Installing collected packages: easydict\n",
      "Successfully installed easydict-1.11\n"
     ]
    }
   ],
   "source": [
    "! python -m pip install scipy\n",
    "! pip install cython_bbox\n",
    "! pip install easydict\n"
   ]
  },
  {
   "cell_type": "code",
   "execution_count": 8,
   "metadata": {},
   "outputs": [
    {
     "name": "stdout",
     "output_type": "stream",
     "text": [
      "+ CONFIG=pretrained_models/256x192_res50_lr1e-3_2x-regression.yaml\n",
      "+ CKPT=pretrained_models/multi_domain_fast50_regression_256x192.pth\n",
      "+ VIDEO=/Users/owo/HOUSE/-ActionClass/06POSE/vid.mp4\n",
      "+ OUTDIR=/Users/owo/HOUSE/-ActionClass/06POSE\n",
      "+ python scripts/demo_inference.py --cfg pretrained_models/256x192_res50_lr1e-3_2x-regression.yaml --checkpoint pretrained_models/multi_domain_fast50_regression_256x192.pth --video /Users/owo/HOUSE/-ActionClass/06POSE/vid.mp4 --outdir /Users/owo/HOUSE/-ActionClass/06POSE --detector yolo --save_img --save_video\n",
      "Traceback (most recent call last):\n",
      "  File \"scripts/demo_inference.py\", line 19, in <module>\n",
      "    from alphapose.utils.detector import DetectionLoader\n",
      "  File \"/Users/owo/HOUSE/-ActionClass/06POSE/AlphaPose/scripts/alphapose/utils/detector.py\", line 12, in <module>\n",
      "    from alphapose.utils.presets import SimpleTransform, SimpleTransform3DSMPL\n",
      "  File \"/Users/owo/HOUSE/-ActionClass/06POSE/AlphaPose/scripts/alphapose/utils/presets/__init__.py\", line 1, in <module>\n",
      "    from .simple_transform import SimpleTransform\n",
      "  File \"/Users/owo/HOUSE/-ActionClass/06POSE/AlphaPose/scripts/alphapose/utils/presets/simple_transform.py\", line 22, in <module>\n",
      "    from ..roi_align import RoIAlign\n",
      "  File \"/Users/owo/HOUSE/-ActionClass/06POSE/AlphaPose/scripts/alphapose/utils/roi_align/__init__.py\", line 1, in <module>\n",
      "    from .roi_align import roi_align, RoIAlign\n",
      "  File \"/Users/owo/HOUSE/-ActionClass/06POSE/AlphaPose/scripts/alphapose/utils/roi_align/roi_align.py\", line 6, in <module>\n",
      "    from . import roi_align_cuda\n",
      "ImportError: cannot import name 'roi_align_cuda' from partially initialized module 'alphapose.utils.roi_align' (most likely due to a circular import) (/Users/owo/HOUSE/-ActionClass/06POSE/AlphaPose/scripts/alphapose/utils/roi_align/__init__.py)\n"
     ]
    }
   ],
   "source": [
    "# 필요한 경로를 Python 변수로 설정\n",
    "config_path = 'pretrained_models/256x192_res50_lr1e-3_2x-regression.yaml'  # 구성 파일 경로\n",
    "checkpoint_path = 'pretrained_models/multi_domain_fast50_regression_256x192.pth'  # 가중치 파일 경로\n",
    "video_path = '/Users/owo/HOUSE/-ActionClass/06POSE/vid.mp4'  # 비디오 파일 경로\n",
    "output_dir = '/Users/owo/HOUSE/-ActionClass/06POSE'  # 결과를 저장할 디렉토리 경로\n",
    "\n",
    "# 이 부분은 시스템 터미널에서 실행해야 하는 명령이므로 주피터 노트북에서는 실행할 수 없습니다.\n",
    "# AlphaPose 실행 명령어 구성\n",
    "alphapose_command = f'./scripts/inference.sh {config_path} {checkpoint_path} {video_path} {output_dir} --pose_track'\n",
    "\n",
    "# 명령어 실행\n",
    "! {alphapose_command}  # 이 명령은 주피터 노트북에서는 실행할 수 없습니다."
   ]
  },
  {
   "cell_type": "code",
   "execution_count": 25,
   "metadata": {},
   "outputs": [
    {
     "data": {
      "text/plain": [
       "'./scripts/inference.sh pretrained_models/256x192_res50_lr1e-3_2x-regression.yaml pretrained_models/multi_domain_fast50_regression_256x192.pth /Users/owo/HOUSE/-ActionClass/06POSE/vid.mp4 /Users/owo/HOUSE/-ActionClass/06POSE --pose_track'"
      ]
     },
     "execution_count": 25,
     "metadata": {},
     "output_type": "execute_result"
    }
   ],
   "source": [
    "alphapose_command"
   ]
  },
  {
   "cell_type": "code",
   "execution_count": null,
   "metadata": {},
   "outputs": [],
   "source": [
    "./scripts/inference.sh ${CONFIG} ${CHECKPOINT} ${VIDEO_NAME}  ${OUTPUT_DIR}, --pose_track"
   ]
  },
  {
   "cell_type": "code",
   "execution_count": 3,
   "metadata": {},
   "outputs": [
    {
     "name": "stdout",
     "output_type": "stream",
     "text": [
      "python: can't open file '/Users/owo/HOUSE/-ActionClass/06POSE/scripts/demo_inference.py': [Errno 2] No such file or directory\n"
     ]
    }
   ],
   "source": [
    "! python scripts/demo_inference.py --cfg configs/halpe_coco_wholebody_136/resnet/256x192_res50_lr1e-3_2x-dcn-combined.yaml --checkpoint pretrained_models/multi_domain_fast50_dcn_combined_256x192.pth --indir examples/demo/ --save_img"
   ]
  },
  {
   "cell_type": "markdown",
   "metadata": {},
   "source": [
    "or, you can run with (this version is a little faster and more accurate on body keypoints, but its performance on hand keypoints is worser):"
   ]
  },
  {
   "cell_type": "code",
   "execution_count": null,
   "metadata": {},
   "outputs": [],
   "source": [
    "! python scripts/demo_inference.py --cfg configs/halpe_coco_wholebody_136/resnet/256x192_res50_lr1e-3_2x-regression.yaml --checkpoint pretrained_models/multi_domain_fast50_regression_256x192.pth --indir examples/demo/ --save_img"
   ]
  }
 ],
 "metadata": {
  "kernelspec": {
   "display_name": "torchenv",
   "language": "python",
   "name": "python3"
  },
  "language_info": {
   "codemirror_mode": {
    "name": "ipython",
    "version": 3
   },
   "file_extension": ".py",
   "mimetype": "text/x-python",
   "name": "python",
   "nbconvert_exporter": "python",
   "pygments_lexer": "ipython3",
   "version": "3.8.18"
  }
 },
 "nbformat": 4,
 "nbformat_minor": 2
}
