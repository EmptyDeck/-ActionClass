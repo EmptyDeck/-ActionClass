{
 "cells": [
  {
   "cell_type": "code",
   "execution_count": 1,
   "metadata": {},
   "outputs": [
    {
     "name": "stdout",
     "output_type": "stream",
     "text": [
      "Requirement already satisfied: av in /Users/owo/anaconda3/envs/pose/lib/python3.8/site-packages (11.0.0)\n",
      "Requirement already satisfied: ffmpeg-python in /Users/owo/anaconda3/envs/pose/lib/python3.8/site-packages (0.2.0)\n",
      "Requirement already satisfied: future in /Users/owo/anaconda3/envs/pose/lib/python3.8/site-packages (from ffmpeg-python) (0.18.3)\n",
      "Requirement already satisfied: opencv-python in /Users/owo/anaconda3/envs/pose/lib/python3.8/site-packages (4.8.1.78)\n",
      "Requirement already satisfied: numpy>=1.21.0 in /Users/owo/anaconda3/envs/pose/lib/python3.8/site-packages (from opencv-python) (1.24.4)\n",
      "Requirement already satisfied: mediapipe in /Users/owo/anaconda3/envs/pose/lib/python3.8/site-packages (0.10.8)\n",
      "Requirement already satisfied: absl-py in /Users/owo/anaconda3/envs/pose/lib/python3.8/site-packages (from mediapipe) (2.0.0)\n",
      "Requirement already satisfied: attrs>=19.1.0 in /Users/owo/anaconda3/envs/pose/lib/python3.8/site-packages (from mediapipe) (23.1.0)\n",
      "Requirement already satisfied: flatbuffers>=2.0 in /Users/owo/anaconda3/envs/pose/lib/python3.8/site-packages (from mediapipe) (23.5.26)\n",
      "Requirement already satisfied: matplotlib in /Users/owo/anaconda3/envs/pose/lib/python3.8/site-packages (from mediapipe) (3.7.4)\n",
      "Requirement already satisfied: numpy in /Users/owo/anaconda3/envs/pose/lib/python3.8/site-packages (from mediapipe) (1.24.4)\n",
      "Requirement already satisfied: opencv-contrib-python in /Users/owo/anaconda3/envs/pose/lib/python3.8/site-packages (from mediapipe) (4.8.1.78)\n",
      "Requirement already satisfied: protobuf<4,>=3.11 in /Users/owo/anaconda3/envs/pose/lib/python3.8/site-packages (from mediapipe) (3.20.3)\n",
      "Requirement already satisfied: sounddevice>=0.4.4 in /Users/owo/anaconda3/envs/pose/lib/python3.8/site-packages (from mediapipe) (0.4.6)\n",
      "Requirement already satisfied: CFFI>=1.0 in /Users/owo/anaconda3/envs/pose/lib/python3.8/site-packages (from sounddevice>=0.4.4->mediapipe) (1.16.0)\n",
      "Requirement already satisfied: contourpy>=1.0.1 in /Users/owo/anaconda3/envs/pose/lib/python3.8/site-packages (from matplotlib->mediapipe) (1.1.1)\n",
      "Requirement already satisfied: cycler>=0.10 in /Users/owo/anaconda3/envs/pose/lib/python3.8/site-packages (from matplotlib->mediapipe) (0.12.1)\n",
      "Requirement already satisfied: fonttools>=4.22.0 in /Users/owo/anaconda3/envs/pose/lib/python3.8/site-packages (from matplotlib->mediapipe) (4.44.3)\n",
      "Requirement already satisfied: kiwisolver>=1.0.1 in /Users/owo/anaconda3/envs/pose/lib/python3.8/site-packages (from matplotlib->mediapipe) (1.4.5)\n",
      "Requirement already satisfied: packaging>=20.0 in /Users/owo/anaconda3/envs/pose/lib/python3.8/site-packages (from matplotlib->mediapipe) (23.2)\n",
      "Requirement already satisfied: pillow>=6.2.0 in /Users/owo/anaconda3/envs/pose/lib/python3.8/site-packages (from matplotlib->mediapipe) (10.0.1)\n",
      "Requirement already satisfied: pyparsing>=2.3.1 in /Users/owo/anaconda3/envs/pose/lib/python3.8/site-packages (from matplotlib->mediapipe) (3.1.1)\n",
      "Requirement already satisfied: python-dateutil>=2.7 in /Users/owo/anaconda3/envs/pose/lib/python3.8/site-packages (from matplotlib->mediapipe) (2.8.2)\n",
      "Requirement already satisfied: importlib-resources>=3.2.0 in /Users/owo/anaconda3/envs/pose/lib/python3.8/site-packages (from matplotlib->mediapipe) (6.1.1)\n",
      "Requirement already satisfied: pycparser in /Users/owo/anaconda3/envs/pose/lib/python3.8/site-packages (from CFFI>=1.0->sounddevice>=0.4.4->mediapipe) (2.21)\n",
      "Requirement already satisfied: zipp>=3.1.0 in /Users/owo/anaconda3/envs/pose/lib/python3.8/site-packages (from importlib-resources>=3.2.0->matplotlib->mediapipe) (3.17.0)\n",
      "Requirement already satisfied: six>=1.5 in /Users/owo/anaconda3/envs/pose/lib/python3.8/site-packages (from python-dateutil>=2.7->matplotlib->mediapipe) (1.16.0)\n",
      "Requirement already satisfied: pandas in /Users/owo/anaconda3/envs/pose/lib/python3.8/site-packages (2.0.3)\n",
      "Requirement already satisfied: python-dateutil>=2.8.2 in /Users/owo/anaconda3/envs/pose/lib/python3.8/site-packages (from pandas) (2.8.2)\n",
      "Requirement already satisfied: pytz>=2020.1 in /Users/owo/anaconda3/envs/pose/lib/python3.8/site-packages (from pandas) (2023.3.post1)\n",
      "Requirement already satisfied: tzdata>=2022.1 in /Users/owo/anaconda3/envs/pose/lib/python3.8/site-packages (from pandas) (2023.3)\n",
      "Requirement already satisfied: numpy>=1.20.3 in /Users/owo/anaconda3/envs/pose/lib/python3.8/site-packages (from pandas) (1.24.4)\n",
      "Requirement already satisfied: six>=1.5 in /Users/owo/anaconda3/envs/pose/lib/python3.8/site-packages (from python-dateutil>=2.8.2->pandas) (1.16.0)\n"
     ]
    }
   ],
   "source": [
    "! pip install av\n",
    "! pip install ffmpeg-python\n",
    "! pip install opencv-python\n",
    "! pip install mediapipe\n",
    "! pip install pandas"
   ]
  },
  {
   "cell_type": "markdown",
   "metadata": {},
   "source": [
    "# start\n"
   ]
  },
  {
   "cell_type": "markdown",
   "metadata": {},
   "source": [
    "## import"
   ]
  },
  {
   "cell_type": "code",
   "execution_count": 2,
   "metadata": {},
   "outputs": [],
   "source": [
    "import cv2 as cv\n",
    "import mediapipe as mp\n",
    "import pandas as pd\n",
    "import os\n",
    "import torch\n",
    "from torch import tensor\n",
    "import torch.nn as nn\n",
    "import torch.optim as optim\n",
    "from torch.utils.data import Dataset, DataLoader\n",
    "from torch.utils.data import random_split\n",
    "from torch.optim.lr_scheduler import ReduceLROnPlateau\n",
    "import matplotlib.pyplot as plt\n",
    "import ffmpeg\n"
   ]
  },
  {
   "cell_type": "markdown",
   "metadata": {},
   "source": [
    "## skeleton to csv"
   ]
  },
  {
   "cell_type": "code",
   "execution_count": 3,
   "metadata": {},
   "outputs": [],
   "source": [
    "def skeleton_csv(video_path ='', output_video_path ='', make_video=True, output_video_name='skeleton_video'):\n",
    "    try:\n",
    "        # Initialize MediaPipe Pose\n",
    "        mp_pose = mp.solutions.pose\n",
    "        mp_drawing = mp.solutions.drawing_utils\n",
    "        pose = mp_pose.Pose(static_image_mode=False, model_complexity=1, enable_segmentation=False, min_detection_confidence=0.5)\n",
    "\n",
    "        cap = cv.VideoCapture(video_path)\n",
    "        if not cap.isOpened():\n",
    "            print(\"Error: Unable to open video file at path:\", video_path)\n",
    "            return None\n",
    "        all_landmarks = []\n",
    "\n",
    "        # Get video properties for output video\n",
    "        frame_width = int(cap.get(cv.CAP_PROP_FRAME_WIDTH))\n",
    "        frame_height = int(cap.get(cv.CAP_PROP_FRAME_HEIGHT))\n",
    "        fps = cap.get(cv.CAP_PROP_FPS)\n",
    "\n",
    "        # Define the codec and create VideoWriter object\n",
    "        out = None\n",
    "        if make_video:\n",
    "            output_video_name = output_video_name + '.mp4'\n",
    "            output_video_path = os.path.join(output_video_path, output_video_name)\n",
    "            out = cv.VideoWriter(output_video_path, cv.VideoWriter_fourcc(*'mp4v'), fps, (frame_width, frame_height))\n",
    "\n",
    "        while cap.isOpened():\n",
    "            success, image = cap.read()\n",
    "            if not success:\n",
    "                break\n",
    "\n",
    "            image_rgb = cv.cvtColor(image, cv.COLOR_BGR2RGB)\n",
    "            results = pose.process(image_rgb)\n",
    "\n",
    "            if results.pose_landmarks:\n",
    "                # Draw the pose annotation on the image\n",
    "                mp_drawing.draw_landmarks(image, results.pose_landmarks, mp_pose.POSE_CONNECTIONS)\n",
    "\n",
    "                # Extract and store landmarks\n",
    "                ref_x = (results.pose_landmarks.landmark[23].x + results.pose_landmarks.landmark[24].x) / 2\n",
    "                ref_y = (results.pose_landmarks.landmark[23].y + results.pose_landmarks.landmark[24].y) / 2\n",
    "                ref_z = (results.pose_landmarks.landmark[23].z + results.pose_landmarks.landmark[24].z) / 2\n",
    "\n",
    "                landmarks = []\n",
    "                for lm in results.pose_landmarks.landmark:\n",
    "                    rel_x, rel_y, rel_z = lm.x - ref_x, lm.y - ref_y, lm.z - ref_z\n",
    "                    landmarks.extend([rel_x, rel_y, rel_z, lm.visibility])\n",
    "                all_landmarks.append(landmarks)\n",
    "\n",
    "                if make_video:\n",
    "                    out.write(image)  # Write the frame with pose to the output video\n",
    "\n",
    "        cap.release()\n",
    "        if make_video:\n",
    "            out.release()\n",
    "\n",
    "        df = pd.DataFrame(all_landmarks)\n",
    "\n",
    "        #return df\n",
    "        skeletons_tensor = torch.tensor(all_landmarks, dtype=torch.float32)\n",
    "        print(skeletons_tensor.shape)\n",
    "        return skeletons_tensor\n",
    "    except:\n",
    "        return torch.Tensor([1])  # 오류 발생 시 기본 텐서 반환\n"
   ]
  },
  {
   "cell_type": "code",
   "execution_count": 4,
   "metadata": {},
   "outputs": [],
   "source": [
    "def skeleton_csv90frames(video_path='', output_video_path='', make_video=True, output_video_name='skeleton_video'):\n",
    "\n",
    "    try:\n",
    "        ffmpeg.probe(video_path)\n",
    "    except ffmpeg.Error as e:\n",
    "        print(f\"FFmpeg error for file {video_path}: {e.stderr}\")\n",
    "        return torch.Tensor([1])  # Return a default tensor if FFmpeg cannot read the file\n",
    "\n",
    "\n",
    "    # Initialize MediaPipe Pose\n",
    "    mp_pose = mp.solutions.pose\n",
    "    mp_drawing = mp.solutions.drawing_utils\n",
    "    pose = mp_pose.Pose(static_image_mode=False, model_complexity=1, enable_segmentation=False, min_detection_confidence=0.5)\n",
    "\n",
    "    cap = cv.VideoCapture(video_path)\n",
    "    if not cap.isOpened():\n",
    "        print(\"Error: Unable to open video file at path:\", video_path)\n",
    "        return torch.Tensor([1]) # prevent from None going in to dataset (if not, learning stops)\n",
    "    all_landmarks = []\n",
    "\n",
    "    # Get video properties for output video\n",
    "    frame_width = int(cap.get(cv.CAP_PROP_FRAME_WIDTH))\n",
    "    frame_height = int(cap.get(cv.CAP_PROP_FRAME_HEIGHT))\n",
    "    fps = cap.get(cv.CAP_PROP_FPS)\n",
    "\n",
    "    # Define the codec and create VideoWriter object\n",
    "    out = None\n",
    "    if make_video: \n",
    "        output_video_name = output_video_name + '.mp4'\n",
    "        output_video_path = os.path.join(output_video_path, output_video_name)\n",
    "        out = cv.VideoWriter(output_video_path, cv.VideoWriter_fourcc(*'mp4v'), fps, (frame_width, frame_height))\n",
    "\n",
    "    frame_count = 0\n",
    "    max_frames = 10000  # Process only first 90 frames\n",
    "\n",
    "    while cap.isOpened() and frame_count < max_frames:\n",
    "        success, image = cap.read()\n",
    "        if not success:\n",
    "            break\n",
    "\n",
    "        image_rgb = cv.cvtColor(image, cv.COLOR_BGR2RGB)\n",
    "        results = pose.process(image_rgb)\n",
    "\n",
    "        if results.pose_landmarks:\n",
    "            # Draw the pose annotation on the image\n",
    "            mp_drawing.draw_landmarks(image, results.pose_landmarks, mp_pose.POSE_CONNECTIONS)\n",
    "\n",
    "            # Extract and store landmarks\n",
    "            ref_x = (results.pose_landmarks.landmark[23].x + results.pose_landmarks.landmark[24].x) / 2\n",
    "            ref_y = (results.pose_landmarks.landmark[23].y + results.pose_landmarks.landmark[24].y) / 2\n",
    "            ref_z = (results.pose_landmarks.landmark[23].z + results.pose_landmarks.landmark[24].z) / 2\n",
    "\n",
    "            landmarks = []\n",
    "            for lm in results.pose_landmarks.landmark:\n",
    "                rel_x, rel_y, rel_z = lm.x - ref_x, lm.y - ref_y, lm.z - ref_z\n",
    "                landmarks.extend([rel_x, rel_y, rel_z, lm.visibility])\n",
    "            all_landmarks.append(landmarks)\n",
    "\n",
    "            if make_video:\n",
    "                out.write(image)  # Write the frame with pose to the output video\n",
    "\n",
    "        frame_count += 1  # Increment frame count\n",
    "\n",
    "    cap.release()\n",
    "    if make_video:\n",
    "        out.release()\n",
    "\n",
    "\n",
    "    skeletons_tensor = torch.tensor(all_landmarks, dtype=torch.float32)\n",
    "    if skeletons_tensor is None:\n",
    "        skeletons_tensor = torch.Tensor([1]) # Prevent from None type return\n",
    "    return skeletons_tensor"
   ]
  },
  {
   "cell_type": "markdown",
   "metadata": {},
   "source": [
    "# Model"
   ]
  },
  {
   "cell_type": "code",
   "execution_count": 5,
   "metadata": {},
   "outputs": [],
   "source": [
    "class LSTMModel(nn.Module):\n",
    "    def __init__(self, input_size, hidden_size, num_layers, num_classes):\n",
    "        super(LSTMModel, self).__init__()\n",
    "        self.lstm = nn.LSTM(input_size, hidden_size, num_layers, batch_first=True)\n",
    "        self.fc = nn.Linear(hidden_size, num_classes)\n",
    "\n",
    "    def forward(self, x):\n",
    "        out, _ = self.lstm(x)\n",
    "        out = self.fc(out[:, -1, :])\n",
    "        return out"
   ]
  },
  {
   "cell_type": "markdown",
   "metadata": {},
   "source": [
    "# Get dataset - video"
   ]
  },
  {
   "cell_type": "code",
   "execution_count": 6,
   "metadata": {},
   "outputs": [],
   "source": [
    "class UCF4Dataset(Dataset):\n",
    "    def __init__(self, directory):\n",
    "        ds_store_path = os.path.join(directory, '.DS_Store')\n",
    "        if os.path.exists(ds_store_path):\n",
    "            os.remove(ds_store_path)\n",
    "        self.directory = directory\n",
    "        self.classes = os.listdir(directory)\n",
    "        self.data = []\n",
    "\n",
    "        # ignore ._ files  (Mac os system folder)\n",
    "        for class_name in self.classes:\n",
    "            class_path = os.path.join(directory, class_name)\n",
    "            for video in os.listdir(class_path):\n",
    "                if not video.startswith('.'):\n",
    "                    self.data.append((os.path.join(class_path, video), class_name))\n",
    "        #print(\"Classes name : \",self.classes)\n",
    "        print(self.data)\n",
    "        # MediaPipe 초기화\n",
    "        self.mp_pose = mp.solutions.pose\n",
    "        self.pose = self.mp_pose.Pose(static_image_mode=False, model_complexity=1)\n",
    "\n",
    "    def __len__(self):\n",
    "        return len(self.data)\n",
    "\n",
    "    def __getitem__(self, idx):\n",
    "        video_path, class_name = self.data[idx]\n",
    "        print(\"video path\",video_path)\n",
    "        if os.path.exists(video_path):\n",
    "            print(f'{video_path} 경로가 존재합니다.')\n",
    "        else:\n",
    "            print(f'{video_path} 경로가 존재하지 않습니다.')\n",
    "        print(\"class name\",class_name)\n",
    "        skeletons = skeleton_csv90frames(video_path=video_path,make_video=False)\n",
    "\n",
    "        label = self.classes.index(class_name)\n",
    "        return skeletons, label"
   ]
  },
  {
   "cell_type": "markdown",
   "metadata": {},
   "source": [
    "## Dataset Path"
   ]
  },
  {
   "cell_type": "code",
   "execution_count": 7,
   "metadata": {},
   "outputs": [
    {
     "name": "stdout",
     "output_type": "stream",
     "text": [
      "../data/UCF101/UCF4 small/ 경로가 존재합니다.\n"
     ]
    }
   ],
   "source": [
    "import os\n",
    "\n",
    "# 데이터셋 및 데이터 로더 초기화\n",
    "#dataset_path = '..\\\\data\\\\UCF101\\\\UCF4 small\\\\'  # 추출된 데이터셋의 경로\n",
    "#dataset_path = 'd:\\\\5CODE\\\\-ActionClass\\\\data\\\\UCF101/UCF4 small\\\\'\n",
    "#dataset_path = r'D:\\5CODE\\-ActionClass\\data\\UCF101\\UCF4 small\\'\n",
    "dataset_path = '../data/UCF101/UCF4 small/'\n",
    "\n",
    "\n",
    "if os.path.exists(dataset_path):\n",
    "    print(f'{dataset_path} 경로가 존재합니다.')\n",
    "else:\n",
    "    print(f'{dataset_path} 경로가 존재하지 않습니다.')\n"
   ]
  },
  {
   "cell_type": "code",
   "execution_count": 8,
   "metadata": {},
   "outputs": [
    {
     "name": "stdout",
     "output_type": "stream",
     "text": [
      "[('../data/UCF101/UCF4 small/WalkingWithDog/v_WalkingWithDog_g02_c01.avi', 'WalkingWithDog'), ('../data/UCF101/UCF4 small/WalkingWithDog/v_WalkingWithDog_g02_c03.avi', 'WalkingWithDog'), ('../data/UCF101/UCF4 small/WalkingWithDog/v_WalkingWithDog_g02_c02.avi', 'WalkingWithDog'), ('../data/UCF101/UCF4 small/WalkingWithDog/v_WalkingWithDog_g02_c06.avi', 'WalkingWithDog'), ('../data/UCF101/UCF4 small/WalkingWithDog/v_WalkingWithDog_g02_c05.avi', 'WalkingWithDog'), ('../data/UCF101/UCF4 small/WalkingWithDog/v_WalkingWithDog_g02_c04.avi', 'WalkingWithDog'), ('../data/UCF101/UCF4 small/WalkingWithDog/v_WalkingWithDog_g01_c03.avi', 'WalkingWithDog'), ('../data/UCF101/UCF4 small/WalkingWithDog/v_WalkingWithDog_g01_c02.avi', 'WalkingWithDog'), ('../data/UCF101/UCF4 small/WalkingWithDog/v_WalkingWithDog_g01_c01.avi', 'WalkingWithDog'), ('../data/UCF101/UCF4 small/WalkingWithDog/v_WalkingWithDog_g01_c04.avi', 'WalkingWithDog'), ('../data/UCF101/UCF4 small/BoxingPunchingBag/v_BoxingPunchingBag_g01_c07.avi', 'BoxingPunchingBag'), ('../data/UCF101/UCF4 small/BoxingPunchingBag/v_BoxingPunchingBag_g01_c06.avi', 'BoxingPunchingBag'), ('../data/UCF101/UCF4 small/BoxingPunchingBag/v_BoxingPunchingBag_g01_c04.avi', 'BoxingPunchingBag'), ('../data/UCF101/UCF4 small/BoxingPunchingBag/v_BoxingPunchingBag_g01_c05.avi', 'BoxingPunchingBag'), ('../data/UCF101/UCF4 small/BoxingPunchingBag/v_BoxingPunchingBag_g01_c01.avi', 'BoxingPunchingBag'), ('../data/UCF101/UCF4 small/BoxingPunchingBag/v_BoxingPunchingBag_g01_c02.avi', 'BoxingPunchingBag'), ('../data/UCF101/UCF4 small/BoxingPunchingBag/v_BoxingPunchingBag_g01_c03.avi', 'BoxingPunchingBag'), ('../data/UCF101/UCF4 small/Biking/v_Biking_g01_c01.avi', 'Biking'), ('../data/UCF101/UCF4 small/Biking/v_Biking_g01_c02.avi', 'Biking'), ('../data/UCF101/UCF4 small/Biking/v_Biking_g01_c03.avi', 'Biking'), ('../data/UCF101/UCF4 small/Biking/v_Biking_g01_c04.avi', 'Biking'), ('../data/UCF101/UCF4 small/Biking/v_Biking_g02_c02.avi', 'Biking'), ('../data/UCF101/UCF4 small/Biking/v_Biking_g02_c03.avi', 'Biking'), ('../data/UCF101/UCF4 small/Biking/v_Biking_g02_c01.avi', 'Biking'), ('../data/UCF101/UCF4 small/Biking/v_Biking_g02_c04.avi', 'Biking'), ('../data/UCF101/UCF4 small/Biking/v_Biking_g02_c05.avi', 'Biking'), ('../data/UCF101/UCF4 small/Biking/v_Biking_g02_c06.avi', 'Biking'), ('../data/UCF101/UCF4 small/Punch/v_Punch_g01_c02.avi', 'Punch'), ('../data/UCF101/UCF4 small/Punch/v_Punch_g01_c03.avi', 'Punch'), ('../data/UCF101/UCF4 small/Punch/v_Punch_g01_c01.avi', 'Punch'), ('../data/UCF101/UCF4 small/Punch/v_Punch_g01_c04.avi', 'Punch'), ('../data/UCF101/UCF4 small/Punch/v_Punch_g01_c05.avi', 'Punch'), ('../data/UCF101/UCF4 small/Punch/v_Punch_g03_c04.avi', 'Punch'), ('../data/UCF101/UCF4 small/Punch/v_Punch_g02_c01.avi', 'Punch'), ('../data/UCF101/UCF4 small/Punch/v_Punch_g02_c02.avi', 'Punch'), ('../data/UCF101/UCF4 small/Punch/v_Punch_g02_c03.avi', 'Punch'), ('../data/UCF101/UCF4 small/Punch/v_Punch_g03_c02.avi', 'Punch'), ('../data/UCF101/UCF4 small/Punch/v_Punch_g03_c03.avi', 'Punch'), ('../data/UCF101/UCF4 small/Punch/v_Punch_g03_c01.avi', 'Punch'), ('../data/UCF101/UCF4 small/Punch/v_Punch_g02_c04.avi', 'Punch')]\n"
     ]
    },
    {
     "name": "stderr",
     "output_type": "stream",
     "text": [
      "WARNING: All log messages before absl::InitializeLog() is called are written to STDERR\n",
      "I0000 00:00:1701316572.966705       1 gl_context.cc:344] GL version: 2.1 (2.1 Metal - 88), renderer: Apple M1\n"
     ]
    }
   ],
   "source": [
    "dataset = UCF4Dataset(dataset_path)\n",
    "\n",
    "\n",
    "# 데이터셋 크기 정의\n",
    "dataset_size = len(dataset)\n",
    "train_size = int(dataset_size * 0.7)  # 70%를 훈련 데이터로 사용\n",
    "val_size = int(dataset_size * 0.15)  # 15%를 검증 데이터로 사용\n",
    "test_size = dataset_size - train_size - val_size  # 나머지를 테스트 데이터로 사용\n",
    "\n",
    "# Split\n",
    "train_dataset, val_dataset, test_dataset = random_split(dataset, [train_size, val_size, test_size])\n",
    "\n",
    "# Create Dataset\n",
    "Batch_Size = 1\n",
    "\n",
    "train_loader = DataLoader(train_dataset, batch_size=Batch_Size, shuffle=True)\n",
    "val_loader = DataLoader(val_dataset, batch_size=Batch_Size, shuffle=True)\n",
    "test_loader = DataLoader(test_dataset, batch_size=Batch_Size, shuffle=True)"
   ]
  },
  {
   "cell_type": "code",
   "execution_count": 9,
   "metadata": {},
   "outputs": [
    {
     "name": "stdout",
     "output_type": "stream",
     "text": [
      "/Volumes/FOREVER/5CODE/-ActionClass/01Deep\n"
     ]
    }
   ],
   "source": [
    "print(os.getcwd())"
   ]
  },
  {
   "cell_type": "code",
   "execution_count": 10,
   "metadata": {},
   "outputs": [
    {
     "name": "stderr",
     "output_type": "stream",
     "text": [
      "INFO: Created TensorFlow Lite XNNPACK delegate for CPU.\n"
     ]
    },
    {
     "data": {
      "text/plain": [
       "(28, 6, 6)"
      ]
     },
     "execution_count": 10,
     "metadata": {},
     "output_type": "execute_result"
    }
   ],
   "source": [
    "len(train_loader),len(val_loader),len(test_loader)"
   ]
  },
  {
   "cell_type": "markdown",
   "metadata": {},
   "source": [
    "# Parameter"
   ]
  },
  {
   "cell_type": "code",
   "execution_count": 11,
   "metadata": {},
   "outputs": [],
   "source": [
    "# Define the LSTM model\n",
    "input_size = 132  # Adjust based on your skeleton data\n",
    "hidden_size = 128\n",
    "num_layers = 2\n",
    "num_classes = 4  # Adjust based on the number of classes in your dataset\n",
    "model = LSTMModel(input_size, hidden_size, num_layers, num_classes)"
   ]
  },
  {
   "cell_type": "code",
   "execution_count": 12,
   "metadata": {},
   "outputs": [],
   "source": [
    "# Define loss function and optimizer\n",
    "criterion = nn.CrossEntropyLoss()\n",
    "optimizer = optim.Adam(model.parameters(), lr=0.001)\n",
    "# Learning rate scheduler\n",
    "scheduler = ReduceLROnPlateau(optimizer, 'min', patience=1, factor=0.5, min_lr=0.0001)"
   ]
  },
  {
   "cell_type": "code",
   "execution_count": 13,
   "metadata": {},
   "outputs": [],
   "source": [
    "# Initialize variables to track the best model\n",
    "best_val_loss = float('inf')\n",
    "best_model = None\n",
    "\n",
    "# Trackers for graph\n",
    "train_losses = []\n",
    "val_losses = []\n"
   ]
  },
  {
   "cell_type": "code",
   "execution_count": 14,
   "metadata": {},
   "outputs": [
    {
     "name": "stdout",
     "output_type": "stream",
     "text": [
      "video path ../data/UCF101/UCF4 small/BoxingPunchingBag/v_BoxingPunchingBag_g01_c01.avi\n",
      "../data/UCF101/UCF4 small/BoxingPunchingBag/v_BoxingPunchingBag_g01_c01.avi 경로가 존재합니다.\n",
      "class name BoxingPunchingBag\n"
     ]
    },
    {
     "name": "stderr",
     "output_type": "stream",
     "text": [
      "I0000 00:00:1701316573.592748       1 gl_context.cc:344] GL version: 2.1 (2.1 Metal - 88), renderer: Apple M1\n"
     ]
    },
    {
     "name": "stdout",
     "output_type": "stream",
     "text": [
      "video path ../data/UCF101/UCF4 small/Punch/v_Punch_g03_c02.avi\n",
      "../data/UCF101/UCF4 small/Punch/v_Punch_g03_c02.avi 경로가 존재합니다.\n",
      "class name Punch\n"
     ]
    },
    {
     "name": "stderr",
     "output_type": "stream",
     "text": [
      "I0000 00:00:1701316576.231153       1 gl_context.cc:344] GL version: 2.1 (2.1 Metal - 88), renderer: Apple M1\n"
     ]
    },
    {
     "name": "stdout",
     "output_type": "stream",
     "text": [
      "video path ../data/UCF101/UCF4 small/Punch/v_Punch_g01_c05.avi\n",
      "../data/UCF101/UCF4 small/Punch/v_Punch_g01_c05.avi 경로가 존재합니다.\n",
      "class name Punch\n"
     ]
    },
    {
     "name": "stderr",
     "output_type": "stream",
     "text": [
      "I0000 00:00:1701316581.492802       1 gl_context.cc:344] GL version: 2.1 (2.1 Metal - 88), renderer: Apple M1\n"
     ]
    },
    {
     "name": "stdout",
     "output_type": "stream",
     "text": [
      "video path ../data/UCF101/UCF4 small/Punch/v_Punch_g01_c02.avi\n",
      "../data/UCF101/UCF4 small/Punch/v_Punch_g01_c02.avi 경로가 존재합니다.\n",
      "class name Punch\n"
     ]
    },
    {
     "name": "stderr",
     "output_type": "stream",
     "text": [
      "I0000 00:00:1701316582.420452       1 gl_context.cc:344] GL version: 2.1 (2.1 Metal - 88), renderer: Apple M1\n"
     ]
    },
    {
     "name": "stdout",
     "output_type": "stream",
     "text": [
      "video path ../data/UCF101/UCF4 small/Biking/v_Biking_g02_c05.avi\n",
      "../data/UCF101/UCF4 small/Biking/v_Biking_g02_c05.avi 경로가 존재합니다.\n",
      "class name Biking\n"
     ]
    },
    {
     "name": "stderr",
     "output_type": "stream",
     "text": [
      "I0000 00:00:1701316583.864398       1 gl_context.cc:344] GL version: 2.1 (2.1 Metal - 88), renderer: Apple M1\n"
     ]
    },
    {
     "name": "stdout",
     "output_type": "stream",
     "text": [
      "video path ../data/UCF101/UCF4 small/Punch/v_Punch_g02_c02.avi\n",
      "../data/UCF101/UCF4 small/Punch/v_Punch_g02_c02.avi 경로가 존재합니다.\n",
      "class name Punch\n"
     ]
    },
    {
     "name": "stderr",
     "output_type": "stream",
     "text": [
      "I0000 00:00:1701316586.674937       1 gl_context.cc:344] GL version: 2.1 (2.1 Metal - 88), renderer: Apple M1\n"
     ]
    },
    {
     "name": "stdout",
     "output_type": "stream",
     "text": [
      "video path ../data/UCF101/UCF4 small/Punch/v_Punch_g02_c04.avi\n",
      "../data/UCF101/UCF4 small/Punch/v_Punch_g02_c04.avi 경로가 존재합니다.\n",
      "class name Punch\n"
     ]
    },
    {
     "name": "stderr",
     "output_type": "stream",
     "text": [
      "I0000 00:00:1701316588.743932       1 gl_context.cc:344] GL version: 2.1 (2.1 Metal - 88), renderer: Apple M1\n"
     ]
    },
    {
     "name": "stdout",
     "output_type": "stream",
     "text": [
      "video path ../data/UCF101/UCF4 small/BoxingPunchingBag/v_BoxingPunchingBag_g01_c03.avi\n",
      "../data/UCF101/UCF4 small/BoxingPunchingBag/v_BoxingPunchingBag_g01_c03.avi 경로가 존재합니다.\n",
      "class name BoxingPunchingBag\n"
     ]
    },
    {
     "name": "stderr",
     "output_type": "stream",
     "text": [
      "I0000 00:00:1701316589.844836       1 gl_context.cc:344] GL version: 2.1 (2.1 Metal - 88), renderer: Apple M1\n"
     ]
    },
    {
     "name": "stdout",
     "output_type": "stream",
     "text": [
      "video path ../data/UCF101/UCF4 small/Punch/v_Punch_g03_c01.avi\n",
      "../data/UCF101/UCF4 small/Punch/v_Punch_g03_c01.avi 경로가 존재합니다.\n",
      "class name Punch\n"
     ]
    },
    {
     "name": "stderr",
     "output_type": "stream",
     "text": [
      "I0000 00:00:1701316592.664933       1 gl_context.cc:344] GL version: 2.1 (2.1 Metal - 88), renderer: Apple M1\n"
     ]
    },
    {
     "name": "stdout",
     "output_type": "stream",
     "text": [
      "video path ../data/UCF101/UCF4 small/Punch/v_Punch_g01_c01.avi\n",
      "../data/UCF101/UCF4 small/Punch/v_Punch_g01_c01.avi 경로가 존재합니다.\n",
      "class name Punch\n"
     ]
    },
    {
     "name": "stderr",
     "output_type": "stream",
     "text": [
      "I0000 00:00:1701316594.684021       1 gl_context.cc:344] GL version: 2.1 (2.1 Metal - 88), renderer: Apple M1\n"
     ]
    },
    {
     "name": "stdout",
     "output_type": "stream",
     "text": [
      "video path ../data/UCF101/UCF4 small/WalkingWithDog/v_WalkingWithDog_g01_c01.avi\n",
      "../data/UCF101/UCF4 small/WalkingWithDog/v_WalkingWithDog_g01_c01.avi 경로가 존재합니다.\n",
      "class name WalkingWithDog\n"
     ]
    },
    {
     "name": "stderr",
     "output_type": "stream",
     "text": [
      "I0000 00:00:1701316596.575013       1 gl_context.cc:344] GL version: 2.1 (2.1 Metal - 88), renderer: Apple M1\n"
     ]
    },
    {
     "name": "stdout",
     "output_type": "stream",
     "text": [
      "video path ../data/UCF101/UCF4 small/Punch/v_Punch_g03_c04.avi\n",
      "../data/UCF101/UCF4 small/Punch/v_Punch_g03_c04.avi 경로가 존재합니다.\n",
      "class name Punch\n"
     ]
    },
    {
     "name": "stderr",
     "output_type": "stream",
     "text": [
      "I0000 00:00:1701316601.890490       1 gl_context.cc:344] GL version: 2.1 (2.1 Metal - 88), renderer: Apple M1\n"
     ]
    },
    {
     "name": "stdout",
     "output_type": "stream",
     "text": [
      "video path ../data/UCF101/UCF4 small/BoxingPunchingBag/v_BoxingPunchingBag_g01_c06.avi\n",
      "../data/UCF101/UCF4 small/BoxingPunchingBag/v_BoxingPunchingBag_g01_c06.avi 경로가 존재합니다.\n",
      "class name BoxingPunchingBag\n"
     ]
    },
    {
     "name": "stderr",
     "output_type": "stream",
     "text": [
      "I0000 00:00:1701316604.902053       1 gl_context.cc:344] GL version: 2.1 (2.1 Metal - 88), renderer: Apple M1\n"
     ]
    },
    {
     "name": "stdout",
     "output_type": "stream",
     "text": [
      "video path ../data/UCF101/UCF4 small/BoxingPunchingBag/v_BoxingPunchingBag_g01_c04.avi\n",
      "../data/UCF101/UCF4 small/BoxingPunchingBag/v_BoxingPunchingBag_g01_c04.avi 경로가 존재합니다.\n",
      "class name BoxingPunchingBag\n"
     ]
    },
    {
     "name": "stderr",
     "output_type": "stream",
     "text": [
      "I0000 00:00:1701316608.270793       1 gl_context.cc:344] GL version: 2.1 (2.1 Metal - 88), renderer: Apple M1\n"
     ]
    },
    {
     "name": "stdout",
     "output_type": "stream",
     "text": [
      "video path ../data/UCF101/UCF4 small/BoxingPunchingBag/v_BoxingPunchingBag_g01_c07.avi\n",
      "../data/UCF101/UCF4 small/BoxingPunchingBag/v_BoxingPunchingBag_g01_c07.avi 경로가 존재합니다.\n",
      "class name BoxingPunchingBag\n"
     ]
    },
    {
     "name": "stderr",
     "output_type": "stream",
     "text": [
      "I0000 00:00:1701316611.663299       1 gl_context.cc:344] GL version: 2.1 (2.1 Metal - 88), renderer: Apple M1\n"
     ]
    },
    {
     "name": "stdout",
     "output_type": "stream",
     "text": [
      "video path ../data/UCF101/UCF4 small/BoxingPunchingBag/v_BoxingPunchingBag_g01_c05.avi\n",
      "../data/UCF101/UCF4 small/BoxingPunchingBag/v_BoxingPunchingBag_g01_c05.avi 경로가 존재합니다.\n",
      "class name BoxingPunchingBag\n"
     ]
    },
    {
     "name": "stderr",
     "output_type": "stream",
     "text": [
      "I0000 00:00:1701316614.854503       1 gl_context.cc:344] GL version: 2.1 (2.1 Metal - 88), renderer: Apple M1\n"
     ]
    },
    {
     "name": "stdout",
     "output_type": "stream",
     "text": [
      "video path ../data/UCF101/UCF4 small/WalkingWithDog/v_WalkingWithDog_g02_c05.avi\n",
      "../data/UCF101/UCF4 small/WalkingWithDog/v_WalkingWithDog_g02_c05.avi 경로가 존재합니다.\n",
      "class name WalkingWithDog\n"
     ]
    },
    {
     "name": "stderr",
     "output_type": "stream",
     "text": [
      "I0000 00:00:1701316618.701833       1 gl_context.cc:344] GL version: 2.1 (2.1 Metal - 88), renderer: Apple M1\n"
     ]
    },
    {
     "name": "stdout",
     "output_type": "stream",
     "text": [
      "video path ../data/UCF101/UCF4 small/WalkingWithDog/v_WalkingWithDog_g01_c04.avi\n",
      "../data/UCF101/UCF4 small/WalkingWithDog/v_WalkingWithDog_g01_c04.avi 경로가 존재합니다.\n",
      "class name WalkingWithDog\n"
     ]
    },
    {
     "name": "stderr",
     "output_type": "stream",
     "text": [
      "I0000 00:00:1701316623.515511       1 gl_context.cc:344] GL version: 2.1 (2.1 Metal - 88), renderer: Apple M1\n"
     ]
    },
    {
     "name": "stdout",
     "output_type": "stream",
     "text": [
      "video path ../data/UCF101/UCF4 small/Biking/v_Biking_g01_c04.avi\n",
      "../data/UCF101/UCF4 small/Biking/v_Biking_g01_c04.avi 경로가 존재합니다.\n",
      "class name Biking\n"
     ]
    },
    {
     "name": "stderr",
     "output_type": "stream",
     "text": [
      "I0000 00:00:1701316626.823449       1 gl_context.cc:344] GL version: 2.1 (2.1 Metal - 88), renderer: Apple M1\n"
     ]
    },
    {
     "name": "stdout",
     "output_type": "stream",
     "text": [
      "video path ../data/UCF101/UCF4 small/WalkingWithDog/v_WalkingWithDog_g02_c02.avi\n",
      "../data/UCF101/UCF4 small/WalkingWithDog/v_WalkingWithDog_g02_c02.avi 경로가 존재합니다.\n",
      "class name WalkingWithDog\n"
     ]
    },
    {
     "name": "stderr",
     "output_type": "stream",
     "text": [
      "I0000 00:00:1701316629.727292       1 gl_context.cc:344] GL version: 2.1 (2.1 Metal - 88), renderer: Apple M1\n"
     ]
    },
    {
     "name": "stdout",
     "output_type": "stream",
     "text": [
      "video path ../data/UCF101/UCF4 small/Biking/v_Biking_g02_c03.avi\n",
      "../data/UCF101/UCF4 small/Biking/v_Biking_g02_c03.avi 경로가 존재합니다.\n",
      "class name Biking\n"
     ]
    },
    {
     "name": "stderr",
     "output_type": "stream",
     "text": [
      "I0000 00:00:1701316634.293546       1 gl_context.cc:344] GL version: 2.1 (2.1 Metal - 88), renderer: Apple M1\n"
     ]
    },
    {
     "name": "stdout",
     "output_type": "stream",
     "text": [
      "video path ../data/UCF101/UCF4 small/WalkingWithDog/v_WalkingWithDog_g01_c03.avi\n",
      "../data/UCF101/UCF4 small/WalkingWithDog/v_WalkingWithDog_g01_c03.avi 경로가 존재합니다.\n",
      "class name WalkingWithDog\n"
     ]
    },
    {
     "name": "stderr",
     "output_type": "stream",
     "text": [
      "I0000 00:00:1701316637.374888       1 gl_context.cc:344] GL version: 2.1 (2.1 Metal - 88), renderer: Apple M1\n"
     ]
    },
    {
     "name": "stdout",
     "output_type": "stream",
     "text": [
      "video path ../data/UCF101/UCF4 small/Punch/v_Punch_g03_c03.avi\n",
      "../data/UCF101/UCF4 small/Punch/v_Punch_g03_c03.avi 경로가 존재합니다.\n",
      "class name Punch\n"
     ]
    },
    {
     "name": "stderr",
     "output_type": "stream",
     "text": [
      "I0000 00:00:1701316641.768497       1 gl_context.cc:344] GL version: 2.1 (2.1 Metal - 88), renderer: Apple M1\n"
     ]
    },
    {
     "name": "stdout",
     "output_type": "stream",
     "text": [
      "video path ../data/UCF101/UCF4 small/Biking/v_Biking_g02_c06.avi\n",
      "../data/UCF101/UCF4 small/Biking/v_Biking_g02_c06.avi 경로가 존재합니다.\n",
      "class name Biking\n"
     ]
    },
    {
     "name": "stderr",
     "output_type": "stream",
     "text": [
      "I0000 00:00:1701316644.695707       1 gl_context.cc:344] GL version: 2.1 (2.1 Metal - 88), renderer: Apple M1\n"
     ]
    },
    {
     "name": "stdout",
     "output_type": "stream",
     "text": [
      "video path ../data/UCF101/UCF4 small/WalkingWithDog/v_WalkingWithDog_g02_c03.avi\n",
      "../data/UCF101/UCF4 small/WalkingWithDog/v_WalkingWithDog_g02_c03.avi 경로가 존재합니다.\n",
      "class name WalkingWithDog\n"
     ]
    },
    {
     "name": "stderr",
     "output_type": "stream",
     "text": [
      "I0000 00:00:1701316647.438567       1 gl_context.cc:344] GL version: 2.1 (2.1 Metal - 88), renderer: Apple M1\n"
     ]
    },
    {
     "name": "stdout",
     "output_type": "stream",
     "text": [
      "video path ../data/UCF101/UCF4 small/Biking/v_Biking_g02_c02.avi\n",
      "../data/UCF101/UCF4 small/Biking/v_Biking_g02_c02.avi 경로가 존재합니다.\n",
      "class name Biking\n"
     ]
    },
    {
     "name": "stderr",
     "output_type": "stream",
     "text": [
      "I0000 00:00:1701316651.971384       1 gl_context.cc:344] GL version: 2.1 (2.1 Metal - 88), renderer: Apple M1\n"
     ]
    },
    {
     "name": "stdout",
     "output_type": "stream",
     "text": [
      "video path ../data/UCF101/UCF4 small/WalkingWithDog/v_WalkingWithDog_g02_c04.avi\n",
      "../data/UCF101/UCF4 small/WalkingWithDog/v_WalkingWithDog_g02_c04.avi 경로가 존재합니다.\n",
      "class name WalkingWithDog\n"
     ]
    },
    {
     "name": "stderr",
     "output_type": "stream",
     "text": [
      "I0000 00:00:1701316654.800979       1 gl_context.cc:344] GL version: 2.1 (2.1 Metal - 88), renderer: Apple M1\n"
     ]
    },
    {
     "name": "stdout",
     "output_type": "stream",
     "text": [
      "video path ../data/UCF101/UCF4 small/Biking/v_Biking_g01_c03.avi\n",
      "../data/UCF101/UCF4 small/Biking/v_Biking_g01_c03.avi 경로가 존재합니다.\n",
      "class name Biking\n"
     ]
    },
    {
     "name": "stderr",
     "output_type": "stream",
     "text": [
      "I0000 00:00:1701316659.799855       1 gl_context.cc:344] GL version: 2.1 (2.1 Metal - 88), renderer: Apple M1\n"
     ]
    },
    {
     "name": "stdout",
     "output_type": "stream",
     "text": [
      "video path ../data/UCF101/UCF4 small/WalkingWithDog/v_WalkingWithDog_g02_c06.avi\n",
      "../data/UCF101/UCF4 small/WalkingWithDog/v_WalkingWithDog_g02_c06.avi 경로가 존재합니다.\n",
      "class name WalkingWithDog\n"
     ]
    },
    {
     "name": "stderr",
     "output_type": "stream",
     "text": [
      "I0000 00:00:1701316662.809769       1 gl_context.cc:344] GL version: 2.1 (2.1 Metal - 88), renderer: Apple M1\n"
     ]
    },
    {
     "name": "stdout",
     "output_type": "stream",
     "text": [
      "video path ../data/UCF101/UCF4 small/Biking/v_Biking_g02_c01.avi\n",
      "../data/UCF101/UCF4 small/Biking/v_Biking_g02_c01.avi 경로가 존재합니다.\n",
      "class name Biking\n"
     ]
    },
    {
     "name": "stderr",
     "output_type": "stream",
     "text": [
      "I0000 00:00:1701316667.675505       1 gl_context.cc:344] GL version: 2.1 (2.1 Metal - 88), renderer: Apple M1\n"
     ]
    },
    {
     "name": "stdout",
     "output_type": "stream",
     "text": [
      "video path ../data/UCF101/UCF4 small/Biking/v_Biking_g01_c01.avi\n",
      "../data/UCF101/UCF4 small/Biking/v_Biking_g01_c01.avi 경로가 존재합니다.\n",
      "class name Biking\n"
     ]
    },
    {
     "name": "stderr",
     "output_type": "stream",
     "text": [
      "I0000 00:00:1701316670.609594       1 gl_context.cc:344] GL version: 2.1 (2.1 Metal - 88), renderer: Apple M1\n"
     ]
    },
    {
     "name": "stdout",
     "output_type": "stream",
     "text": [
      "video path ../data/UCF101/UCF4 small/Biking/v_Biking_g02_c04.avi\n",
      "../data/UCF101/UCF4 small/Biking/v_Biking_g02_c04.avi 경로가 존재합니다.\n",
      "class name Biking\n"
     ]
    },
    {
     "name": "stderr",
     "output_type": "stream",
     "text": [
      "I0000 00:00:1701316673.792676       1 gl_context.cc:344] GL version: 2.1 (2.1 Metal - 88), renderer: Apple M1\n"
     ]
    },
    {
     "name": "stdout",
     "output_type": "stream",
     "text": [
      "video path ../data/UCF101/UCF4 small/Punch/v_Punch_g01_c03.avi\n",
      "../data/UCF101/UCF4 small/Punch/v_Punch_g01_c03.avi 경로가 존재합니다.\n",
      "class name Punch\n"
     ]
    },
    {
     "name": "stderr",
     "output_type": "stream",
     "text": [
      "Context leak detected, msgtracer returned -1\n",
      "I0000 00:00:1701316676.581204       1 gl_context.cc:344] GL version: 2.1 (2.1 Metal - 88), renderer: Apple M1\n"
     ]
    },
    {
     "name": "stdout",
     "output_type": "stream",
     "text": [
      "video path ../data/UCF101/UCF4 small/WalkingWithDog/v_WalkingWithDog_g01_c02.avi\n",
      "../data/UCF101/UCF4 small/WalkingWithDog/v_WalkingWithDog_g01_c02.avi 경로가 존재합니다.\n",
      "class name WalkingWithDog\n"
     ]
    },
    {
     "name": "stderr",
     "output_type": "stream",
     "text": [
      "I0000 00:00:1701316677.239271       1 gl_context.cc:344] GL version: 2.1 (2.1 Metal - 88), renderer: Apple M1\n"
     ]
    },
    {
     "name": "stdout",
     "output_type": "stream",
     "text": [
      "Epoch [1/5], Train Loss: 1.2729556092194148, Val Loss: 0.6757810314496359\n",
      "video path ../data/UCF101/UCF4 small/Biking/v_Biking_g02_c06.avi\n",
      "../data/UCF101/UCF4 small/Biking/v_Biking_g02_c06.avi 경로가 존재합니다.\n",
      "class name Biking\n"
     ]
    },
    {
     "name": "stderr",
     "output_type": "stream",
     "text": [
      "I0000 00:00:1701316682.433490       1 gl_context.cc:344] GL version: 2.1 (2.1 Metal - 88), renderer: Apple M1\n"
     ]
    },
    {
     "name": "stdout",
     "output_type": "stream",
     "text": [
      "video path ../data/UCF101/UCF4 small/Punch/v_Punch_g01_c01.avi\n",
      "../data/UCF101/UCF4 small/Punch/v_Punch_g01_c01.avi 경로가 존재합니다.\n",
      "class name Punch\n"
     ]
    },
    {
     "name": "stderr",
     "output_type": "stream",
     "text": [
      "I0000 00:00:1701316685.732890       1 gl_context.cc:344] GL version: 2.1 (2.1 Metal - 88), renderer: Apple M1\n"
     ]
    },
    {
     "name": "stdout",
     "output_type": "stream",
     "text": [
      "video path ../data/UCF101/UCF4 small/BoxingPunchingBag/v_BoxingPunchingBag_g01_c05.avi\n",
      "../data/UCF101/UCF4 small/BoxingPunchingBag/v_BoxingPunchingBag_g01_c05.avi 경로가 존재합니다.\n",
      "class name BoxingPunchingBag\n"
     ]
    },
    {
     "name": "stderr",
     "output_type": "stream",
     "text": [
      "I0000 00:00:1701316687.906626       1 gl_context.cc:344] GL version: 2.1 (2.1 Metal - 88), renderer: Apple M1\n"
     ]
    },
    {
     "name": "stdout",
     "output_type": "stream",
     "text": [
      "video path ../data/UCF101/UCF4 small/Punch/v_Punch_g01_c05.avi\n",
      "../data/UCF101/UCF4 small/Punch/v_Punch_g01_c05.avi 경로가 존재합니다.\n",
      "class name Punch\n"
     ]
    },
    {
     "name": "stderr",
     "output_type": "stream",
     "text": [
      "I0000 00:00:1701316691.333163       1 gl_context.cc:344] GL version: 2.1 (2.1 Metal - 88), renderer: Apple M1\n"
     ]
    },
    {
     "name": "stdout",
     "output_type": "stream",
     "text": [
      "video path ../data/UCF101/UCF4 small/WalkingWithDog/v_WalkingWithDog_g01_c04.avi\n",
      "../data/UCF101/UCF4 small/WalkingWithDog/v_WalkingWithDog_g01_c04.avi 경로가 존재합니다.\n",
      "class name WalkingWithDog\n"
     ]
    },
    {
     "name": "stderr",
     "output_type": "stream",
     "text": [
      "I0000 00:00:1701316692.456802       1 gl_context.cc:344] GL version: 2.1 (2.1 Metal - 88), renderer: Apple M1\n"
     ]
    },
    {
     "name": "stdout",
     "output_type": "stream",
     "text": [
      "video path ../data/UCF101/UCF4 small/BoxingPunchingBag/v_BoxingPunchingBag_g01_c03.avi\n",
      "../data/UCF101/UCF4 small/BoxingPunchingBag/v_BoxingPunchingBag_g01_c03.avi 경로가 존재합니다.\n",
      "class name BoxingPunchingBag\n"
     ]
    },
    {
     "name": "stderr",
     "output_type": "stream",
     "text": [
      "I0000 00:00:1701316696.381668       1 gl_context.cc:344] GL version: 2.1 (2.1 Metal - 88), renderer: Apple M1\n"
     ]
    },
    {
     "name": "stdout",
     "output_type": "stream",
     "text": [
      "video path ../data/UCF101/UCF4 small/Punch/v_Punch_g03_c01.avi\n",
      "../data/UCF101/UCF4 small/Punch/v_Punch_g03_c01.avi 경로가 존재합니다.\n",
      "class name Punch\n"
     ]
    },
    {
     "name": "stderr",
     "output_type": "stream",
     "text": [
      "I0000 00:00:1701316699.624088       1 gl_context.cc:344] GL version: 2.1 (2.1 Metal - 88), renderer: Apple M1\n"
     ]
    },
    {
     "name": "stdout",
     "output_type": "stream",
     "text": [
      "video path ../data/UCF101/UCF4 small/WalkingWithDog/v_WalkingWithDog_g02_c03.avi\n",
      "../data/UCF101/UCF4 small/WalkingWithDog/v_WalkingWithDog_g02_c03.avi 경로가 존재합니다.\n",
      "class name WalkingWithDog\n"
     ]
    },
    {
     "name": "stderr",
     "output_type": "stream",
     "text": [
      "I0000 00:00:1701316701.850281       1 gl_context.cc:344] GL version: 2.1 (2.1 Metal - 88), renderer: Apple M1\n"
     ]
    },
    {
     "name": "stdout",
     "output_type": "stream",
     "text": [
      "video path ../data/UCF101/UCF4 small/BoxingPunchingBag/v_BoxingPunchingBag_g01_c06.avi\n",
      "../data/UCF101/UCF4 small/BoxingPunchingBag/v_BoxingPunchingBag_g01_c06.avi 경로가 존재합니다.\n",
      "class name BoxingPunchingBag\n"
     ]
    },
    {
     "name": "stderr",
     "output_type": "stream",
     "text": [
      "I0000 00:00:1701316706.944310       1 gl_context.cc:344] GL version: 2.1 (2.1 Metal - 88), renderer: Apple M1\n"
     ]
    },
    {
     "name": "stdout",
     "output_type": "stream",
     "text": [
      "video path ../data/UCF101/UCF4 small/BoxingPunchingBag/v_BoxingPunchingBag_g01_c07.avi\n",
      "../data/UCF101/UCF4 small/BoxingPunchingBag/v_BoxingPunchingBag_g01_c07.avi 경로가 존재합니다.\n",
      "class name BoxingPunchingBag\n"
     ]
    },
    {
     "name": "stderr",
     "output_type": "stream",
     "text": [
      "I0000 00:00:1701316710.351949       1 gl_context.cc:344] GL version: 2.1 (2.1 Metal - 88), renderer: Apple M1\n"
     ]
    },
    {
     "name": "stdout",
     "output_type": "stream",
     "text": [
      "video path ../data/UCF101/UCF4 small/Biking/v_Biking_g02_c02.avi\n",
      "../data/UCF101/UCF4 small/Biking/v_Biking_g02_c02.avi 경로가 존재합니다.\n",
      "class name Biking\n"
     ]
    },
    {
     "name": "stderr",
     "output_type": "stream",
     "text": [
      "I0000 00:00:1701316713.949932       1 gl_context.cc:344] GL version: 2.1 (2.1 Metal - 88), renderer: Apple M1\n"
     ]
    },
    {
     "name": "stdout",
     "output_type": "stream",
     "text": [
      "video path ../data/UCF101/UCF4 small/Biking/v_Biking_g01_c04.avi\n",
      "../data/UCF101/UCF4 small/Biking/v_Biking_g01_c04.avi 경로가 존재합니다.\n",
      "class name Biking\n"
     ]
    },
    {
     "name": "stderr",
     "output_type": "stream",
     "text": [
      "I0000 00:00:1701316717.244050       1 gl_context.cc:344] GL version: 2.1 (2.1 Metal - 88), renderer: Apple M1\n"
     ]
    },
    {
     "name": "stdout",
     "output_type": "stream",
     "text": [
      "video path ../data/UCF101/UCF4 small/Punch/v_Punch_g02_c04.avi\n",
      "../data/UCF101/UCF4 small/Punch/v_Punch_g02_c04.avi 경로가 존재합니다.\n",
      "class name Punch\n"
     ]
    },
    {
     "name": "stderr",
     "output_type": "stream",
     "text": [
      "I0000 00:00:1701316720.483682       1 gl_context.cc:344] GL version: 2.1 (2.1 Metal - 88), renderer: Apple M1\n"
     ]
    },
    {
     "name": "stdout",
     "output_type": "stream",
     "text": [
      "video path ../data/UCF101/UCF4 small/WalkingWithDog/v_WalkingWithDog_g01_c03.avi\n",
      "../data/UCF101/UCF4 small/WalkingWithDog/v_WalkingWithDog_g01_c03.avi 경로가 존재합니다.\n",
      "class name WalkingWithDog\n"
     ]
    },
    {
     "name": "stderr",
     "output_type": "stream",
     "text": [
      "I0000 00:00:1701316721.709731       1 gl_context.cc:344] GL version: 2.1 (2.1 Metal - 88), renderer: Apple M1\n"
     ]
    },
    {
     "name": "stdout",
     "output_type": "stream",
     "text": [
      "video path ../data/UCF101/UCF4 small/Biking/v_Biking_g01_c03.avi\n",
      "../data/UCF101/UCF4 small/Biking/v_Biking_g01_c03.avi 경로가 존재합니다.\n",
      "class name Biking\n"
     ]
    },
    {
     "name": "stderr",
     "output_type": "stream",
     "text": [
      "Context leak detected, msgtracer returned -1\n",
      "I0000 00:00:1701316726.710153       1 gl_context.cc:344] GL version: 2.1 (2.1 Metal - 88), renderer: Apple M1\n"
     ]
    },
    {
     "name": "stdout",
     "output_type": "stream",
     "text": [
      "video path ../data/UCF101/UCF4 small/Punch/v_Punch_g03_c03.avi\n",
      "../data/UCF101/UCF4 small/Punch/v_Punch_g03_c03.avi 경로가 존재합니다.\n",
      "class name Punch\n"
     ]
    },
    {
     "name": "stderr",
     "output_type": "stream",
     "text": [
      "I0000 00:00:1701316729.734034       1 gl_context.cc:344] GL version: 2.1 (2.1 Metal - 88), renderer: Apple M1\n"
     ]
    },
    {
     "name": "stdout",
     "output_type": "stream",
     "text": [
      "video path ../data/UCF101/UCF4 small/Punch/v_Punch_g03_c02.avi\n",
      "../data/UCF101/UCF4 small/Punch/v_Punch_g03_c02.avi 경로가 존재합니다.\n",
      "class name Punch\n"
     ]
    },
    {
     "name": "stderr",
     "output_type": "stream",
     "text": [
      "I0000 00:00:1701316732.635624       1 gl_context.cc:344] GL version: 2.1 (2.1 Metal - 88), renderer: Apple M1\n"
     ]
    },
    {
     "name": "stdout",
     "output_type": "stream",
     "text": [
      "video path ../data/UCF101/UCF4 small/Punch/v_Punch_g03_c04.avi\n",
      "../data/UCF101/UCF4 small/Punch/v_Punch_g03_c04.avi 경로가 존재합니다.\n",
      "class name Punch\n"
     ]
    },
    {
     "name": "stderr",
     "output_type": "stream",
     "text": [
      "I0000 00:00:1701316738.703068       1 gl_context.cc:344] GL version: 2.1 (2.1 Metal - 88), renderer: Apple M1\n"
     ]
    },
    {
     "name": "stdout",
     "output_type": "stream",
     "text": [
      "video path ../data/UCF101/UCF4 small/WalkingWithDog/v_WalkingWithDog_g02_c02.avi\n",
      "../data/UCF101/UCF4 small/WalkingWithDog/v_WalkingWithDog_g02_c02.avi 경로가 존재합니다.\n",
      "class name WalkingWithDog\n"
     ]
    },
    {
     "name": "stderr",
     "output_type": "stream",
     "text": [
      "I0000 00:00:1701316742.088768       1 gl_context.cc:344] GL version: 2.1 (2.1 Metal - 88), renderer: Apple M1\n"
     ]
    },
    {
     "name": "stdout",
     "output_type": "stream",
     "text": [
      "video path ../data/UCF101/UCF4 small/Punch/v_Punch_g01_c02.avi\n",
      "../data/UCF101/UCF4 small/Punch/v_Punch_g01_c02.avi 경로가 존재합니다.\n",
      "class name Punch\n"
     ]
    },
    {
     "name": "stderr",
     "output_type": "stream",
     "text": [
      "I0000 00:00:1701316747.443896       1 gl_context.cc:344] GL version: 2.1 (2.1 Metal - 88), renderer: Apple M1\n"
     ]
    },
    {
     "name": "stdout",
     "output_type": "stream",
     "text": [
      "video path ../data/UCF101/UCF4 small/WalkingWithDog/v_WalkingWithDog_g02_c05.avi\n",
      "../data/UCF101/UCF4 small/WalkingWithDog/v_WalkingWithDog_g02_c05.avi 경로가 존재합니다.\n",
      "class name WalkingWithDog\n"
     ]
    },
    {
     "name": "stderr",
     "output_type": "stream",
     "text": [
      "I0000 00:00:1701316748.999455       1 gl_context.cc:344] GL version: 2.1 (2.1 Metal - 88), renderer: Apple M1\n"
     ]
    },
    {
     "name": "stdout",
     "output_type": "stream",
     "text": [
      "video path ../data/UCF101/UCF4 small/Biking/v_Biking_g02_c03.avi\n",
      "../data/UCF101/UCF4 small/Biking/v_Biking_g02_c03.avi 경로가 존재합니다.\n",
      "class name Biking\n"
     ]
    },
    {
     "name": "stderr",
     "output_type": "stream",
     "text": [
      "I0000 00:00:1701316754.494943       1 gl_context.cc:344] GL version: 2.1 (2.1 Metal - 88), renderer: Apple M1\n"
     ]
    },
    {
     "name": "stdout",
     "output_type": "stream",
     "text": [
      "video path ../data/UCF101/UCF4 small/BoxingPunchingBag/v_BoxingPunchingBag_g01_c01.avi\n",
      "../data/UCF101/UCF4 small/BoxingPunchingBag/v_BoxingPunchingBag_g01_c01.avi 경로가 존재합니다.\n",
      "class name BoxingPunchingBag\n"
     ]
    },
    {
     "name": "stderr",
     "output_type": "stream",
     "text": [
      "I0000 00:00:1701316757.867867       1 gl_context.cc:344] GL version: 2.1 (2.1 Metal - 88), renderer: Apple M1\n"
     ]
    },
    {
     "name": "stdout",
     "output_type": "stream",
     "text": [
      "video path ../data/UCF101/UCF4 small/BoxingPunchingBag/v_BoxingPunchingBag_g01_c04.avi\n",
      "../data/UCF101/UCF4 small/BoxingPunchingBag/v_BoxingPunchingBag_g01_c04.avi 경로가 존재합니다.\n",
      "class name BoxingPunchingBag\n"
     ]
    },
    {
     "name": "stderr",
     "output_type": "stream",
     "text": [
      "I0000 00:00:1701316761.199811       1 gl_context.cc:344] GL version: 2.1 (2.1 Metal - 88), renderer: Apple M1\n"
     ]
    },
    {
     "name": "stdout",
     "output_type": "stream",
     "text": [
      "video path ../data/UCF101/UCF4 small/Biking/v_Biking_g02_c05.avi\n",
      "../data/UCF101/UCF4 small/Biking/v_Biking_g02_c05.avi 경로가 존재합니다.\n",
      "class name Biking\n"
     ]
    },
    {
     "name": "stderr",
     "output_type": "stream",
     "text": [
      "I0000 00:00:1701316765.539545       1 gl_context.cc:344] GL version: 2.1 (2.1 Metal - 88), renderer: Apple M1\n"
     ]
    },
    {
     "name": "stdout",
     "output_type": "stream",
     "text": [
      "video path ../data/UCF101/UCF4 small/Punch/v_Punch_g02_c02.avi\n",
      "../data/UCF101/UCF4 small/Punch/v_Punch_g02_c02.avi 경로가 존재합니다.\n",
      "class name Punch\n"
     ]
    },
    {
     "name": "stderr",
     "output_type": "stream",
     "text": [
      "I0000 00:00:1701316769.402938       1 gl_context.cc:344] GL version: 2.1 (2.1 Metal - 88), renderer: Apple M1\n"
     ]
    },
    {
     "name": "stdout",
     "output_type": "stream",
     "text": [
      "video path ../data/UCF101/UCF4 small/WalkingWithDog/v_WalkingWithDog_g01_c01.avi\n",
      "../data/UCF101/UCF4 small/WalkingWithDog/v_WalkingWithDog_g01_c01.avi 경로가 존재합니다.\n",
      "class name WalkingWithDog\n"
     ]
    },
    {
     "name": "stderr",
     "output_type": "stream",
     "text": [
      "I0000 00:00:1701316773.462427       1 gl_context.cc:344] GL version: 2.1 (2.1 Metal - 88), renderer: Apple M1\n"
     ]
    },
    {
     "name": "stdout",
     "output_type": "stream",
     "text": [
      "video path ../data/UCF101/UCF4 small/WalkingWithDog/v_WalkingWithDog_g02_c04.avi\n",
      "../data/UCF101/UCF4 small/WalkingWithDog/v_WalkingWithDog_g02_c04.avi 경로가 존재합니다.\n",
      "class name WalkingWithDog\n"
     ]
    },
    {
     "name": "stderr",
     "output_type": "stream",
     "text": [
      "I0000 00:00:1701316779.388737       1 gl_context.cc:344] GL version: 2.1 (2.1 Metal - 88), renderer: Apple M1\n"
     ]
    },
    {
     "name": "stdout",
     "output_type": "stream",
     "text": [
      "video path ../data/UCF101/UCF4 small/Biking/v_Biking_g02_c01.avi\n",
      "../data/UCF101/UCF4 small/Biking/v_Biking_g02_c01.avi 경로가 존재합니다.\n",
      "class name Biking\n"
     ]
    },
    {
     "name": "stderr",
     "output_type": "stream",
     "text": [
      "I0000 00:00:1701316784.449788       1 gl_context.cc:344] GL version: 2.1 (2.1 Metal - 88), renderer: Apple M1\n"
     ]
    },
    {
     "name": "stdout",
     "output_type": "stream",
     "text": [
      "video path ../data/UCF101/UCF4 small/Biking/v_Biking_g01_c01.avi\n",
      "../data/UCF101/UCF4 small/Biking/v_Biking_g01_c01.avi 경로가 존재합니다.\n",
      "class name Biking\n"
     ]
    },
    {
     "name": "stderr",
     "output_type": "stream",
     "text": [
      "I0000 00:00:1701316787.437429       1 gl_context.cc:344] GL version: 2.1 (2.1 Metal - 88), renderer: Apple M1\n"
     ]
    },
    {
     "name": "stdout",
     "output_type": "stream",
     "text": [
      "video path ../data/UCF101/UCF4 small/Punch/v_Punch_g01_c03.avi\n",
      "../data/UCF101/UCF4 small/Punch/v_Punch_g01_c03.avi 경로가 존재합니다.\n",
      "class name Punch\n"
     ]
    },
    {
     "name": "stderr",
     "output_type": "stream",
     "text": [
      "I0000 00:00:1701316790.400911       1 gl_context.cc:344] GL version: 2.1 (2.1 Metal - 88), renderer: Apple M1\n"
     ]
    },
    {
     "name": "stdout",
     "output_type": "stream",
     "text": [
      "video path ../data/UCF101/UCF4 small/WalkingWithDog/v_WalkingWithDog_g01_c02.avi\n",
      "../data/UCF101/UCF4 small/WalkingWithDog/v_WalkingWithDog_g01_c02.avi 경로가 존재합니다.\n",
      "class name WalkingWithDog\n"
     ]
    },
    {
     "name": "stderr",
     "output_type": "stream",
     "text": [
      "Context leak detected, msgtracer returned -1\n",
      "I0000 00:00:1701316791.067218       1 gl_context.cc:344] GL version: 2.1 (2.1 Metal - 88), renderer: Apple M1\n"
     ]
    },
    {
     "name": "stdout",
     "output_type": "stream",
     "text": [
      "video path ../data/UCF101/UCF4 small/Biking/v_Biking_g02_c04.avi\n",
      "../data/UCF101/UCF4 small/Biking/v_Biking_g02_c04.avi 경로가 존재합니다.\n",
      "class name Biking\n"
     ]
    },
    {
     "name": "stderr",
     "output_type": "stream",
     "text": [
      "I0000 00:00:1701316797.135456       1 gl_context.cc:344] GL version: 2.1 (2.1 Metal - 88), renderer: Apple M1\n"
     ]
    },
    {
     "name": "stdout",
     "output_type": "stream",
     "text": [
      "video path ../data/UCF101/UCF4 small/WalkingWithDog/v_WalkingWithDog_g02_c06.avi\n",
      "../data/UCF101/UCF4 small/WalkingWithDog/v_WalkingWithDog_g02_c06.avi 경로가 존재합니다.\n",
      "class name WalkingWithDog\n"
     ]
    },
    {
     "name": "stderr",
     "output_type": "stream",
     "text": [
      "I0000 00:00:1701316800.222964       1 gl_context.cc:344] GL version: 2.1 (2.1 Metal - 88), renderer: Apple M1\n"
     ]
    },
    {
     "name": "stdout",
     "output_type": "stream",
     "text": [
      "Epoch [2/5], Train Loss: 1.0352794506720133, Val Loss: 0.7784907619158427\n",
      "video path ../data/UCF101/UCF4 small/Punch/v_Punch_g01_c01.avi\n",
      "../data/UCF101/UCF4 small/Punch/v_Punch_g01_c01.avi 경로가 존재합니다.\n",
      "class name Punch\n"
     ]
    },
    {
     "name": "stderr",
     "output_type": "stream",
     "text": [
      "I0000 00:00:1701316805.900488       1 gl_context.cc:344] GL version: 2.1 (2.1 Metal - 88), renderer: Apple M1\n"
     ]
    },
    {
     "name": "stdout",
     "output_type": "stream",
     "text": [
      "video path ../data/UCF101/UCF4 small/Punch/v_Punch_g02_c04.avi\n",
      "../data/UCF101/UCF4 small/Punch/v_Punch_g02_c04.avi 경로가 존재합니다.\n",
      "class name Punch\n"
     ]
    },
    {
     "name": "stderr",
     "output_type": "stream",
     "text": [
      "I0000 00:00:1701316808.055067       1 gl_context.cc:344] GL version: 2.1 (2.1 Metal - 88), renderer: Apple M1\n"
     ]
    },
    {
     "name": "stdout",
     "output_type": "stream",
     "text": [
      "video path ../data/UCF101/UCF4 small/WalkingWithDog/v_WalkingWithDog_g02_c02.avi\n",
      "../data/UCF101/UCF4 small/WalkingWithDog/v_WalkingWithDog_g02_c02.avi 경로가 존재합니다.\n",
      "class name WalkingWithDog\n"
     ]
    },
    {
     "name": "stderr",
     "output_type": "stream",
     "text": [
      "I0000 00:00:1701316809.500935       1 gl_context.cc:344] GL version: 2.1 (2.1 Metal - 88), renderer: Apple M1\n"
     ]
    },
    {
     "name": "stdout",
     "output_type": "stream",
     "text": [
      "video path ../data/UCF101/UCF4 small/Biking/v_Biking_g01_c03.avi\n",
      "../data/UCF101/UCF4 small/Biking/v_Biking_g01_c03.avi 경로가 존재합니다.\n",
      "class name Biking\n"
     ]
    },
    {
     "name": "stderr",
     "output_type": "stream",
     "text": [
      "I0000 00:00:1701316814.459700       1 gl_context.cc:344] GL version: 2.1 (2.1 Metal - 88), renderer: Apple M1\n"
     ]
    },
    {
     "name": "stdout",
     "output_type": "stream",
     "text": [
      "video path ../data/UCF101/UCF4 small/Punch/v_Punch_g01_c05.avi\n",
      "../data/UCF101/UCF4 small/Punch/v_Punch_g01_c05.avi 경로가 존재합니다.\n",
      "class name Punch\n"
     ]
    },
    {
     "name": "stderr",
     "output_type": "stream",
     "text": [
      "I0000 00:00:1701316818.119001       1 gl_context.cc:344] GL version: 2.1 (2.1 Metal - 88), renderer: Apple M1\n"
     ]
    },
    {
     "name": "stdout",
     "output_type": "stream",
     "text": [
      "video path ../data/UCF101/UCF4 small/Punch/v_Punch_g03_c02.avi\n",
      "../data/UCF101/UCF4 small/Punch/v_Punch_g03_c02.avi 경로가 존재합니다.\n",
      "class name Punch\n"
     ]
    },
    {
     "name": "stderr",
     "output_type": "stream",
     "text": [
      "I0000 00:00:1701316819.201972       1 gl_context.cc:344] GL version: 2.1 (2.1 Metal - 88), renderer: Apple M1\n"
     ]
    },
    {
     "name": "stdout",
     "output_type": "stream",
     "text": [
      "video path ../data/UCF101/UCF4 small/WalkingWithDog/v_WalkingWithDog_g02_c04.avi\n",
      "../data/UCF101/UCF4 small/WalkingWithDog/v_WalkingWithDog_g02_c04.avi 경로가 존재합니다.\n",
      "class name WalkingWithDog\n"
     ]
    },
    {
     "name": "stderr",
     "output_type": "stream",
     "text": [
      "I0000 00:00:1701316826.229490       1 gl_context.cc:344] GL version: 2.1 (2.1 Metal - 88), renderer: Apple M1\n"
     ]
    },
    {
     "name": "stdout",
     "output_type": "stream",
     "text": [
      "video path ../data/UCF101/UCF4 small/Punch/v_Punch_g03_c01.avi\n",
      "../data/UCF101/UCF4 small/Punch/v_Punch_g03_c01.avi 경로가 존재합니다.\n",
      "class name Punch\n"
     ]
    },
    {
     "name": "stderr",
     "output_type": "stream",
     "text": [
      "I0000 00:00:1701316831.951701       1 gl_context.cc:344] GL version: 2.1 (2.1 Metal - 88), renderer: Apple M1\n"
     ]
    },
    {
     "name": "stdout",
     "output_type": "stream",
     "text": [
      "video path ../data/UCF101/UCF4 small/BoxingPunchingBag/v_BoxingPunchingBag_g01_c07.avi\n",
      "../data/UCF101/UCF4 small/BoxingPunchingBag/v_BoxingPunchingBag_g01_c07.avi 경로가 존재합니다.\n",
      "class name BoxingPunchingBag\n"
     ]
    },
    {
     "name": "stderr",
     "output_type": "stream",
     "text": [
      "I0000 00:00:1701316834.500753       1 gl_context.cc:344] GL version: 2.1 (2.1 Metal - 88), renderer: Apple M1\n"
     ]
    },
    {
     "name": "stdout",
     "output_type": "stream",
     "text": [
      "video path ../data/UCF101/UCF4 small/BoxingPunchingBag/v_BoxingPunchingBag_g01_c03.avi\n",
      "../data/UCF101/UCF4 small/BoxingPunchingBag/v_BoxingPunchingBag_g01_c03.avi 경로가 존재합니다.\n",
      "class name BoxingPunchingBag\n"
     ]
    },
    {
     "name": "stderr",
     "output_type": "stream",
     "text": [
      "I0000 00:00:1701316837.866980       1 gl_context.cc:344] GL version: 2.1 (2.1 Metal - 88), renderer: Apple M1\n"
     ]
    },
    {
     "name": "stdout",
     "output_type": "stream",
     "text": [
      "video path ../data/UCF101/UCF4 small/Punch/v_Punch_g02_c02.avi\n",
      "../data/UCF101/UCF4 small/Punch/v_Punch_g02_c02.avi 경로가 존재합니다.\n",
      "class name Punch\n"
     ]
    },
    {
     "name": "stderr",
     "output_type": "stream",
     "text": [
      "I0000 00:00:1701316841.380455       1 gl_context.cc:344] GL version: 2.1 (2.1 Metal - 88), renderer: Apple M1\n"
     ]
    },
    {
     "name": "stdout",
     "output_type": "stream",
     "text": [
      "video path ../data/UCF101/UCF4 small/BoxingPunchingBag/v_BoxingPunchingBag_g01_c01.avi\n",
      "../data/UCF101/UCF4 small/BoxingPunchingBag/v_BoxingPunchingBag_g01_c01.avi 경로가 존재합니다.\n",
      "class name BoxingPunchingBag\n"
     ]
    },
    {
     "name": "stderr",
     "output_type": "stream",
     "text": [
      "I0000 00:00:1701316844.228747       1 gl_context.cc:344] GL version: 2.1 (2.1 Metal - 88), renderer: Apple M1\n"
     ]
    },
    {
     "name": "stdout",
     "output_type": "stream",
     "text": [
      "video path ../data/UCF101/UCF4 small/Biking/v_Biking_g02_c05.avi\n",
      "../data/UCF101/UCF4 small/Biking/v_Biking_g02_c05.avi 경로가 존재합니다.\n",
      "class name Biking\n"
     ]
    },
    {
     "name": "stderr",
     "output_type": "stream",
     "text": [
      "I0000 00:00:1701316846.943433       1 gl_context.cc:344] GL version: 2.1 (2.1 Metal - 88), renderer: Apple M1\n"
     ]
    },
    {
     "name": "stdout",
     "output_type": "stream",
     "text": [
      "video path ../data/UCF101/UCF4 small/WalkingWithDog/v_WalkingWithDog_g02_c05.avi\n",
      "../data/UCF101/UCF4 small/WalkingWithDog/v_WalkingWithDog_g02_c05.avi 경로가 존재합니다.\n",
      "class name WalkingWithDog\n"
     ]
    },
    {
     "name": "stderr",
     "output_type": "stream",
     "text": [
      "I0000 00:00:1701316850.760682       1 gl_context.cc:344] GL version: 2.1 (2.1 Metal - 88), renderer: Apple M1\n"
     ]
    },
    {
     "name": "stdout",
     "output_type": "stream",
     "text": [
      "video path ../data/UCF101/UCF4 small/WalkingWithDog/v_WalkingWithDog_g01_c04.avi\n",
      "../data/UCF101/UCF4 small/WalkingWithDog/v_WalkingWithDog_g01_c04.avi 경로가 존재합니다.\n",
      "class name WalkingWithDog\n"
     ]
    },
    {
     "name": "stderr",
     "output_type": "stream",
     "text": [
      "Context leak detected, msgtracer returned -1\n",
      "I0000 00:00:1701316856.369205       1 gl_context.cc:344] GL version: 2.1 (2.1 Metal - 88), renderer: Apple M1\n"
     ]
    },
    {
     "name": "stdout",
     "output_type": "stream",
     "text": [
      "video path ../data/UCF101/UCF4 small/Punch/v_Punch_g03_c04.avi\n",
      "../data/UCF101/UCF4 small/Punch/v_Punch_g03_c04.avi 경로가 존재합니다.\n",
      "class name Punch\n"
     ]
    },
    {
     "name": "stderr",
     "output_type": "stream",
     "text": [
      "I0000 00:00:1701316860.316361       1 gl_context.cc:344] GL version: 2.1 (2.1 Metal - 88), renderer: Apple M1\n"
     ]
    },
    {
     "name": "stdout",
     "output_type": "stream",
     "text": [
      "video path ../data/UCF101/UCF4 small/WalkingWithDog/v_WalkingWithDog_g02_c03.avi\n",
      "../data/UCF101/UCF4 small/WalkingWithDog/v_WalkingWithDog_g02_c03.avi 경로가 존재합니다.\n",
      "class name WalkingWithDog\n"
     ]
    },
    {
     "name": "stderr",
     "output_type": "stream",
     "text": [
      "I0000 00:00:1701316863.955137       1 gl_context.cc:344] GL version: 2.1 (2.1 Metal - 88), renderer: Apple M1\n"
     ]
    },
    {
     "name": "stdout",
     "output_type": "stream",
     "text": [
      "video path ../data/UCF101/UCF4 small/BoxingPunchingBag/v_BoxingPunchingBag_g01_c05.avi\n",
      "../data/UCF101/UCF4 small/BoxingPunchingBag/v_BoxingPunchingBag_g01_c05.avi 경로가 존재합니다.\n",
      "class name BoxingPunchingBag\n"
     ]
    },
    {
     "name": "stderr",
     "output_type": "stream",
     "text": [
      "I0000 00:00:1701316868.922361       1 gl_context.cc:344] GL version: 2.1 (2.1 Metal - 88), renderer: Apple M1\n"
     ]
    },
    {
     "name": "stdout",
     "output_type": "stream",
     "text": [
      "video path ../data/UCF101/UCF4 small/Biking/v_Biking_g02_c06.avi\n",
      "../data/UCF101/UCF4 small/Biking/v_Biking_g02_c06.avi 경로가 존재합니다.\n",
      "class name Biking\n"
     ]
    },
    {
     "name": "stderr",
     "output_type": "stream",
     "text": [
      "I0000 00:00:1701316872.287123       1 gl_context.cc:344] GL version: 2.1 (2.1 Metal - 88), renderer: Apple M1\n"
     ]
    },
    {
     "name": "stdout",
     "output_type": "stream",
     "text": [
      "video path ../data/UCF101/UCF4 small/Biking/v_Biking_g01_c04.avi\n",
      "../data/UCF101/UCF4 small/Biking/v_Biking_g01_c04.avi 경로가 존재합니다.\n",
      "class name Biking\n"
     ]
    },
    {
     "name": "stderr",
     "output_type": "stream",
     "text": [
      "I0000 00:00:1701316875.130828       1 gl_context.cc:344] GL version: 2.1 (2.1 Metal - 88), renderer: Apple M1\n"
     ]
    },
    {
     "name": "stdout",
     "output_type": "stream",
     "text": [
      "video path ../data/UCF101/UCF4 small/WalkingWithDog/v_WalkingWithDog_g01_c01.avi\n",
      "../data/UCF101/UCF4 small/WalkingWithDog/v_WalkingWithDog_g01_c01.avi 경로가 존재합니다.\n",
      "class name WalkingWithDog\n"
     ]
    },
    {
     "name": "stderr",
     "output_type": "stream",
     "text": [
      "I0000 00:00:1701316878.063759       1 gl_context.cc:344] GL version: 2.1 (2.1 Metal - 88), renderer: Apple M1\n"
     ]
    },
    {
     "name": "stdout",
     "output_type": "stream",
     "text": [
      "video path ../data/UCF101/UCF4 small/WalkingWithDog/v_WalkingWithDog_g01_c03.avi\n",
      "../data/UCF101/UCF4 small/WalkingWithDog/v_WalkingWithDog_g01_c03.avi 경로가 존재합니다.\n",
      "class name WalkingWithDog\n"
     ]
    },
    {
     "name": "stderr",
     "output_type": "stream",
     "text": [
      "I0000 00:00:1701316884.346991       1 gl_context.cc:344] GL version: 2.1 (2.1 Metal - 88), renderer: Apple M1\n"
     ]
    },
    {
     "name": "stdout",
     "output_type": "stream",
     "text": [
      "video path ../data/UCF101/UCF4 small/BoxingPunchingBag/v_BoxingPunchingBag_g01_c06.avi\n",
      "../data/UCF101/UCF4 small/BoxingPunchingBag/v_BoxingPunchingBag_g01_c06.avi 경로가 존재합니다.\n",
      "class name BoxingPunchingBag\n"
     ]
    },
    {
     "name": "stderr",
     "output_type": "stream",
     "text": [
      "I0000 00:00:1701316889.422096       1 gl_context.cc:344] GL version: 2.1 (2.1 Metal - 88), renderer: Apple M1\n"
     ]
    },
    {
     "name": "stdout",
     "output_type": "stream",
     "text": [
      "video path ../data/UCF101/UCF4 small/Punch/v_Punch_g03_c03.avi\n",
      "../data/UCF101/UCF4 small/Punch/v_Punch_g03_c03.avi 경로가 존재합니다.\n",
      "class name Punch\n"
     ]
    },
    {
     "name": "stderr",
     "output_type": "stream",
     "text": [
      "I0000 00:00:1701316892.777224       1 gl_context.cc:344] GL version: 2.1 (2.1 Metal - 88), renderer: Apple M1\n"
     ]
    },
    {
     "name": "stdout",
     "output_type": "stream",
     "text": [
      "video path ../data/UCF101/UCF4 small/Biking/v_Biking_g02_c02.avi\n",
      "../data/UCF101/UCF4 small/Biking/v_Biking_g02_c02.avi 경로가 존재합니다.\n",
      "class name Biking\n"
     ]
    },
    {
     "name": "stderr",
     "output_type": "stream",
     "text": [
      "I0000 00:00:1701316895.761749       1 gl_context.cc:344] GL version: 2.1 (2.1 Metal - 88), renderer: Apple M1\n"
     ]
    },
    {
     "name": "stdout",
     "output_type": "stream",
     "text": [
      "video path ../data/UCF101/UCF4 small/BoxingPunchingBag/v_BoxingPunchingBag_g01_c04.avi\n",
      "../data/UCF101/UCF4 small/BoxingPunchingBag/v_BoxingPunchingBag_g01_c04.avi 경로가 존재합니다.\n",
      "class name BoxingPunchingBag\n"
     ]
    },
    {
     "name": "stderr",
     "output_type": "stream",
     "text": [
      "I0000 00:00:1701316899.146333       1 gl_context.cc:344] GL version: 2.1 (2.1 Metal - 88), renderer: Apple M1\n"
     ]
    },
    {
     "name": "stdout",
     "output_type": "stream",
     "text": [
      "video path ../data/UCF101/UCF4 small/Biking/v_Biking_g02_c03.avi\n",
      "../data/UCF101/UCF4 small/Biking/v_Biking_g02_c03.avi 경로가 존재합니다.\n",
      "class name Biking\n"
     ]
    },
    {
     "name": "stderr",
     "output_type": "stream",
     "text": [
      "I0000 00:00:1701316902.504057       1 gl_context.cc:344] GL version: 2.1 (2.1 Metal - 88), renderer: Apple M1\n"
     ]
    },
    {
     "name": "stdout",
     "output_type": "stream",
     "text": [
      "video path ../data/UCF101/UCF4 small/Punch/v_Punch_g01_c02.avi\n",
      "../data/UCF101/UCF4 small/Punch/v_Punch_g01_c02.avi 경로가 존재합니다.\n",
      "class name Punch\n"
     ]
    },
    {
     "name": "stderr",
     "output_type": "stream",
     "text": [
      "I0000 00:00:1701316905.502488       1 gl_context.cc:344] GL version: 2.1 (2.1 Metal - 88), renderer: Apple M1\n"
     ]
    },
    {
     "name": "stdout",
     "output_type": "stream",
     "text": [
      "video path ../data/UCF101/UCF4 small/Punch/v_Punch_g01_c03.avi\n",
      "../data/UCF101/UCF4 small/Punch/v_Punch_g01_c03.avi 경로가 존재합니다.\n",
      "class name Punch\n"
     ]
    },
    {
     "name": "stderr",
     "output_type": "stream",
     "text": [
      "I0000 00:00:1701316907.033636       1 gl_context.cc:344] GL version: 2.1 (2.1 Metal - 88), renderer: Apple M1\n"
     ]
    },
    {
     "name": "stdout",
     "output_type": "stream",
     "text": [
      "video path ../data/UCF101/UCF4 small/WalkingWithDog/v_WalkingWithDog_g02_c06.avi\n",
      "../data/UCF101/UCF4 small/WalkingWithDog/v_WalkingWithDog_g02_c06.avi 경로가 존재합니다.\n",
      "class name WalkingWithDog\n"
     ]
    },
    {
     "name": "stderr",
     "output_type": "stream",
     "text": [
      "I0000 00:00:1701316907.672635       1 gl_context.cc:344] GL version: 2.1 (2.1 Metal - 88), renderer: Apple M1\n"
     ]
    },
    {
     "name": "stdout",
     "output_type": "stream",
     "text": [
      "video path ../data/UCF101/UCF4 small/Biking/v_Biking_g01_c01.avi\n",
      "../data/UCF101/UCF4 small/Biking/v_Biking_g01_c01.avi 경로가 존재합니다.\n",
      "class name Biking\n"
     ]
    },
    {
     "name": "stderr",
     "output_type": "stream",
     "text": [
      "Context leak detected, msgtracer returned -1\n",
      "I0000 00:00:1701316912.231054       1 gl_context.cc:344] GL version: 2.1 (2.1 Metal - 88), renderer: Apple M1\n"
     ]
    },
    {
     "name": "stdout",
     "output_type": "stream",
     "text": [
      "video path ../data/UCF101/UCF4 small/Biking/v_Biking_g02_c04.avi\n",
      "../data/UCF101/UCF4 small/Biking/v_Biking_g02_c04.avi 경로가 존재합니다.\n",
      "class name Biking\n"
     ]
    },
    {
     "name": "stderr",
     "output_type": "stream",
     "text": [
      "I0000 00:00:1701316914.961738       1 gl_context.cc:344] GL version: 2.1 (2.1 Metal - 88), renderer: Apple M1\n"
     ]
    },
    {
     "name": "stdout",
     "output_type": "stream",
     "text": [
      "video path ../data/UCF101/UCF4 small/Biking/v_Biking_g02_c01.avi\n",
      "../data/UCF101/UCF4 small/Biking/v_Biking_g02_c01.avi 경로가 존재합니다.\n",
      "class name Biking\n"
     ]
    },
    {
     "name": "stderr",
     "output_type": "stream",
     "text": [
      "I0000 00:00:1701316917.775694       1 gl_context.cc:344] GL version: 2.1 (2.1 Metal - 88), renderer: Apple M1\n"
     ]
    },
    {
     "name": "stdout",
     "output_type": "stream",
     "text": [
      "video path ../data/UCF101/UCF4 small/WalkingWithDog/v_WalkingWithDog_g01_c02.avi\n",
      "../data/UCF101/UCF4 small/WalkingWithDog/v_WalkingWithDog_g01_c02.avi 경로가 존재합니다.\n",
      "class name WalkingWithDog\n"
     ]
    },
    {
     "name": "stderr",
     "output_type": "stream",
     "text": [
      "I0000 00:00:1701316921.111798       1 gl_context.cc:344] GL version: 2.1 (2.1 Metal - 88), renderer: Apple M1\n"
     ]
    },
    {
     "name": "stdout",
     "output_type": "stream",
     "text": [
      "Epoch [3/5], Train Loss: 0.9403689865555082, Val Loss: 0.6138244767983755\n",
      "video path ../data/UCF101/UCF4 small/Biking/v_Biking_g01_c03.avi\n",
      "../data/UCF101/UCF4 small/Biking/v_Biking_g01_c03.avi 경로가 존재합니다.\n",
      "class name Biking\n"
     ]
    },
    {
     "name": "stderr",
     "output_type": "stream",
     "text": [
      "I0000 00:00:1701316925.504671       1 gl_context.cc:344] GL version: 2.1 (2.1 Metal - 88), renderer: Apple M1\n"
     ]
    },
    {
     "name": "stdout",
     "output_type": "stream",
     "text": [
      "video path ../data/UCF101/UCF4 small/BoxingPunchingBag/v_BoxingPunchingBag_g01_c03.avi\n",
      "../data/UCF101/UCF4 small/BoxingPunchingBag/v_BoxingPunchingBag_g01_c03.avi 경로가 존재합니다.\n",
      "class name BoxingPunchingBag\n"
     ]
    },
    {
     "name": "stderr",
     "output_type": "stream",
     "text": [
      "I0000 00:00:1701316928.722100       1 gl_context.cc:344] GL version: 2.1 (2.1 Metal - 88), renderer: Apple M1\n"
     ]
    },
    {
     "name": "stdout",
     "output_type": "stream",
     "text": [
      "video path ../data/UCF101/UCF4 small/Punch/v_Punch_g01_c01.avi\n",
      "../data/UCF101/UCF4 small/Punch/v_Punch_g01_c01.avi 경로가 존재합니다.\n",
      "class name Punch\n"
     ]
    },
    {
     "name": "stderr",
     "output_type": "stream",
     "text": [
      "I0000 00:00:1701316931.581003       1 gl_context.cc:344] GL version: 2.1 (2.1 Metal - 88), renderer: Apple M1\n"
     ]
    },
    {
     "name": "stdout",
     "output_type": "stream",
     "text": [
      "video path ../data/UCF101/UCF4 small/WalkingWithDog/v_WalkingWithDog_g01_c01.avi\n",
      "../data/UCF101/UCF4 small/WalkingWithDog/v_WalkingWithDog_g01_c01.avi 경로가 존재합니다.\n",
      "class name WalkingWithDog\n"
     ]
    },
    {
     "name": "stderr",
     "output_type": "stream",
     "text": [
      "I0000 00:00:1701316933.810901       1 gl_context.cc:344] GL version: 2.1 (2.1 Metal - 88), renderer: Apple M1\n"
     ]
    },
    {
     "name": "stdout",
     "output_type": "stream",
     "text": [
      "video path ../data/UCF101/UCF4 small/Punch/v_Punch_g01_c05.avi\n",
      "../data/UCF101/UCF4 small/Punch/v_Punch_g01_c05.avi 경로가 존재합니다.\n",
      "class name Punch\n"
     ]
    },
    {
     "name": "stderr",
     "output_type": "stream",
     "text": [
      "I0000 00:00:1701316939.172686       1 gl_context.cc:344] GL version: 2.1 (2.1 Metal - 88), renderer: Apple M1\n"
     ]
    },
    {
     "name": "stdout",
     "output_type": "stream",
     "text": [
      "video path ../data/UCF101/UCF4 small/Punch/v_Punch_g03_c04.avi\n",
      "../data/UCF101/UCF4 small/Punch/v_Punch_g03_c04.avi 경로가 존재합니다.\n",
      "class name Punch\n"
     ]
    },
    {
     "name": "stderr",
     "output_type": "stream",
     "text": [
      "I0000 00:00:1701316940.224823       1 gl_context.cc:344] GL version: 2.1 (2.1 Metal - 88), renderer: Apple M1\n"
     ]
    },
    {
     "name": "stdout",
     "output_type": "stream",
     "text": [
      "video path ../data/UCF101/UCF4 small/BoxingPunchingBag/v_BoxingPunchingBag_g01_c01.avi\n",
      "../data/UCF101/UCF4 small/BoxingPunchingBag/v_BoxingPunchingBag_g01_c01.avi 경로가 존재합니다.\n",
      "class name BoxingPunchingBag\n"
     ]
    },
    {
     "name": "stderr",
     "output_type": "stream",
     "text": [
      "I0000 00:00:1701316943.396689       1 gl_context.cc:344] GL version: 2.1 (2.1 Metal - 88), renderer: Apple M1\n"
     ]
    },
    {
     "name": "stdout",
     "output_type": "stream",
     "text": [
      "video path ../data/UCF101/UCF4 small/Punch/v_Punch_g03_c02.avi\n",
      "../data/UCF101/UCF4 small/Punch/v_Punch_g03_c02.avi 경로가 존재합니다.\n",
      "class name Punch\n"
     ]
    },
    {
     "name": "stderr",
     "output_type": "stream",
     "text": [
      "I0000 00:00:1701316945.940925       1 gl_context.cc:344] GL version: 2.1 (2.1 Metal - 88), renderer: Apple M1\n"
     ]
    },
    {
     "name": "stdout",
     "output_type": "stream",
     "text": [
      "video path ../data/UCF101/UCF4 small/BoxingPunchingBag/v_BoxingPunchingBag_g01_c04.avi\n",
      "../data/UCF101/UCF4 small/BoxingPunchingBag/v_BoxingPunchingBag_g01_c04.avi 경로가 존재합니다.\n",
      "class name BoxingPunchingBag\n"
     ]
    },
    {
     "name": "stderr",
     "output_type": "stream",
     "text": [
      "I0000 00:00:1701316951.529308       1 gl_context.cc:344] GL version: 2.1 (2.1 Metal - 88), renderer: Apple M1\n"
     ]
    },
    {
     "name": "stdout",
     "output_type": "stream",
     "text": [
      "video path ../data/UCF101/UCF4 small/WalkingWithDog/v_WalkingWithDog_g02_c05.avi\n",
      "../data/UCF101/UCF4 small/WalkingWithDog/v_WalkingWithDog_g02_c05.avi 경로가 존재합니다.\n",
      "class name WalkingWithDog\n"
     ]
    },
    {
     "name": "stderr",
     "output_type": "stream",
     "text": [
      "I0000 00:00:1701316956.089558       1 gl_context.cc:344] GL version: 2.1 (2.1 Metal - 88), renderer: Apple M1\n"
     ]
    },
    {
     "name": "stdout",
     "output_type": "stream",
     "text": [
      "video path ../data/UCF101/UCF4 small/Punch/v_Punch_g03_c01.avi\n",
      "../data/UCF101/UCF4 small/Punch/v_Punch_g03_c01.avi 경로가 존재합니다.\n",
      "class name Punch\n"
     ]
    },
    {
     "name": "stderr",
     "output_type": "stream",
     "text": [
      "I0000 00:00:1701316961.177044       1 gl_context.cc:344] GL version: 2.1 (2.1 Metal - 88), renderer: Apple M1\n"
     ]
    },
    {
     "name": "stdout",
     "output_type": "stream",
     "text": [
      "video path ../data/UCF101/UCF4 small/Biking/v_Biking_g02_c06.avi\n",
      "../data/UCF101/UCF4 small/Biking/v_Biking_g02_c06.avi 경로가 존재합니다.\n",
      "class name Biking\n"
     ]
    },
    {
     "name": "stderr",
     "output_type": "stream",
     "text": [
      "I0000 00:00:1701316963.323518       1 gl_context.cc:344] GL version: 2.1 (2.1 Metal - 88), renderer: Apple M1\n"
     ]
    },
    {
     "name": "stdout",
     "output_type": "stream",
     "text": [
      "video path ../data/UCF101/UCF4 small/Biking/v_Biking_g02_c05.avi\n",
      "../data/UCF101/UCF4 small/Biking/v_Biking_g02_c05.avi 경로가 존재합니다.\n",
      "class name Biking\n"
     ]
    },
    {
     "name": "stderr",
     "output_type": "stream",
     "text": [
      "I0000 00:00:1701316966.441753       1 gl_context.cc:344] GL version: 2.1 (2.1 Metal - 88), renderer: Apple M1\n"
     ]
    },
    {
     "name": "stdout",
     "output_type": "stream",
     "text": [
      "video path ../data/UCF101/UCF4 small/WalkingWithDog/v_WalkingWithDog_g01_c04.avi\n",
      "../data/UCF101/UCF4 small/WalkingWithDog/v_WalkingWithDog_g01_c04.avi 경로가 존재합니다.\n",
      "class name WalkingWithDog\n"
     ]
    },
    {
     "name": "stderr",
     "output_type": "stream",
     "text": [
      "Context leak detected, msgtracer returned -1\n",
      "I0000 00:00:1701316969.567799       1 gl_context.cc:344] GL version: 2.1 (2.1 Metal - 88), renderer: Apple M1\n"
     ]
    },
    {
     "name": "stdout",
     "output_type": "stream",
     "text": [
      "video path ../data/UCF101/UCF4 small/BoxingPunchingBag/v_BoxingPunchingBag_g01_c05.avi\n",
      "../data/UCF101/UCF4 small/BoxingPunchingBag/v_BoxingPunchingBag_g01_c05.avi 경로가 존재합니다.\n",
      "class name BoxingPunchingBag\n"
     ]
    },
    {
     "name": "stderr",
     "output_type": "stream",
     "text": [
      "I0000 00:00:1701316973.194872       1 gl_context.cc:344] GL version: 2.1 (2.1 Metal - 88), renderer: Apple M1\n"
     ]
    },
    {
     "name": "stdout",
     "output_type": "stream",
     "text": [
      "video path ../data/UCF101/UCF4 small/WalkingWithDog/v_WalkingWithDog_g02_c03.avi\n",
      "../data/UCF101/UCF4 small/WalkingWithDog/v_WalkingWithDog_g02_c03.avi 경로가 존재합니다.\n",
      "class name WalkingWithDog\n"
     ]
    },
    {
     "name": "stderr",
     "output_type": "stream",
     "text": [
      "I0000 00:00:1701316976.554898       1 gl_context.cc:344] GL version: 2.1 (2.1 Metal - 88), renderer: Apple M1\n"
     ]
    },
    {
     "name": "stdout",
     "output_type": "stream",
     "text": [
      "video path ../data/UCF101/UCF4 small/WalkingWithDog/v_WalkingWithDog_g02_c04.avi\n",
      "../data/UCF101/UCF4 small/WalkingWithDog/v_WalkingWithDog_g02_c04.avi 경로가 존재합니다.\n",
      "class name WalkingWithDog\n"
     ]
    },
    {
     "name": "stderr",
     "output_type": "stream",
     "text": [
      "I0000 00:00:1701316981.608319       1 gl_context.cc:344] GL version: 2.1 (2.1 Metal - 88), renderer: Apple M1\n"
     ]
    },
    {
     "name": "stdout",
     "output_type": "stream",
     "text": [
      "video path ../data/UCF101/UCF4 small/Biking/v_Biking_g02_c03.avi\n",
      "../data/UCF101/UCF4 small/Biking/v_Biking_g02_c03.avi 경로가 존재합니다.\n",
      "class name Biking\n"
     ]
    },
    {
     "name": "stderr",
     "output_type": "stream",
     "text": [
      "I0000 00:00:1701316986.897599       1 gl_context.cc:344] GL version: 2.1 (2.1 Metal - 88), renderer: Apple M1\n"
     ]
    },
    {
     "name": "stdout",
     "output_type": "stream",
     "text": [
      "video path ../data/UCF101/UCF4 small/Punch/v_Punch_g01_c02.avi\n",
      "../data/UCF101/UCF4 small/Punch/v_Punch_g01_c02.avi 경로가 존재합니다.\n",
      "class name Punch\n"
     ]
    },
    {
     "name": "stderr",
     "output_type": "stream",
     "text": [
      "I0000 00:00:1701316990.509657       1 gl_context.cc:344] GL version: 2.1 (2.1 Metal - 88), renderer: Apple M1\n"
     ]
    },
    {
     "name": "stdout",
     "output_type": "stream",
     "text": [
      "video path ../data/UCF101/UCF4 small/BoxingPunchingBag/v_BoxingPunchingBag_g01_c07.avi\n",
      "../data/UCF101/UCF4 small/BoxingPunchingBag/v_BoxingPunchingBag_g01_c07.avi 경로가 존재합니다.\n",
      "class name BoxingPunchingBag\n"
     ]
    },
    {
     "name": "stderr",
     "output_type": "stream",
     "text": [
      "I0000 00:00:1701316992.529251       1 gl_context.cc:344] GL version: 2.1 (2.1 Metal - 88), renderer: Apple M1\n"
     ]
    },
    {
     "name": "stdout",
     "output_type": "stream",
     "text": [
      "video path ../data/UCF101/UCF4 small/Biking/v_Biking_g01_c04.avi\n",
      "../data/UCF101/UCF4 small/Biking/v_Biking_g01_c04.avi 경로가 존재합니다.\n",
      "class name Biking\n"
     ]
    },
    {
     "name": "stderr",
     "output_type": "stream",
     "text": [
      "I0000 00:00:1701316995.836873       1 gl_context.cc:344] GL version: 2.1 (2.1 Metal - 88), renderer: Apple M1\n"
     ]
    },
    {
     "name": "stdout",
     "output_type": "stream",
     "text": [
      "video path ../data/UCF101/UCF4 small/Biking/v_Biking_g02_c02.avi\n",
      "../data/UCF101/UCF4 small/Biking/v_Biking_g02_c02.avi 경로가 존재합니다.\n",
      "class name Biking\n"
     ]
    },
    {
     "name": "stderr",
     "output_type": "stream",
     "text": [
      "I0000 00:00:1701316999.496984       1 gl_context.cc:344] GL version: 2.1 (2.1 Metal - 88), renderer: Apple M1\n"
     ]
    },
    {
     "name": "stdout",
     "output_type": "stream",
     "text": [
      "video path ../data/UCF101/UCF4 small/Punch/v_Punch_g03_c03.avi\n",
      "../data/UCF101/UCF4 small/Punch/v_Punch_g03_c03.avi 경로가 존재합니다.\n",
      "class name Punch\n"
     ]
    },
    {
     "name": "stderr",
     "output_type": "stream",
     "text": [
      "I0000 00:00:1701317002.435959       1 gl_context.cc:344] GL version: 2.1 (2.1 Metal - 88), renderer: Apple M1\n"
     ]
    },
    {
     "name": "stdout",
     "output_type": "stream",
     "text": [
      "video path ../data/UCF101/UCF4 small/WalkingWithDog/v_WalkingWithDog_g01_c03.avi\n",
      "../data/UCF101/UCF4 small/WalkingWithDog/v_WalkingWithDog_g01_c03.avi 경로가 존재합니다.\n",
      "class name WalkingWithDog\n"
     ]
    },
    {
     "name": "stderr",
     "output_type": "stream",
     "text": [
      "I0000 00:00:1701317005.335695       1 gl_context.cc:344] GL version: 2.1 (2.1 Metal - 88), renderer: Apple M1\n"
     ]
    },
    {
     "name": "stdout",
     "output_type": "stream",
     "text": [
      "video path ../data/UCF101/UCF4 small/Punch/v_Punch_g02_c04.avi\n",
      "../data/UCF101/UCF4 small/Punch/v_Punch_g02_c04.avi 경로가 존재합니다.\n",
      "class name Punch\n"
     ]
    },
    {
     "name": "stderr",
     "output_type": "stream",
     "text": [
      "I0000 00:00:1701317009.957069       1 gl_context.cc:344] GL version: 2.1 (2.1 Metal - 88), renderer: Apple M1\n"
     ]
    },
    {
     "name": "stdout",
     "output_type": "stream",
     "text": [
      "video path ../data/UCF101/UCF4 small/Punch/v_Punch_g02_c02.avi\n",
      "../data/UCF101/UCF4 small/Punch/v_Punch_g02_c02.avi 경로가 존재합니다.\n",
      "class name Punch\n"
     ]
    },
    {
     "name": "stderr",
     "output_type": "stream",
     "text": [
      "I0000 00:00:1701317011.214417       1 gl_context.cc:344] GL version: 2.1 (2.1 Metal - 88), renderer: Apple M1\n"
     ]
    },
    {
     "name": "stdout",
     "output_type": "stream",
     "text": [
      "video path ../data/UCF101/UCF4 small/WalkingWithDog/v_WalkingWithDog_g02_c02.avi\n",
      "../data/UCF101/UCF4 small/WalkingWithDog/v_WalkingWithDog_g02_c02.avi 경로가 존재합니다.\n",
      "class name WalkingWithDog\n"
     ]
    },
    {
     "name": "stderr",
     "output_type": "stream",
     "text": [
      "I0000 00:00:1701317013.670176       1 gl_context.cc:344] GL version: 2.1 (2.1 Metal - 88), renderer: Apple M1\n"
     ]
    },
    {
     "name": "stdout",
     "output_type": "stream",
     "text": [
      "video path ../data/UCF101/UCF4 small/BoxingPunchingBag/v_BoxingPunchingBag_g01_c06.avi\n",
      "../data/UCF101/UCF4 small/BoxingPunchingBag/v_BoxingPunchingBag_g01_c06.avi 경로가 존재합니다.\n",
      "class name BoxingPunchingBag\n"
     ]
    },
    {
     "name": "stderr",
     "output_type": "stream",
     "text": [
      "I0000 00:00:1701317018.455918       1 gl_context.cc:344] GL version: 2.1 (2.1 Metal - 88), renderer: Apple M1\n"
     ]
    },
    {
     "name": "stdout",
     "output_type": "stream",
     "text": [
      "video path ../data/UCF101/UCF4 small/WalkingWithDog/v_WalkingWithDog_g01_c02.avi\n",
      "../data/UCF101/UCF4 small/WalkingWithDog/v_WalkingWithDog_g01_c02.avi 경로가 존재합니다.\n",
      "class name WalkingWithDog\n"
     ]
    },
    {
     "name": "stderr",
     "output_type": "stream",
     "text": [
      "I0000 00:00:1701317021.980841       1 gl_context.cc:344] GL version: 2.1 (2.1 Metal - 88), renderer: Apple M1\n"
     ]
    },
    {
     "name": "stdout",
     "output_type": "stream",
     "text": [
      "video path ../data/UCF101/UCF4 small/Biking/v_Biking_g01_c01.avi\n",
      "../data/UCF101/UCF4 small/Biking/v_Biking_g01_c01.avi 경로가 존재합니다.\n",
      "class name Biking\n"
     ]
    },
    {
     "name": "stderr",
     "output_type": "stream",
     "text": [
      "I0000 00:00:1701317026.602684       1 gl_context.cc:344] GL version: 2.1 (2.1 Metal - 88), renderer: Apple M1\n"
     ]
    },
    {
     "name": "stdout",
     "output_type": "stream",
     "text": [
      "video path ../data/UCF101/UCF4 small/Biking/v_Biking_g02_c04.avi\n",
      "../data/UCF101/UCF4 small/Biking/v_Biking_g02_c04.avi 경로가 존재합니다.\n",
      "class name Biking\n"
     ]
    },
    {
     "name": "stderr",
     "output_type": "stream",
     "text": [
      "Context leak detected, msgtracer returned -1\n",
      "I0000 00:00:1701317029.598037       1 gl_context.cc:344] GL version: 2.1 (2.1 Metal - 88), renderer: Apple M1\n"
     ]
    },
    {
     "name": "stdout",
     "output_type": "stream",
     "text": [
      "video path ../data/UCF101/UCF4 small/Biking/v_Biking_g02_c01.avi\n",
      "../data/UCF101/UCF4 small/Biking/v_Biking_g02_c01.avi 경로가 존재합니다.\n",
      "class name Biking\n"
     ]
    },
    {
     "name": "stderr",
     "output_type": "stream",
     "text": [
      "I0000 00:00:1701317032.506300       1 gl_context.cc:344] GL version: 2.1 (2.1 Metal - 88), renderer: Apple M1\n"
     ]
    },
    {
     "name": "stdout",
     "output_type": "stream",
     "text": [
      "video path ../data/UCF101/UCF4 small/Punch/v_Punch_g01_c03.avi\n",
      "../data/UCF101/UCF4 small/Punch/v_Punch_g01_c03.avi 경로가 존재합니다.\n",
      "class name Punch\n"
     ]
    },
    {
     "name": "stderr",
     "output_type": "stream",
     "text": [
      "I0000 00:00:1701317035.266157       1 gl_context.cc:344] GL version: 2.1 (2.1 Metal - 88), renderer: Apple M1\n"
     ]
    },
    {
     "name": "stdout",
     "output_type": "stream",
     "text": [
      "video path ../data/UCF101/UCF4 small/WalkingWithDog/v_WalkingWithDog_g02_c06.avi\n",
      "../data/UCF101/UCF4 small/WalkingWithDog/v_WalkingWithDog_g02_c06.avi 경로가 존재합니다.\n",
      "class name WalkingWithDog\n"
     ]
    },
    {
     "name": "stderr",
     "output_type": "stream",
     "text": [
      "I0000 00:00:1701317036.195772       1 gl_context.cc:344] GL version: 2.1 (2.1 Metal - 88), renderer: Apple M1\n"
     ]
    },
    {
     "name": "stdout",
     "output_type": "stream",
     "text": [
      "Epoch [4/5], Train Loss: 0.8773567527532578, Val Loss: 0.6709896425406138\n",
      "video path ../data/UCF101/UCF4 small/Punch/v_Punch_g01_c05.avi\n",
      "../data/UCF101/UCF4 small/Punch/v_Punch_g01_c05.avi 경로가 존재합니다.\n",
      "class name Punch\n"
     ]
    },
    {
     "name": "stderr",
     "output_type": "stream",
     "text": [
      "I0000 00:00:1701317041.358112       1 gl_context.cc:344] GL version: 2.1 (2.1 Metal - 88), renderer: Apple M1\n"
     ]
    },
    {
     "name": "stdout",
     "output_type": "stream",
     "text": [
      "video path ../data/UCF101/UCF4 small/BoxingPunchingBag/v_BoxingPunchingBag_g01_c06.avi\n",
      "../data/UCF101/UCF4 small/BoxingPunchingBag/v_BoxingPunchingBag_g01_c06.avi 경로가 존재합니다.\n",
      "class name BoxingPunchingBag\n"
     ]
    },
    {
     "name": "stderr",
     "output_type": "stream",
     "text": [
      "I0000 00:00:1701317042.468931       1 gl_context.cc:344] GL version: 2.1 (2.1 Metal - 88), renderer: Apple M1\n"
     ]
    },
    {
     "name": "stdout",
     "output_type": "stream",
     "text": [
      "video path ../data/UCF101/UCF4 small/Punch/v_Punch_g02_c02.avi\n",
      "../data/UCF101/UCF4 small/Punch/v_Punch_g02_c02.avi 경로가 존재합니다.\n",
      "class name Punch\n"
     ]
    },
    {
     "name": "stderr",
     "output_type": "stream",
     "text": [
      "I0000 00:00:1701317046.514839       1 gl_context.cc:344] GL version: 2.1 (2.1 Metal - 88), renderer: Apple M1\n"
     ]
    },
    {
     "name": "stdout",
     "output_type": "stream",
     "text": [
      "video path ../data/UCF101/UCF4 small/WalkingWithDog/v_WalkingWithDog_g02_c02.avi\n",
      "../data/UCF101/UCF4 small/WalkingWithDog/v_WalkingWithDog_g02_c02.avi 경로가 존재합니다.\n",
      "class name WalkingWithDog\n"
     ]
    },
    {
     "name": "stderr",
     "output_type": "stream",
     "text": [
      "I0000 00:00:1701317048.936340       1 gl_context.cc:344] GL version: 2.1 (2.1 Metal - 88), renderer: Apple M1\n"
     ]
    },
    {
     "name": "stdout",
     "output_type": "stream",
     "text": [
      "video path ../data/UCF101/UCF4 small/Biking/v_Biking_g02_c02.avi\n",
      "../data/UCF101/UCF4 small/Biking/v_Biking_g02_c02.avi 경로가 존재합니다.\n",
      "class name Biking\n"
     ]
    },
    {
     "name": "stderr",
     "output_type": "stream",
     "text": [
      "I0000 00:00:1701317054.118130       1 gl_context.cc:344] GL version: 2.1 (2.1 Metal - 88), renderer: Apple M1\n"
     ]
    },
    {
     "name": "stdout",
     "output_type": "stream",
     "text": [
      "video path ../data/UCF101/UCF4 small/Punch/v_Punch_g02_c04.avi\n",
      "../data/UCF101/UCF4 small/Punch/v_Punch_g02_c04.avi 경로가 존재합니다.\n",
      "class name Punch\n"
     ]
    },
    {
     "name": "stderr",
     "output_type": "stream",
     "text": [
      "I0000 00:00:1701317057.137998       1 gl_context.cc:344] GL version: 2.1 (2.1 Metal - 88), renderer: Apple M1\n"
     ]
    },
    {
     "name": "stdout",
     "output_type": "stream",
     "text": [
      "video path ../data/UCF101/UCF4 small/BoxingPunchingBag/v_BoxingPunchingBag_g01_c01.avi\n",
      "../data/UCF101/UCF4 small/BoxingPunchingBag/v_BoxingPunchingBag_g01_c01.avi 경로가 존재합니다.\n",
      "class name BoxingPunchingBag\n"
     ]
    },
    {
     "name": "stderr",
     "output_type": "stream",
     "text": [
      "I0000 00:00:1701317058.373433       1 gl_context.cc:344] GL version: 2.1 (2.1 Metal - 88), renderer: Apple M1\n"
     ]
    },
    {
     "name": "stdout",
     "output_type": "stream",
     "text": [
      "video path ../data/UCF101/UCF4 small/BoxingPunchingBag/v_BoxingPunchingBag_g01_c07.avi\n",
      "../data/UCF101/UCF4 small/BoxingPunchingBag/v_BoxingPunchingBag_g01_c07.avi 경로가 존재합니다.\n",
      "class name BoxingPunchingBag\n"
     ]
    },
    {
     "name": "stderr",
     "output_type": "stream",
     "text": [
      "I0000 00:00:1701317061.117974       1 gl_context.cc:344] GL version: 2.1 (2.1 Metal - 88), renderer: Apple M1\n"
     ]
    },
    {
     "name": "stdout",
     "output_type": "stream",
     "text": [
      "video path ../data/UCF101/UCF4 small/Biking/v_Biking_g01_c04.avi\n",
      "../data/UCF101/UCF4 small/Biking/v_Biking_g01_c04.avi 경로가 존재합니다.\n",
      "class name Biking\n"
     ]
    },
    {
     "name": "stderr",
     "output_type": "stream",
     "text": [
      "I0000 00:00:1701317064.335995       1 gl_context.cc:344] GL version: 2.1 (2.1 Metal - 88), renderer: Apple M1\n"
     ]
    },
    {
     "name": "stdout",
     "output_type": "stream",
     "text": [
      "video path ../data/UCF101/UCF4 small/WalkingWithDog/v_WalkingWithDog_g02_c04.avi\n",
      "../data/UCF101/UCF4 small/WalkingWithDog/v_WalkingWithDog_g02_c04.avi 경로가 존재합니다.\n",
      "class name WalkingWithDog\n"
     ]
    },
    {
     "name": "stderr",
     "output_type": "stream",
     "text": [
      "I0000 00:00:1701317067.627725       1 gl_context.cc:344] GL version: 2.1 (2.1 Metal - 88), renderer: Apple M1\n"
     ]
    },
    {
     "name": "stdout",
     "output_type": "stream",
     "text": [
      "video path ../data/UCF101/UCF4 small/WalkingWithDog/v_WalkingWithDog_g02_c05.avi\n",
      "../data/UCF101/UCF4 small/WalkingWithDog/v_WalkingWithDog_g02_c05.avi 경로가 존재합니다.\n",
      "class name WalkingWithDog\n"
     ]
    },
    {
     "name": "stderr",
     "output_type": "stream",
     "text": [
      "I0000 00:00:1701317072.554742       1 gl_context.cc:344] GL version: 2.1 (2.1 Metal - 88), renderer: Apple M1\n"
     ]
    },
    {
     "name": "stdout",
     "output_type": "stream",
     "text": [
      "video path ../data/UCF101/UCF4 small/WalkingWithDog/v_WalkingWithDog_g02_c03.avi\n",
      "../data/UCF101/UCF4 small/WalkingWithDog/v_WalkingWithDog_g02_c03.avi 경로가 존재합니다.\n",
      "class name WalkingWithDog\n"
     ]
    },
    {
     "name": "stderr",
     "output_type": "stream",
     "text": [
      "I0000 00:00:1701317077.029502       1 gl_context.cc:344] GL version: 2.1 (2.1 Metal - 88), renderer: Apple M1\n"
     ]
    },
    {
     "name": "stdout",
     "output_type": "stream",
     "text": [
      "video path ../data/UCF101/UCF4 small/WalkingWithDog/v_WalkingWithDog_g01_c04.avi\n",
      "../data/UCF101/UCF4 small/WalkingWithDog/v_WalkingWithDog_g01_c04.avi 경로가 존재합니다.\n",
      "class name WalkingWithDog\n"
     ]
    },
    {
     "name": "stderr",
     "output_type": "stream",
     "text": [
      "Context leak detected, msgtracer returned -1\n",
      "I0000 00:00:1701317081.836234       1 gl_context.cc:344] GL version: 2.1 (2.1 Metal - 88), renderer: Apple M1\n"
     ]
    },
    {
     "name": "stdout",
     "output_type": "stream",
     "text": [
      "video path ../data/UCF101/UCF4 small/BoxingPunchingBag/v_BoxingPunchingBag_g01_c03.avi\n",
      "../data/UCF101/UCF4 small/BoxingPunchingBag/v_BoxingPunchingBag_g01_c03.avi 경로가 존재합니다.\n",
      "class name BoxingPunchingBag\n"
     ]
    },
    {
     "name": "stderr",
     "output_type": "stream",
     "text": [
      "I0000 00:00:1701317085.576881       1 gl_context.cc:344] GL version: 2.1 (2.1 Metal - 88), renderer: Apple M1\n"
     ]
    },
    {
     "name": "stdout",
     "output_type": "stream",
     "text": [
      "video path ../data/UCF101/UCF4 small/Punch/v_Punch_g03_c01.avi\n",
      "../data/UCF101/UCF4 small/Punch/v_Punch_g03_c01.avi 경로가 존재합니다.\n",
      "class name Punch\n"
     ]
    },
    {
     "name": "stderr",
     "output_type": "stream",
     "text": [
      "I0000 00:00:1701317089.077436       1 gl_context.cc:344] GL version: 2.1 (2.1 Metal - 88), renderer: Apple M1\n"
     ]
    },
    {
     "name": "stdout",
     "output_type": "stream",
     "text": [
      "video path ../data/UCF101/UCF4 small/Punch/v_Punch_g01_c02.avi\n",
      "../data/UCF101/UCF4 small/Punch/v_Punch_g01_c02.avi 경로가 존재합니다.\n",
      "class name Punch\n"
     ]
    },
    {
     "name": "stderr",
     "output_type": "stream",
     "text": [
      "I0000 00:00:1701317091.449596       1 gl_context.cc:344] GL version: 2.1 (2.1 Metal - 88), renderer: Apple M1\n"
     ]
    },
    {
     "name": "stdout",
     "output_type": "stream",
     "text": [
      "video path ../data/UCF101/UCF4 small/Punch/v_Punch_g03_c02.avi\n",
      "../data/UCF101/UCF4 small/Punch/v_Punch_g03_c02.avi 경로가 존재합니다.\n",
      "class name Punch\n"
     ]
    },
    {
     "name": "stderr",
     "output_type": "stream",
     "text": [
      "I0000 00:00:1701317093.177270       1 gl_context.cc:344] GL version: 2.1 (2.1 Metal - 88), renderer: Apple M1\n"
     ]
    },
    {
     "name": "stdout",
     "output_type": "stream",
     "text": [
      "video path ../data/UCF101/UCF4 small/Punch/v_Punch_g03_c04.avi\n",
      "../data/UCF101/UCF4 small/Punch/v_Punch_g03_c04.avi 경로가 존재합니다.\n",
      "class name Punch\n"
     ]
    },
    {
     "name": "stderr",
     "output_type": "stream",
     "text": [
      "I0000 00:00:1701317099.916871       1 gl_context.cc:344] GL version: 2.1 (2.1 Metal - 88), renderer: Apple M1\n"
     ]
    },
    {
     "name": "stdout",
     "output_type": "stream",
     "text": [
      "video path ../data/UCF101/UCF4 small/WalkingWithDog/v_WalkingWithDog_g01_c03.avi\n",
      "../data/UCF101/UCF4 small/WalkingWithDog/v_WalkingWithDog_g01_c03.avi 경로가 존재합니다.\n",
      "class name WalkingWithDog\n"
     ]
    },
    {
     "name": "stderr",
     "output_type": "stream",
     "text": [
      "I0000 00:00:1701317103.622862       1 gl_context.cc:344] GL version: 2.1 (2.1 Metal - 88), renderer: Apple M1\n"
     ]
    },
    {
     "name": "stdout",
     "output_type": "stream",
     "text": [
      "video path ../data/UCF101/UCF4 small/BoxingPunchingBag/v_BoxingPunchingBag_g01_c04.avi\n",
      "../data/UCF101/UCF4 small/BoxingPunchingBag/v_BoxingPunchingBag_g01_c04.avi 경로가 존재합니다.\n",
      "class name BoxingPunchingBag\n"
     ]
    },
    {
     "name": "stderr",
     "output_type": "stream",
     "text": [
      "I0000 00:00:1701317109.072951       1 gl_context.cc:344] GL version: 2.1 (2.1 Metal - 88), renderer: Apple M1\n"
     ]
    },
    {
     "name": "stdout",
     "output_type": "stream",
     "text": [
      "video path ../data/UCF101/UCF4 small/Biking/v_Biking_g02_c05.avi\n",
      "../data/UCF101/UCF4 small/Biking/v_Biking_g02_c05.avi 경로가 존재합니다.\n",
      "class name Biking\n"
     ]
    },
    {
     "name": "stderr",
     "output_type": "stream",
     "text": [
      "I0000 00:00:1701317112.737290       1 gl_context.cc:344] GL version: 2.1 (2.1 Metal - 88), renderer: Apple M1\n"
     ]
    },
    {
     "name": "stdout",
     "output_type": "stream",
     "text": [
      "video path ../data/UCF101/UCF4 small/Punch/v_Punch_g03_c03.avi\n",
      "../data/UCF101/UCF4 small/Punch/v_Punch_g03_c03.avi 경로가 존재합니다.\n",
      "class name Punch\n"
     ]
    },
    {
     "name": "stderr",
     "output_type": "stream",
     "text": [
      "I0000 00:00:1701317116.357957       1 gl_context.cc:344] GL version: 2.1 (2.1 Metal - 88), renderer: Apple M1\n"
     ]
    },
    {
     "name": "stdout",
     "output_type": "stream",
     "text": [
      "video path ../data/UCF101/UCF4 small/BoxingPunchingBag/v_BoxingPunchingBag_g01_c05.avi\n",
      "../data/UCF101/UCF4 small/BoxingPunchingBag/v_BoxingPunchingBag_g01_c05.avi 경로가 존재합니다.\n",
      "class name BoxingPunchingBag\n"
     ]
    },
    {
     "name": "stderr",
     "output_type": "stream",
     "text": [
      "I0000 00:00:1701317120.027317       1 gl_context.cc:344] GL version: 2.1 (2.1 Metal - 88), renderer: Apple M1\n"
     ]
    },
    {
     "name": "stdout",
     "output_type": "stream",
     "text": [
      "video path ../data/UCF101/UCF4 small/Biking/v_Biking_g02_c06.avi\n",
      "../data/UCF101/UCF4 small/Biking/v_Biking_g02_c06.avi 경로가 존재합니다.\n",
      "class name Biking\n"
     ]
    },
    {
     "name": "stderr",
     "output_type": "stream",
     "text": [
      "I0000 00:00:1701317124.007921       1 gl_context.cc:344] GL version: 2.1 (2.1 Metal - 88), renderer: Apple M1\n"
     ]
    },
    {
     "name": "stdout",
     "output_type": "stream",
     "text": [
      "video path ../data/UCF101/UCF4 small/WalkingWithDog/v_WalkingWithDog_g01_c01.avi\n",
      "../data/UCF101/UCF4 small/WalkingWithDog/v_WalkingWithDog_g01_c01.avi 경로가 존재합니다.\n",
      "class name WalkingWithDog\n"
     ]
    },
    {
     "name": "stderr",
     "output_type": "stream",
     "text": [
      "I0000 00:00:1701317127.194677       1 gl_context.cc:344] GL version: 2.1 (2.1 Metal - 88), renderer: Apple M1\n"
     ]
    },
    {
     "name": "stdout",
     "output_type": "stream",
     "text": [
      "video path ../data/UCF101/UCF4 small/Biking/v_Biking_g01_c03.avi\n",
      "../data/UCF101/UCF4 small/Biking/v_Biking_g01_c03.avi 경로가 존재합니다.\n",
      "class name Biking\n"
     ]
    },
    {
     "name": "stderr",
     "output_type": "stream",
     "text": [
      "I0000 00:00:1701317133.685541       1 gl_context.cc:344] GL version: 2.1 (2.1 Metal - 88), renderer: Apple M1\n"
     ]
    },
    {
     "name": "stdout",
     "output_type": "stream",
     "text": [
      "video path ../data/UCF101/UCF4 small/Punch/v_Punch_g01_c01.avi\n",
      "../data/UCF101/UCF4 small/Punch/v_Punch_g01_c01.avi 경로가 존재합니다.\n",
      "class name Punch\n"
     ]
    },
    {
     "name": "stderr",
     "output_type": "stream",
     "text": [
      "I0000 00:00:1701317137.414803       1 gl_context.cc:344] GL version: 2.1 (2.1 Metal - 88), renderer: Apple M1\n"
     ]
    },
    {
     "name": "stdout",
     "output_type": "stream",
     "text": [
      "video path ../data/UCF101/UCF4 small/Biking/v_Biking_g02_c03.avi\n",
      "../data/UCF101/UCF4 small/Biking/v_Biking_g02_c03.avi 경로가 존재합니다.\n",
      "class name Biking\n"
     ]
    },
    {
     "name": "stderr",
     "output_type": "stream",
     "text": [
      "I0000 00:00:1701317139.811847       1 gl_context.cc:344] GL version: 2.1 (2.1 Metal - 88), renderer: Apple M1\n"
     ]
    },
    {
     "name": "stdout",
     "output_type": "stream",
     "text": [
      "video path ../data/UCF101/UCF4 small/Biking/v_Biking_g01_c01.avi\n",
      "../data/UCF101/UCF4 small/Biking/v_Biking_g01_c01.avi 경로가 존재합니다.\n",
      "class name Biking\n"
     ]
    },
    {
     "name": "stderr",
     "output_type": "stream",
     "text": [
      "I0000 00:00:1701317143.136593       1 gl_context.cc:344] GL version: 2.1 (2.1 Metal - 88), renderer: Apple M1\n"
     ]
    },
    {
     "name": "stdout",
     "output_type": "stream",
     "text": [
      "video path ../data/UCF101/UCF4 small/WalkingWithDog/v_WalkingWithDog_g02_c06.avi\n",
      "../data/UCF101/UCF4 small/WalkingWithDog/v_WalkingWithDog_g02_c06.avi 경로가 존재합니다.\n",
      "class name WalkingWithDog\n"
     ]
    },
    {
     "name": "stderr",
     "output_type": "stream",
     "text": [
      "Context leak detected, msgtracer returned -1\n",
      "I0000 00:00:1701317146.764565       1 gl_context.cc:344] GL version: 2.1 (2.1 Metal - 88), renderer: Apple M1\n"
     ]
    },
    {
     "name": "stdout",
     "output_type": "stream",
     "text": [
      "video path ../data/UCF101/UCF4 small/Punch/v_Punch_g01_c03.avi\n",
      "../data/UCF101/UCF4 small/Punch/v_Punch_g01_c03.avi 경로가 존재합니다.\n",
      "class name Punch\n"
     ]
    },
    {
     "name": "stderr",
     "output_type": "stream",
     "text": [
      "I0000 00:00:1701317152.548941       1 gl_context.cc:344] GL version: 2.1 (2.1 Metal - 88), renderer: Apple M1\n"
     ]
    },
    {
     "name": "stdout",
     "output_type": "stream",
     "text": [
      "video path ../data/UCF101/UCF4 small/Biking/v_Biking_g02_c01.avi\n",
      "../data/UCF101/UCF4 small/Biking/v_Biking_g02_c01.avi 경로가 존재합니다.\n",
      "class name Biking\n"
     ]
    },
    {
     "name": "stderr",
     "output_type": "stream",
     "text": [
      "I0000 00:00:1701317153.391537       1 gl_context.cc:344] GL version: 2.1 (2.1 Metal - 88), renderer: Apple M1\n"
     ]
    },
    {
     "name": "stdout",
     "output_type": "stream",
     "text": [
      "video path ../data/UCF101/UCF4 small/Biking/v_Biking_g02_c04.avi\n",
      "../data/UCF101/UCF4 small/Biking/v_Biking_g02_c04.avi 경로가 존재합니다.\n",
      "class name Biking\n"
     ]
    },
    {
     "name": "stderr",
     "output_type": "stream",
     "text": [
      "I0000 00:00:1701317156.875152       1 gl_context.cc:344] GL version: 2.1 (2.1 Metal - 88), renderer: Apple M1\n"
     ]
    },
    {
     "name": "stdout",
     "output_type": "stream",
     "text": [
      "video path ../data/UCF101/UCF4 small/WalkingWithDog/v_WalkingWithDog_g01_c02.avi\n",
      "../data/UCF101/UCF4 small/WalkingWithDog/v_WalkingWithDog_g01_c02.avi 경로가 존재합니다.\n",
      "class name WalkingWithDog\n"
     ]
    },
    {
     "name": "stderr",
     "output_type": "stream",
     "text": [
      "I0000 00:00:1701317160.310907       1 gl_context.cc:344] GL version: 2.1 (2.1 Metal - 88), renderer: Apple M1\n"
     ]
    },
    {
     "name": "stdout",
     "output_type": "stream",
     "text": [
      "Epoch [5/5], Train Loss: 0.7759365801300321, Val Loss: 0.9576490223407745\n"
     ]
    }
   ],
   "source": [
    "from tqdm import tqdm\n",
    "\n",
    "# Training loop\n",
    "num_epochs = 5\n",
    "for epoch in range(num_epochs):\n",
    "    model.train()\n",
    "    total_loss = 0\n",
    "    for skeletons, labels in train_loader:\n",
    "        try:\n",
    "            outputs = model(skeletons)\n",
    "        except:\n",
    "            #print(\"Error during model inference in training\")\n",
    "            continue  # Skip to the next batch\n",
    "\n",
    "        loss = criterion(outputs, labels)\n",
    "\n",
    "        optimizer.zero_grad()\n",
    "        loss.backward()\n",
    "        optimizer.step()\n",
    "\n",
    "        total_loss += loss.item()\n",
    "\n",
    "    avg_train_loss = total_loss / len(train_loader)\n",
    "    train_losses.append(avg_train_loss)\n",
    "\n",
    "    # Validation loop\n",
    "    model.eval()\n",
    "    total_val_loss = 0\n",
    "    with torch.no_grad():\n",
    "        for skeletons, labels in val_loader:\n",
    "            try:\n",
    "                outputs = model(skeletons)\n",
    "            except:\n",
    "                #print(\"Error during model inference in validation\")\n",
    "                continue  # Skip to the next batch\n",
    "\n",
    "            loss = criterion(outputs, labels)\n",
    "            total_val_loss += loss.item()\n",
    "\n",
    "    avg_val_loss = total_val_loss / len(val_loader)\n",
    "    val_losses.append(avg_val_loss)\n",
    "\n",
    "    # Save best model\n",
    "    if avg_val_loss < best_val_loss:\n",
    "        best_val_loss = avg_val_loss\n",
    "        best_model = model.state_dict()\n",
    "\n",
    "    # Adjust learning rate\n",
    "    scheduler.step(avg_val_loss)\n",
    "\n",
    "    print(f'Epoch [{epoch+1}/{num_epochs}], Train Loss: {avg_train_loss}, Val Loss: {avg_val_loss}')\n",
    "\n",
    "\n",
    "# Save the best model\n",
    "torch.save(best_model, '../OUTPUT/ucf101_model.pth')"
   ]
  },
  {
   "cell_type": "markdown",
   "metadata": {},
   "source": [
    "## Train Val Graph"
   ]
  },
  {
   "cell_type": "code",
   "execution_count": 15,
   "metadata": {},
   "outputs": [
    {
     "data": {
      "image/png": "[encoded data removed]",
      "text/plain": [
       "<Figure size 640x480 with 1 Axes>"
      ]
     },
     "metadata": {},
     "output_type": "display_data"
    }
   ],
   "source": [
    "# Plotting train and validation losses\n",
    "plt.plot(train_losses, label='Training Loss')\n",
    "plt.plot(val_losses, label='Validation Loss')\n",
    "plt.xlabel('Epochs')\n",
    "plt.ylabel('Loss')\n",
    "plt.legend()\n",
    "plt.show()"
   ]
  },
  {
   "cell_type": "code",
   "execution_count": 16,
   "metadata": {},
   "outputs": [
    {
     "name": "stdout",
     "output_type": "stream",
     "text": [
      "video path ../data/UCF101/UCF4 small/Biking/v_Biking_g01_c02.avi\n",
      "../data/UCF101/UCF4 small/Biking/v_Biking_g01_c02.avi 경로가 존재합니다.\n",
      "class name Biking\n"
     ]
    },
    {
     "name": "stderr",
     "output_type": "stream",
     "text": [
      "I0000 00:00:1701317166.314019       1 gl_context.cc:344] GL version: 2.1 (2.1 Metal - 88), renderer: Apple M1\n"
     ]
    },
    {
     "name": "stdout",
     "output_type": "stream",
     "text": [
      "video path ../data/UCF101/UCF4 small/Punch/v_Punch_g02_c01.avi\n",
      "../data/UCF101/UCF4 small/Punch/v_Punch_g02_c01.avi 경로가 존재합니다.\n",
      "class name Punch\n"
     ]
    },
    {
     "name": "stderr",
     "output_type": "stream",
     "text": [
      "I0000 00:00:1701317169.309517       1 gl_context.cc:344] GL version: 2.1 (2.1 Metal - 88), renderer: Apple M1\n"
     ]
    },
    {
     "name": "stdout",
     "output_type": "stream",
     "text": [
      "video path ../data/UCF101/UCF4 small/BoxingPunchingBag/v_BoxingPunchingBag_g01_c02.avi\n",
      "../data/UCF101/UCF4 small/BoxingPunchingBag/v_BoxingPunchingBag_g01_c02.avi 경로가 존재합니다.\n",
      "class name BoxingPunchingBag\n"
     ]
    },
    {
     "name": "stderr",
     "output_type": "stream",
     "text": [
      "I0000 00:00:1701317174.008711       1 gl_context.cc:344] GL version: 2.1 (2.1 Metal - 88), renderer: Apple M1\n"
     ]
    },
    {
     "name": "stdout",
     "output_type": "stream",
     "text": [
      "video path ../data/UCF101/UCF4 small/Punch/v_Punch_g02_c03.avi\n",
      "../data/UCF101/UCF4 small/Punch/v_Punch_g02_c03.avi 경로가 존재합니다.\n",
      "class name Punch\n"
     ]
    },
    {
     "name": "stderr",
     "output_type": "stream",
     "text": [
      "I0000 00:00:1701317177.601282       1 gl_context.cc:344] GL version: 2.1 (2.1 Metal - 88), renderer: Apple M1\n"
     ]
    },
    {
     "name": "stdout",
     "output_type": "stream",
     "text": [
      "video path ../data/UCF101/UCF4 small/WalkingWithDog/v_WalkingWithDog_g02_c01.avi\n",
      "../data/UCF101/UCF4 small/WalkingWithDog/v_WalkingWithDog_g02_c01.avi 경로가 존재합니다.\n",
      "class name WalkingWithDog\n"
     ]
    },
    {
     "name": "stderr",
     "output_type": "stream",
     "text": [
      "I0000 00:00:1701317178.794375       1 gl_context.cc:344] GL version: 2.1 (2.1 Metal - 88), renderer: Apple M1\n"
     ]
    },
    {
     "name": "stdout",
     "output_type": "stream",
     "text": [
      "video path ../data/UCF101/UCF4 small/Punch/v_Punch_g01_c04.avi\n",
      "../data/UCF101/UCF4 small/Punch/v_Punch_g01_c04.avi 경로가 존재합니다.\n",
      "class name Punch\n"
     ]
    },
    {
     "name": "stderr",
     "output_type": "stream",
     "text": [
      "I0000 00:00:1701317183.358380       1 gl_context.cc:344] GL version: 2.1 (2.1 Metal - 88), renderer: Apple M1\n"
     ]
    },
    {
     "name": "stdout",
     "output_type": "stream",
     "text": [
      "Accuracy on test set: 33.333333333333336%\n"
     ]
    }
   ],
   "source": [
    "# Test loop for accuracy\n",
    "correct = 0\n",
    "total = 0\n",
    "with torch.no_grad():\n",
    "    for skeletons, labels in test_loader:\n",
    "        try:\n",
    "            outputs = model(skeletons)\n",
    "            _, predicted = torch.max(outputs.data, 1)\n",
    "            total += labels.size(0)\n",
    "            correct += (predicted == labels).sum().item()\n",
    "        except:\n",
    "            pass\n",
    "\n",
    "accuracy = 100 * correct / total\n",
    "print(f'Accuracy on test set: {accuracy}%')"
   ]
  }
 ],
 "metadata": {
  "kernelspec": {
   "display_name": "pose",
   "language": "python",
   "name": "python3"
  },
  "language_info": {
   "codemirror_mode": {
    "name": "ipython",
    "version": 3
   },
   "file_extension": ".py",
   "mimetype": "text/x-python",
   "name": "python",
   "nbconvert_exporter": "python",
   "pygments_lexer": "ipython3",
   "version": "3.8.18"
  }
 },
 "nbformat": 4,
 "nbformat_minor": 2
}
