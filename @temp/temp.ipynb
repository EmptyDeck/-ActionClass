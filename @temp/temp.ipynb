{
 "cells": [
  {
   "cell_type": "code",
   "execution_count": 1,
   "metadata": {},
   "outputs": [
    {
     "name": "stderr",
     "output_type": "stream",
     "text": [
      "/"
     ]
    },
    {
     "name": "stdout",
     "output_type": "stream",
     "text": [
      "Opening dataset in read-only mode as you don't have write permissions.\n"
     ]
    },
    {
     "name": "stderr",
     "output_type": "stream",
     "text": [
      "\\"
     ]
    },
    {
     "name": "stdout",
     "output_type": "stream",
     "text": [
      "This dataset can be visualized in Jupyter Notebook by ds.visualize() or at https://app.activeloop.ai/activeloop/hmdb51-train\n",
      "\n"
     ]
    },
    {
     "name": "stderr",
     "output_type": "stream",
     "text": [
      "|"
     ]
    },
    {
     "name": "stdout",
     "output_type": "stream",
     "text": [
      "hub://activeloop/hmdb51-train loaded successfully.\n",
      "\n"
     ]
    },
    {
     "name": "stderr",
     "output_type": "stream",
     "text": [
      " "
     ]
    }
   ],
   "source": [
    "import deeplake\n",
    "ds = deeplake.load(\"hub://activeloop/hmdb51-train\")"
   ]
  },
  {
   "cell_type": "code",
   "execution_count": 26,
   "metadata": {},
   "outputs": [],
   "source": [
    "cnt = int(input())"
   ]
  },
  {
   "cell_type": "code",
   "execution_count": 27,
   "metadata": {},
   "outputs": [
    {
     "data": {
      "text/plain": [
       "([1.0, 2.0, 3.0, 4.0, 6.0], [1.0, 4.0, 6.0, 7.0, 8.0])"
      ]
     },
     "execution_count": 27,
     "metadata": {},
     "output_type": "execute_result"
    }
   ],
   "source": [
    "x = []\n",
    "y = []\n",
    "\n",
    "for i in range(0,cnt):\n",
    "    x.append(float(input(\"type : \")))\n",
    "    y.append(float(input('type: ')))\n",
    "x,y"
   ]
  },
  {
   "cell_type": "code",
   "execution_count": 28,
   "metadata": {},
   "outputs": [],
   "source": [
    "epoch = 1000\n",
    "rate = 0.01\n",
    "m = 1\n",
    "b = 0"
   ]
  },
  {
   "cell_type": "code",
   "execution_count": 29,
   "metadata": {},
   "outputs": [],
   "source": [
    "for j in range(0,epoch):\n",
    "    sum = 0\n",
    "    for i in range(0,cnt):\n",
    "        sum = -(y[i] - (m*x[i]+b))\n",
    "        error = sum/cnt\n",
    "        b = b - error*rate\n",
    "    sum = 0\n",
    "    for i in range(0,cnt):\n",
    "        sum = -x[i]*(y[i] - (m*x[i]+b))\n",
    "        m = m - sum/cnt*rate"
   ]
  },
  {
   "cell_type": "code",
   "execution_count": 30,
   "metadata": {},
   "outputs": [
    {
     "data": {
      "text/plain": [
       "1.3284157436488224"
      ]
     },
     "execution_count": 30,
     "metadata": {},
     "output_type": "execute_result"
    }
   ],
   "source": [
    "m"
   ]
  },
  {
   "cell_type": "code",
   "execution_count": 31,
   "metadata": {},
   "outputs": [
    {
     "data": {
      "text/plain": [
       "0.928515469094045"
      ]
     },
     "execution_count": 31,
     "metadata": {},
     "output_type": "execute_result"
    }
   ],
   "source": [
    "b"
   ]
  },
  {
   "cell_type": "code",
   "execution_count": 32,
   "metadata": {},
   "outputs": [
    {
     "data": {
      "image/png": "[encoded data removed]",
      "text/plain": [
       "<Figure size 640x480 with 1 Axes>"
      ]
     },
     "metadata": {},
     "output_type": "display_data"
    }
   ],
   "source": [
    "import matplotlib.pyplot as plt\n",
    "\n",
    "\n",
    "# Plot the original data points\n",
    "plt.scatter(x, y, label='Data Points', color='blue')\n",
    "\n",
    "# Plot the final regression line\n",
    "plt.plot(x, [m * xi + b for xi in x], label=f'Regression Line: y = {m:.2f}x + {b:.2f}', color='red')\n",
    "\n",
    "# Add labels and a legend\n",
    "plt.xlabel('x')\n",
    "plt.ylabel('y')\n",
    "plt.legend()\n",
    "\n",
    "# Show the plot\n",
    "plt.grid(True)\n",
    "plt.show()"
   ]
  },
  {
   "cell_type": "code",
   "execution_count": 36,
   "metadata": {},
   "outputs": [
    {
     "data": {
      "text/plain": [
       "True"
      ]
     },
     "execution_count": 36,
     "metadata": {},
     "output_type": "execute_result"
    }
   ],
   "source": [
    "'a' < 'b'"
   ]
  },
  {
   "cell_type": "code",
   "execution_count": 7,
   "metadata": {},
   "outputs": [],
   "source": [
    "import cv2 as cv\n",
    "import mediapipe as mp\n",
    "import torch\n",
    "import torch.nn as nn\n",
    "import torchvision\n",
    "import torchvision.transforms as transforms\n",
    "from torchvision.datasets import UCF101\n",
    "from torch.utils.data import DataLoader\n",
    "import os\n",
    "import pandas as pd\n",
    "\n",
    "def skeleton_csv(video_path ='', output_video_path ='', make_video=True, output_video_name='skeleton_video'):\n",
    "    # Initialize MediaPipe Pose\n",
    "    mp_pose = mp.solutions.pose\n",
    "    mp_drawing = mp.solutions.drawing_utils\n",
    "    pose = mp_pose.Pose(static_image_mode=False, model_complexity=1, enable_segmentation=False, min_detection_confidence=0.5)\n",
    "\n",
    "    cap = cv.VideoCapture(video_path)\n",
    "    if not cap.isOpened():\n",
    "        print(\"Error: Unable to open video file at path:\", video_path)\n",
    "        return None\n",
    "    all_landmarks = []\n",
    "\n",
    "    # Get video properties for output video\n",
    "    frame_width = int(cap.get(cv.CAP_PROP_FRAME_WIDTH))\n",
    "    frame_height = int(cap.get(cv.CAP_PROP_FRAME_HEIGHT))\n",
    "    fps = cap.get(cv.CAP_PROP_FPS)\n",
    "\n",
    "    # Define the codec and create VideoWriter object\n",
    "    out = None\n",
    "    if make_video:\n",
    "        output_video_name = output_video_name + '.mp4'\n",
    "        output_video_path = os.path.join(output_video_path, output_video_name)\n",
    "        out = cv.VideoWriter(output_video_path, cv.VideoWriter_fourcc(*'mp4v'), fps, (frame_width, frame_height))\n",
    "\n",
    "    while cap.isOpened():\n",
    "        success, image = cap.read()\n",
    "        if not success:\n",
    "            break\n",
    "\n",
    "        image_rgb = cv.cvtColor(image, cv.COLOR_BGR2RGB)\n",
    "        results = pose.process(image_rgb)\n",
    "\n",
    "        if results.pose_landmarks:\n",
    "            # Draw the pose annotation on the image\n",
    "            mp_drawing.draw_landmarks(image, results.pose_landmarks, mp_pose.POSE_CONNECTIONS)\n",
    "\n",
    "            # Extract and store landmarks\n",
    "            ref_x = (results.pose_landmarks.landmark[23].x + results.pose_landmarks.landmark[24].x) / 2\n",
    "            ref_y = (results.pose_landmarks.landmark[23].y + results.pose_landmarks.landmark[24].y) / 2\n",
    "            ref_z = (results.pose_landmarks.landmark[23].z + results.pose_landmarks.landmark[24].z) / 2\n",
    "\n",
    "            landmarks = []\n",
    "            for lm in results.pose_landmarks.landmark:\n",
    "                rel_x, rel_y, rel_z = lm.x - ref_x, lm.y - ref_y, lm.z - ref_z\n",
    "                landmarks.extend([rel_x, rel_y, rel_z, lm.visibility])\n",
    "            all_landmarks.append(landmarks)\n",
    "\n",
    "            if make_video:\n",
    "                out.write(image)  # Write the frame with pose to the output video\n",
    "\n",
    "    cap.release()\n",
    "    if make_video:\n",
    "        out.release()\n",
    "\n",
    "    df = pd.DataFrame(all_landmarks)\n",
    "\n",
    "    print(\"Processing completed.\")\n",
    "    return df\n"
   ]
  },
  {
   "cell_type": "code",
   "execution_count": 31,
   "metadata": {},
   "outputs": [
    {
     "name": "stderr",
     "output_type": "stream",
     "text": [
      "I0000 00:00:1701094779.844311       1 gl_context.cc:344] GL version: 2.1 (2.1 Metal - 88), renderer: Apple M1\n"
     ]
    },
    {
     "name": "stdout",
     "output_type": "stream",
     "text": [
      "Processing completed.\n"
     ]
    }
   ],
   "source": [
    "a = skeleton_csv(video_path='../data/mevid.mp4')"
   ]
  },
  {
   "cell_type": "code",
   "execution_count": 39,
   "metadata": {},
   "outputs": [
    {
     "data": {
      "text/html": [
       "<div>\n",
       "<style scoped>\n",
       "    .dataframe tbody tr th:only-of-type {\n",
       "        vertical-align: middle;\n",
       "    }\n",
       "\n",
       "    .dataframe tbody tr th {\n",
       "        vertical-align: top;\n",
       "    }\n",
       "\n",
       "    .dataframe thead th {\n",
       "        text-align: right;\n",
       "    }\n",
       "</style>\n",
       "<table border=\"1\" class=\"dataframe\">\n",
       "  <thead>\n",
       "    <tr style=\"text-align: right;\">\n",
       "      <th></th>\n",
       "      <th>0</th>\n",
       "      <th>1</th>\n",
       "      <th>2</th>\n",
       "      <th>3</th>\n",
       "      <th>4</th>\n",
       "      <th>5</th>\n",
       "      <th>6</th>\n",
       "      <th>7</th>\n",
       "      <th>8</th>\n",
       "      <th>9</th>\n",
       "      <th>...</th>\n",
       "      <th>122</th>\n",
       "      <th>123</th>\n",
       "      <th>124</th>\n",
       "      <th>125</th>\n",
       "      <th>126</th>\n",
       "      <th>127</th>\n",
       "      <th>128</th>\n",
       "      <th>129</th>\n",
       "      <th>130</th>\n",
       "      <th>131</th>\n",
       "    </tr>\n",
       "  </thead>\n",
       "  <tbody>\n",
       "    <tr>\n",
       "      <th>0</th>\n",
       "      <td>0.095554</td>\n",
       "      <td>-0.702015</td>\n",
       "      <td>-0.742240</td>\n",
       "      <td>0.999754</td>\n",
       "      <td>0.106620</td>\n",
       "      <td>-0.737535</td>\n",
       "      <td>-0.691841</td>\n",
       "      <td>0.999351</td>\n",
       "      <td>0.113945</td>\n",
       "      <td>-0.735870</td>\n",
       "      <td>...</td>\n",
       "      <td>1.036879</td>\n",
       "      <td>0.000876</td>\n",
       "      <td>0.017414</td>\n",
       "      <td>0.808612</td>\n",
       "      <td>0.716940</td>\n",
       "      <td>0.000739</td>\n",
       "      <td>-0.071028</td>\n",
       "      <td>0.800175</td>\n",
       "      <td>0.689355</td>\n",
       "      <td>0.000636</td>\n",
       "    </tr>\n",
       "    <tr>\n",
       "      <th>1</th>\n",
       "      <td>0.091691</td>\n",
       "      <td>-0.714895</td>\n",
       "      <td>-0.695079</td>\n",
       "      <td>0.999548</td>\n",
       "      <td>0.103328</td>\n",
       "      <td>-0.749382</td>\n",
       "      <td>-0.643398</td>\n",
       "      <td>0.998977</td>\n",
       "      <td>0.110772</td>\n",
       "      <td>-0.747432</td>\n",
       "      <td>...</td>\n",
       "      <td>0.763920</td>\n",
       "      <td>0.002078</td>\n",
       "      <td>0.021443</td>\n",
       "      <td>0.855708</td>\n",
       "      <td>0.594731</td>\n",
       "      <td>0.000988</td>\n",
       "      <td>-0.070607</td>\n",
       "      <td>0.844015</td>\n",
       "      <td>0.404847</td>\n",
       "      <td>0.001000</td>\n",
       "    </tr>\n",
       "    <tr>\n",
       "      <th>2</th>\n",
       "      <td>0.092476</td>\n",
       "      <td>-0.722617</td>\n",
       "      <td>-0.636977</td>\n",
       "      <td>0.999281</td>\n",
       "      <td>0.104733</td>\n",
       "      <td>-0.755894</td>\n",
       "      <td>-0.587622</td>\n",
       "      <td>0.998440</td>\n",
       "      <td>0.111948</td>\n",
       "      <td>-0.753674</td>\n",
       "      <td>...</td>\n",
       "      <td>0.615536</td>\n",
       "      <td>0.002633</td>\n",
       "      <td>0.015330</td>\n",
       "      <td>0.865133</td>\n",
       "      <td>0.431673</td>\n",
       "      <td>0.001102</td>\n",
       "      <td>-0.079572</td>\n",
       "      <td>0.849466</td>\n",
       "      <td>0.261784</td>\n",
       "      <td>0.001145</td>\n",
       "    </tr>\n",
       "    <tr>\n",
       "      <th>3</th>\n",
       "      <td>0.103064</td>\n",
       "      <td>-0.724118</td>\n",
       "      <td>-0.721881</td>\n",
       "      <td>0.999087</td>\n",
       "      <td>0.115113</td>\n",
       "      <td>-0.756933</td>\n",
       "      <td>-0.665485</td>\n",
       "      <td>0.998126</td>\n",
       "      <td>0.122788</td>\n",
       "      <td>-0.754391</td>\n",
       "      <td>...</td>\n",
       "      <td>0.634549</td>\n",
       "      <td>0.002979</td>\n",
       "      <td>-0.003290</td>\n",
       "      <td>0.868734</td>\n",
       "      <td>0.275815</td>\n",
       "      <td>0.001358</td>\n",
       "      <td>-0.098394</td>\n",
       "      <td>0.848189</td>\n",
       "      <td>0.254416</td>\n",
       "      <td>0.001455</td>\n",
       "    </tr>\n",
       "    <tr>\n",
       "      <th>4</th>\n",
       "      <td>0.098027</td>\n",
       "      <td>-0.723416</td>\n",
       "      <td>-0.692127</td>\n",
       "      <td>0.998805</td>\n",
       "      <td>0.110134</td>\n",
       "      <td>-0.755663</td>\n",
       "      <td>-0.637423</td>\n",
       "      <td>0.997702</td>\n",
       "      <td>0.117495</td>\n",
       "      <td>-0.752661</td>\n",
       "      <td>...</td>\n",
       "      <td>0.676724</td>\n",
       "      <td>0.003706</td>\n",
       "      <td>-0.017171</td>\n",
       "      <td>0.863436</td>\n",
       "      <td>0.319867</td>\n",
       "      <td>0.001608</td>\n",
       "      <td>-0.114330</td>\n",
       "      <td>0.840228</td>\n",
       "      <td>0.319857</td>\n",
       "      <td>0.001843</td>\n",
       "    </tr>\n",
       "    <tr>\n",
       "      <th>...</th>\n",
       "      <td>...</td>\n",
       "      <td>...</td>\n",
       "      <td>...</td>\n",
       "      <td>...</td>\n",
       "      <td>...</td>\n",
       "      <td>...</td>\n",
       "      <td>...</td>\n",
       "      <td>...</td>\n",
       "      <td>...</td>\n",
       "      <td>...</td>\n",
       "      <td>...</td>\n",
       "      <td>...</td>\n",
       "      <td>...</td>\n",
       "      <td>...</td>\n",
       "      <td>...</td>\n",
       "      <td>...</td>\n",
       "      <td>...</td>\n",
       "      <td>...</td>\n",
       "      <td>...</td>\n",
       "      <td>...</td>\n",
       "      <td>...</td>\n",
       "    </tr>\n",
       "    <tr>\n",
       "      <th>248</th>\n",
       "      <td>0.157861</td>\n",
       "      <td>-0.032130</td>\n",
       "      <td>-0.099429</td>\n",
       "      <td>0.998420</td>\n",
       "      <td>0.165385</td>\n",
       "      <td>-0.033228</td>\n",
       "      <td>-0.099227</td>\n",
       "      <td>0.998482</td>\n",
       "      <td>0.165550</td>\n",
       "      <td>-0.033029</td>\n",
       "      <td>...</td>\n",
       "      <td>0.147362</td>\n",
       "      <td>0.281822</td>\n",
       "      <td>0.224418</td>\n",
       "      <td>0.014474</td>\n",
       "      <td>-0.473703</td>\n",
       "      <td>0.764247</td>\n",
       "      <td>0.202116</td>\n",
       "      <td>0.009621</td>\n",
       "      <td>0.104517</td>\n",
       "      <td>0.306830</td>\n",
       "    </tr>\n",
       "    <tr>\n",
       "      <th>249</th>\n",
       "      <td>0.158623</td>\n",
       "      <td>-0.032203</td>\n",
       "      <td>-0.096512</td>\n",
       "      <td>0.998519</td>\n",
       "      <td>0.165804</td>\n",
       "      <td>-0.033490</td>\n",
       "      <td>-0.095192</td>\n",
       "      <td>0.998572</td>\n",
       "      <td>0.165806</td>\n",
       "      <td>-0.033335</td>\n",
       "      <td>...</td>\n",
       "      <td>0.129346</td>\n",
       "      <td>0.282081</td>\n",
       "      <td>0.222450</td>\n",
       "      <td>0.014292</td>\n",
       "      <td>-0.462784</td>\n",
       "      <td>0.773331</td>\n",
       "      <td>0.196559</td>\n",
       "      <td>0.009594</td>\n",
       "      <td>0.086778</td>\n",
       "      <td>0.309517</td>\n",
       "    </tr>\n",
       "    <tr>\n",
       "      <th>250</th>\n",
       "      <td>0.158620</td>\n",
       "      <td>-0.032531</td>\n",
       "      <td>-0.098780</td>\n",
       "      <td>0.998594</td>\n",
       "      <td>0.166038</td>\n",
       "      <td>-0.034189</td>\n",
       "      <td>-0.097393</td>\n",
       "      <td>0.998637</td>\n",
       "      <td>0.166118</td>\n",
       "      <td>-0.034056</td>\n",
       "      <td>...</td>\n",
       "      <td>0.123934</td>\n",
       "      <td>0.280946</td>\n",
       "      <td>0.217802</td>\n",
       "      <td>0.013910</td>\n",
       "      <td>-0.450624</td>\n",
       "      <td>0.779143</td>\n",
       "      <td>0.191738</td>\n",
       "      <td>0.009530</td>\n",
       "      <td>0.080441</td>\n",
       "      <td>0.310388</td>\n",
       "    </tr>\n",
       "    <tr>\n",
       "      <th>251</th>\n",
       "      <td>0.158471</td>\n",
       "      <td>-0.033090</td>\n",
       "      <td>-0.094000</td>\n",
       "      <td>0.998654</td>\n",
       "      <td>0.165968</td>\n",
       "      <td>-0.034859</td>\n",
       "      <td>-0.092284</td>\n",
       "      <td>0.998691</td>\n",
       "      <td>0.166105</td>\n",
       "      <td>-0.034754</td>\n",
       "      <td>...</td>\n",
       "      <td>0.085998</td>\n",
       "      <td>0.280680</td>\n",
       "      <td>0.216434</td>\n",
       "      <td>0.013518</td>\n",
       "      <td>-0.447189</td>\n",
       "      <td>0.780311</td>\n",
       "      <td>0.189923</td>\n",
       "      <td>0.009998</td>\n",
       "      <td>0.041395</td>\n",
       "      <td>0.311292</td>\n",
       "    </tr>\n",
       "    <tr>\n",
       "      <th>252</th>\n",
       "      <td>0.158037</td>\n",
       "      <td>-0.033466</td>\n",
       "      <td>-0.092227</td>\n",
       "      <td>0.998698</td>\n",
       "      <td>0.165682</td>\n",
       "      <td>-0.035542</td>\n",
       "      <td>-0.091563</td>\n",
       "      <td>0.998723</td>\n",
       "      <td>0.165754</td>\n",
       "      <td>-0.035415</td>\n",
       "      <td>...</td>\n",
       "      <td>0.083325</td>\n",
       "      <td>0.278103</td>\n",
       "      <td>0.210620</td>\n",
       "      <td>0.014086</td>\n",
       "      <td>-0.458432</td>\n",
       "      <td>0.782945</td>\n",
       "      <td>0.187447</td>\n",
       "      <td>0.010049</td>\n",
       "      <td>0.038306</td>\n",
       "      <td>0.310941</td>\n",
       "    </tr>\n",
       "  </tbody>\n",
       "</table>\n",
       "<p>253 rows × 132 columns</p>\n",
       "</div>"
      ],
      "text/plain": [
       "          0         1         2         3         4         5         6    \\\n",
       "0    0.095554 -0.702015 -0.742240  0.999754  0.106620 -0.737535 -0.691841   \n",
       "1    0.091691 -0.714895 -0.695079  0.999548  0.103328 -0.749382 -0.643398   \n",
       "2    0.092476 -0.722617 -0.636977  0.999281  0.104733 -0.755894 -0.587622   \n",
       "3    0.103064 -0.724118 -0.721881  0.999087  0.115113 -0.756933 -0.665485   \n",
       "4    0.098027 -0.723416 -0.692127  0.998805  0.110134 -0.755663 -0.637423   \n",
       "..        ...       ...       ...       ...       ...       ...       ...   \n",
       "248  0.157861 -0.032130 -0.099429  0.998420  0.165385 -0.033228 -0.099227   \n",
       "249  0.158623 -0.032203 -0.096512  0.998519  0.165804 -0.033490 -0.095192   \n",
       "250  0.158620 -0.032531 -0.098780  0.998594  0.166038 -0.034189 -0.097393   \n",
       "251  0.158471 -0.033090 -0.094000  0.998654  0.165968 -0.034859 -0.092284   \n",
       "252  0.158037 -0.033466 -0.092227  0.998698  0.165682 -0.035542 -0.091563   \n",
       "\n",
       "          7         8         9    ...       122       123       124  \\\n",
       "0    0.999351  0.113945 -0.735870  ...  1.036879  0.000876  0.017414   \n",
       "1    0.998977  0.110772 -0.747432  ...  0.763920  0.002078  0.021443   \n",
       "2    0.998440  0.111948 -0.753674  ...  0.615536  0.002633  0.015330   \n",
       "3    0.998126  0.122788 -0.754391  ...  0.634549  0.002979 -0.003290   \n",
       "4    0.997702  0.117495 -0.752661  ...  0.676724  0.003706 -0.017171   \n",
       "..        ...       ...       ...  ...       ...       ...       ...   \n",
       "248  0.998482  0.165550 -0.033029  ...  0.147362  0.281822  0.224418   \n",
       "249  0.998572  0.165806 -0.033335  ...  0.129346  0.282081  0.222450   \n",
       "250  0.998637  0.166118 -0.034056  ...  0.123934  0.280946  0.217802   \n",
       "251  0.998691  0.166105 -0.034754  ...  0.085998  0.280680  0.216434   \n",
       "252  0.998723  0.165754 -0.035415  ...  0.083325  0.278103  0.210620   \n",
       "\n",
       "          125       126       127       128       129       130       131  \n",
       "0    0.808612  0.716940  0.000739 -0.071028  0.800175  0.689355  0.000636  \n",
       "1    0.855708  0.594731  0.000988 -0.070607  0.844015  0.404847  0.001000  \n",
       "2    0.865133  0.431673  0.001102 -0.079572  0.849466  0.261784  0.001145  \n",
       "3    0.868734  0.275815  0.001358 -0.098394  0.848189  0.254416  0.001455  \n",
       "4    0.863436  0.319867  0.001608 -0.114330  0.840228  0.319857  0.001843  \n",
       "..        ...       ...       ...       ...       ...       ...       ...  \n",
       "248  0.014474 -0.473703  0.764247  0.202116  0.009621  0.104517  0.306830  \n",
       "249  0.014292 -0.462784  0.773331  0.196559  0.009594  0.086778  0.309517  \n",
       "250  0.013910 -0.450624  0.779143  0.191738  0.009530  0.080441  0.310388  \n",
       "251  0.013518 -0.447189  0.780311  0.189923  0.009998  0.041395  0.311292  \n",
       "252  0.014086 -0.458432  0.782945  0.187447  0.010049  0.038306  0.310941  \n",
       "\n",
       "[253 rows x 132 columns]"
      ]
     },
     "execution_count": 39,
     "metadata": {},
     "output_type": "execute_result"
    }
   ],
   "source": [
    "a"
   ]
  },
  {
   "cell_type": "code",
   "execution_count": 48,
   "metadata": {},
   "outputs": [
    {
     "data": {
      "text/plain": [
       "90"
      ]
     },
     "execution_count": 48,
     "metadata": {},
     "output_type": "execute_result"
    }
   ],
   "source": [
    "ddatta = a.iloc[:90, :].values.tolist()\n",
    "len(ddatta)"
   ]
  },
  {
   "cell_type": "code",
   "execution_count": 36,
   "metadata": {},
   "outputs": [
    {
     "data": {
      "image/png": "[encoded data removed]",
      "text/plain": [
       "<Figure size 640x480 with 1 Axes>"
      ]
     },
     "metadata": {},
     "output_type": "display_data"
    }
   ],
   "source": [
    "import matplotlib.pyplot as plt\n",
    "from mpl_toolkits.mplot3d import Axes3D\n",
    "\n",
    "def plot_3d_skeleton(landmark_list):\n",
    "    assert len(landmark_list) == 132, \"The input list must have 132 elements.\"\n",
    "    \n",
    "    # Extracting x, y, z coordinates\n",
    "    x_coords = landmark_list[0::4]\n",
    "    y_coords = landmark_list[1::4]\n",
    "    z_coords = landmark_list[2::4]\n",
    "\n",
    "    # Creating a 3D plot\n",
    "    fig = plt.figure()\n",
    "    ax = fig.add_subplot(111, projection='3d')\n",
    "\n",
    "    # Plotting the landmarks\n",
    "    ax.scatter(x_coords, y_coords, z_coords)\n",
    "\n",
    "    # Setting labels\n",
    "    ax.set_xlabel('X axis')\n",
    "    ax.set_ylabel('Y axis')\n",
    "    ax.set_zlabel('Z axis')\n",
    "\n",
    "    # Set equal aspect ratio for all axes\n",
    "    max_range = max(max(x_coords) - min(x_coords), max(y_coords) - min(y_coords), max(z_coords) - min(z_coords)) / 2\n",
    "    mid_x = (max(x_coords) + min(x_coords)) * 0.5\n",
    "    mid_y = (max(y_coords) + min(y_coords)) * 0.5\n",
    "    mid_z = (max(z_coords) + min(z_coords)) * 0.5\n",
    "    ax.set_xlim(mid_x - max_range, mid_x + max_range)\n",
    "    ax.set_ylim(mid_y - max_range, mid_y + max_range)\n",
    "    ax.set_zlim(mid_z - max_range, mid_z + max_range)\n",
    "\n",
    "    plt.show()\n",
    "\n",
    "# Example usage\n",
    "# plot_3d_skeleton(your_132_feature_list)\n",
    "plot_3d_skeleton(first)"
   ]
  },
  {
   "cell_type": "code",
   "execution_count": 49,
   "metadata": {},
   "outputs": [
    {
     "ename": "AttributeError",
     "evalue": "'list' object has no attribute 'size'",
     "output_type": "error",
     "traceback": [
      "\u001b[0;31m---------------------------------------------------------------------------\u001b[0m",
      "\u001b[0;31mAttributeError\u001b[0m                            Traceback (most recent call last)",
      "\u001b[1;32m/Users/owo/HOUSE/-ActionClass/@temp/temp.ipynb 셀 15\u001b[0m line \u001b[0;36m4\n\u001b[1;32m     <a href='vscode-notebook-cell:/Users/owo/HOUSE/-ActionClass/%40temp/temp.ipynb#X20sZmlsZQ%3D%3D?line=44'>45</a>\u001b[0m \u001b[39mfor\u001b[39;00m epoch \u001b[39min\u001b[39;00m \u001b[39mrange\u001b[39m(num_epochs):\n\u001b[1;32m     <a href='vscode-notebook-cell:/Users/owo/HOUSE/-ActionClass/%40temp/temp.ipynb#X20sZmlsZQ%3D%3D?line=45'>46</a>\u001b[0m     \u001b[39mfor\u001b[39;00m i, (skeletons, labels) \u001b[39min\u001b[39;00m \u001b[39menumerate\u001b[39m(train_loader):\n\u001b[0;32m---> <a href='vscode-notebook-cell:/Users/owo/HOUSE/-ActionClass/%40temp/temp.ipynb#X20sZmlsZQ%3D%3D?line=46'>47</a>\u001b[0m         outputs \u001b[39m=\u001b[39m model(skeletons)\n\u001b[1;32m     <a href='vscode-notebook-cell:/Users/owo/HOUSE/-ActionClass/%40temp/temp.ipynb#X20sZmlsZQ%3D%3D?line=47'>48</a>\u001b[0m         loss \u001b[39m=\u001b[39m criterion(outputs, labels)\n\u001b[1;32m     <a href='vscode-notebook-cell:/Users/owo/HOUSE/-ActionClass/%40temp/temp.ipynb#X20sZmlsZQ%3D%3D?line=49'>50</a>\u001b[0m         optimizer\u001b[39m.\u001b[39mzero_grad()\n",
      "File \u001b[0;32m~/anaconda3/envs/pose/lib/python3.8/site-packages/torch/nn/modules/module.py:1518\u001b[0m, in \u001b[0;36mModule._wrapped_call_impl\u001b[0;34m(self, *args, **kwargs)\u001b[0m\n\u001b[1;32m   1516\u001b[0m     \u001b[39mreturn\u001b[39;00m \u001b[39mself\u001b[39m\u001b[39m.\u001b[39m_compiled_call_impl(\u001b[39m*\u001b[39margs, \u001b[39m*\u001b[39m\u001b[39m*\u001b[39mkwargs)  \u001b[39m# type: ignore[misc]\u001b[39;00m\n\u001b[1;32m   1517\u001b[0m \u001b[39melse\u001b[39;00m:\n\u001b[0;32m-> 1518\u001b[0m     \u001b[39mreturn\u001b[39;00m \u001b[39mself\u001b[39;49m\u001b[39m.\u001b[39;49m_call_impl(\u001b[39m*\u001b[39;49margs, \u001b[39m*\u001b[39;49m\u001b[39m*\u001b[39;49mkwargs)\n",
      "File \u001b[0;32m~/anaconda3/envs/pose/lib/python3.8/site-packages/torch/nn/modules/module.py:1527\u001b[0m, in \u001b[0;36mModule._call_impl\u001b[0;34m(self, *args, **kwargs)\u001b[0m\n\u001b[1;32m   1522\u001b[0m \u001b[39m# If we don't have any hooks, we want to skip the rest of the logic in\u001b[39;00m\n\u001b[1;32m   1523\u001b[0m \u001b[39m# this function, and just call forward.\u001b[39;00m\n\u001b[1;32m   1524\u001b[0m \u001b[39mif\u001b[39;00m \u001b[39mnot\u001b[39;00m (\u001b[39mself\u001b[39m\u001b[39m.\u001b[39m_backward_hooks \u001b[39mor\u001b[39;00m \u001b[39mself\u001b[39m\u001b[39m.\u001b[39m_backward_pre_hooks \u001b[39mor\u001b[39;00m \u001b[39mself\u001b[39m\u001b[39m.\u001b[39m_forward_hooks \u001b[39mor\u001b[39;00m \u001b[39mself\u001b[39m\u001b[39m.\u001b[39m_forward_pre_hooks\n\u001b[1;32m   1525\u001b[0m         \u001b[39mor\u001b[39;00m _global_backward_pre_hooks \u001b[39mor\u001b[39;00m _global_backward_hooks\n\u001b[1;32m   1526\u001b[0m         \u001b[39mor\u001b[39;00m _global_forward_hooks \u001b[39mor\u001b[39;00m _global_forward_pre_hooks):\n\u001b[0;32m-> 1527\u001b[0m     \u001b[39mreturn\u001b[39;00m forward_call(\u001b[39m*\u001b[39;49margs, \u001b[39m*\u001b[39;49m\u001b[39m*\u001b[39;49mkwargs)\n\u001b[1;32m   1529\u001b[0m \u001b[39mtry\u001b[39;00m:\n\u001b[1;32m   1530\u001b[0m     result \u001b[39m=\u001b[39m \u001b[39mNone\u001b[39;00m\n",
      "\u001b[1;32m/Users/owo/HOUSE/-ActionClass/@temp/temp.ipynb 셀 15\u001b[0m line \u001b[0;36m2\n\u001b[1;32m     <a href='vscode-notebook-cell:/Users/owo/HOUSE/-ActionClass/%40temp/temp.ipynb#X20sZmlsZQ%3D%3D?line=17'>18</a>\u001b[0m \u001b[39mdef\u001b[39;00m \u001b[39mforward\u001b[39m(\u001b[39mself\u001b[39m, x):\n\u001b[1;32m     <a href='vscode-notebook-cell:/Users/owo/HOUSE/-ActionClass/%40temp/temp.ipynb#X20sZmlsZQ%3D%3D?line=18'>19</a>\u001b[0m     \u001b[39m# 초기 은닉 상태와 셀 상태\u001b[39;00m\n\u001b[0;32m---> <a href='vscode-notebook-cell:/Users/owo/HOUSE/-ActionClass/%40temp/temp.ipynb#X20sZmlsZQ%3D%3D?line=19'>20</a>\u001b[0m     h0 \u001b[39m=\u001b[39m torch\u001b[39m.\u001b[39mzeros(\u001b[39mself\u001b[39m\u001b[39m.\u001b[39mnum_layers, x\u001b[39m.\u001b[39;49msize(\u001b[39m0\u001b[39m), \u001b[39mself\u001b[39m\u001b[39m.\u001b[39mhidden_size)\u001b[39m.\u001b[39mto(x\u001b[39m.\u001b[39mdevice)\n\u001b[1;32m     <a href='vscode-notebook-cell:/Users/owo/HOUSE/-ActionClass/%40temp/temp.ipynb#X20sZmlsZQ%3D%3D?line=20'>21</a>\u001b[0m     c0 \u001b[39m=\u001b[39m torch\u001b[39m.\u001b[39mzeros(\u001b[39mself\u001b[39m\u001b[39m.\u001b[39mnum_layers, x\u001b[39m.\u001b[39msize(\u001b[39m0\u001b[39m), \u001b[39mself\u001b[39m\u001b[39m.\u001b[39mhidden_size)\u001b[39m.\u001b[39mto(x\u001b[39m.\u001b[39mdevice)\n\u001b[1;32m     <a href='vscode-notebook-cell:/Users/owo/HOUSE/-ActionClass/%40temp/temp.ipynb#X20sZmlsZQ%3D%3D?line=22'>23</a>\u001b[0m     \u001b[39m# LSTM\u001b[39;00m\n",
      "\u001b[0;31mAttributeError\u001b[0m: 'list' object has no attribute 'size'"
     ]
    }
   ],
   "source": [
    "import torch\n",
    "import torch.nn as nn\n",
    "import torch.optim as optim\n",
    "from torch.utils.data import DataLoader, Dataset\n",
    "\n",
    "class SkeletonLSTM(nn.Module):\n",
    "    def __init__(self, input_size, hidden_size, num_layers, num_classes):\n",
    "        super(SkeletonLSTM, self).__init__()\n",
    "        self.hidden_size = hidden_size\n",
    "        self.num_layers = num_layers\n",
    "        self.lstm = nn.LSTM(input_size, hidden_size, num_layers, batch_first=True)\n",
    "        self.fc = nn.Linear(hidden_size, num_classes)\n",
    "\n",
    "    def forward(self, x):\n",
    "        h0 = torch.zeros(self.num_layers, x.size(0), self.hidden_size).to(x.device)\n",
    "        c0 = torch.zeros(self.num_layers, x.size(0), self.hidden_size).to(x.device)\n",
    "\n",
    "        out, _ = self.lstm(x, (h0, c0))\n",
    "\n",
    "        out = self.fc(out[:, -1, :])\n",
    "        return out\n",
    "\n",
    "\n",
    "model = SkeletonLSTM(input_size=132, hidden_size=64, num_layers=2, num_classes=2) # 클래스 수는 예시\n",
    "\n",
    "criterion = nn.CrossEntropyLoss()\n",
    "optimizer = optim.Adam(model.parameters(), lr=0.001)\n",
    "\n",
    "#exampel dataloader\n",
    "train_loader = [(ddatta,0),(ddatta,1)]\n",
    "\n",
    "num_epochs = 10\n",
    "for epoch in range(num_epochs):\n",
    "    for i, (skeletons, labels) in enumerate(train_loader):\n",
    "        outputs = model(skeletons)\n",
    "        loss = criterion(outputs, labels)\n",
    "\n",
    "        optimizer.zero_grad()\n",
    "        loss.backward()\n",
    "        optimizer.step()\n",
    "\n",
    "        if (i+1) % 100 == 0:\n",
    "            print(f'Epoch [{epoch+1}/{num_epochs}], Step [{i+1}/{len(train_loader)}], Loss: {loss.item():.4f}')\n"
   ]
  },
  {
   "cell_type": "code",
   "execution_count": 2,
   "metadata": {},
   "outputs": [],
   "source": [
    "from tkinter import *\n",
    "import math\n",
    "\n",
    "def button_click(event):\n",
    "    text = event.widget.cget(\"text\")\n",
    "    try:\n",
    "        if text == \"=\":\n",
    "            result = eval(display.get().replace('^', '**').replace('π', 'math.pi'))\n",
    "            display.delete(0, END)\n",
    "            display.insert(END, result)\n",
    "        elif text == \"C\":\n",
    "            display.delete(0, END)\n",
    "        elif text == \"√\":\n",
    "            current_value = float(display.get())\n",
    "            sqrt_value = math.sqrt(current_value)\n",
    "            display.delete(0, END)\n",
    "            display.insert(END, sqrt_value)\n",
    "        else:\n",
    "            display.insert(END, text)\n",
    "    except Exception as e:\n",
    "        display.delete(0, END)\n",
    "        display.insert(END, \"Error\")\n",
    "\n",
    "window = Tk()\n",
    "window.title(\"My Calculator\")\n",
    "display = Entry(window, width=33, bg=\"white\")\n",
    "display.grid(row=0, column=0, columnspan=5)\n",
    "\n",
    "button_list = [\n",
    "    '7', '8', '9', '/', 'C',\n",
    "    '4', '5', '6', '*', '√',\n",
    "    '1', '2', '3', '-', '^',\n",
    "    '0', '.', '=', '+', 'π'\n",
    "]\n",
    "\n",
    "row_index = 1\n",
    "col_index = 0\n",
    "\n",
    "for button_text in button_list:\n",
    "    button = Button(window, text=button_text, width=5)\n",
    "    button.grid(row=row_index, column=col_index)\n",
    "    button.bind(\"<Button-1>\", button_click)\n",
    "    col_index += 1\n",
    "    if col_index > 4:\n",
    "        row_index += 1\n",
    "        col_index = 0\n",
    "\n",
    "window.mainloop()"
   ]
  },
  {
   "cell_type": "code",
   "execution_count": 3,
   "metadata": {},
   "outputs": [
    {
     "name": "stdout",
     "output_type": "stream",
     "text": [
      "max : 5\n",
      "mid : 2\n",
      "min : 1\n"
     ]
    }
   ],
   "source": [
    "numbers = []\n",
    "while(1):\n",
    "    a = int(input())\n",
    "    if a <= 0:\n",
    "        break\n",
    "    numbers.append(a)\n",
    "\n",
    "sd = sorted(numbers)\n",
    "\n",
    "print(f\"max : {sd[len(sd)-1]}\")\n",
    "print(f\"mid : {sd[int(len(sd)/2-1)]}\")\n",
    "print(f\"min : {sd[0]}\")\n"
   ]
  },
  {
   "cell_type": "markdown",
   "metadata": {},
   "source": [
    "물론, 클래스와 상속에 대한 연습 문제를 제공해 드릴 수 있습니다. 다음은 Python을 사용한 간단한 클래스 및 상속 연습 문제입니다. 이 문제를 통해 클래스와 상속을 연습할 수 있습니다.\n",
    "\n",
    "**문제 1: 간단한 클래스 만들기**\n",
    "클래스 \"Person\"을 만들어 보세요. 이 클래스는 다음 속성을 가지고 있어야 합니다.\n",
    "\n",
    "- 이름 (name)\n",
    "- 나이 (age)\n",
    "\n",
    "그리고 \"Person\" 클래스의 객체를 생성하고 속성을 설정하는 코드를 작성하세요.\n",
    "\n",
    "**문제 2: 상속**\n",
    "이제 \"Person\" 클래스를 상속받는 \"Student\" 클래스를 만들어 보세요. \"Student\" 클래스는 \"Person\" 클래스를 확장하며 다음 추가 속성을 가집니다.\n",
    "\n",
    "- 학번 (student_id)\n",
    "- 학교 (school)\n",
    "\n",
    "그리고 \"Student\" 클래스의 객체를 생성하고 속성을 설정하는 코드를 작성하세요.\n",
    "\n",
    "**문제 3: 메서드 추가**\n",
    "\"Person\" 클래스에 \"greet\"라는 메서드를 추가하세요. 이 메서드는 다른 사람을 인사하는 메시지를 출력해야 합니다. 그런 다음 \"Student\" 클래스도 \"greet\" 메서드를 상속받아서 사용하도록 만들어 보세요.\n",
    "\n",
    "이러한 연습 문제를 통해 클래스와 상속을 연습하고 클래스의 개념을 확립할 수 있습니다. 문제를 풀면서 어려운 부분이 있다면 언제든지 물어보세요!"
   ]
  },
  {
   "cell_type": "code",
   "execution_count": 3,
   "metadata": {},
   "outputs": [],
   "source": [
    "class Person:\n",
    "    def __init__(self,name,age):\n",
    "        self.name = name\n",
    "        self.age = age\n",
    "\n",
    "    def greet(self):\n",
    "        print(f'{self.name} : Hi')\n",
    "\n",
    "class Student(Person):\n",
    "    def __init__(self, name, age, student_id, school):\n",
    "        # Person 클래스의 생성자 호출하여 name과 age 속성 초기화\n",
    "        super().__init__(name, age)\n",
    "        self.student_id = student_id\n",
    "        self.school = school\n",
    "\n",
    "    def study(self, subject):\n",
    "        print(f'{self.name} is studying {subject}')\n"
   ]
  },
  {
   "cell_type": "code",
   "execution_count": 5,
   "metadata": {},
   "outputs": [
    {
     "name": "stdout",
     "output_type": "stream",
     "text": [
      "sejik : Hi\n"
     ]
    }
   ],
   "source": [
    "person1 = Person('sejik',20)\n",
    "person1.greet()"
   ]
  },
  {
   "cell_type": "markdown",
   "metadata": {},
   "source": [
    "물론, 다른 클래스 및 객체 지향 프로그래밍 연습 문제를 제공해 드리겠습니다.\n",
    "\n",
    "**문제: 동물 클래스 만들기**\n",
    "\n",
    "1. `Animal` 클래스를 정의하세요. 이 클래스는 다음 속성을 가져야 합니다:\n",
    "   - `name` (동물의 이름)\n",
    "   - `species` (동물의 종류)\n",
    "   - `age` (동물의 나이)\n",
    "\n",
    "2. `Animal` 클래스에 다음 메서드를 추가하세요:\n",
    "   - `make_sound(sound)`: 동물이 소리를 내도록 하는 메서드로, 주어진 `sound` 문자열을 출력합니다.\n",
    "\n",
    "**문제: 강아지와 고양이 클래스 만들기**\n",
    "\n",
    "1. `Dog` 클래스를 정의하세요. 이 클래스는 `Animal` 클래스를 상속받아야 하며, 추가로 다음 속성을 가져야 합니다:\n",
    "   - `breed` (강아지의 품종)\n",
    "\n",
    "2. `Cat` 클래스를 정의하세요. 이 클래스도 `Animal` 클래스를 상속받아야 하며, 추가로 다음 속성을 가져야 합니다:\n",
    "   - `color` (고양이의 색상)\n",
    "\n",
    "3. 각 클래스에 특정한 소리를 내도록 메서드를 추가하세요. 예를 들어, `Dog` 클래스에는 `bark` 메서드를 추가하여 \"왈왈!\"을 출력하고, `Cat` 클래스에는 `meow` 메서드를 추가하여 \"야옹~\"을 출력하세요.\n",
    "\n",
    "4. `Dog`와 `Cat` 클래스의 객체를 생성하고 속성을 설정하고 메서드를 호출하여 각각의 동물이 어떻게 동작하는지 확인하세요.\n",
    "\n",
    "이러한 문제를 풀면서 객체 지향 프로그래밍의 기본 개념을 연습할 수 있습니다. 문제를 해결하는 과정에서 도움이 필요하면 언제든지 물어보세요!"
   ]
  },
  {
   "cell_type": "code",
   "execution_count": 21,
   "metadata": {},
   "outputs": [],
   "source": [
    "class Animal:\n",
    "\n",
    "    def __init__(self,name,species,age):\n",
    "        self.name = name\n",
    "        self.species = species\n",
    "        self.age = age\n",
    "\n",
    "    def make_sound(self,sound):\n",
    "        print(str(sound))\n",
    "\n",
    "class Dog(Animal):\n",
    "\n",
    "    def __init__(self,name,species,age,breed):\n",
    "        super().__init__(name,species,age)\n",
    "        self.breed = breed\n",
    "\n",
    "    def bark(self,bark):\n",
    "        super().make_sound(bark)\n",
    "\n",
    "mydog = Dog('balbal','dog',20,'bulldog')"
   ]
  },
  {
   "cell_type": "code",
   "execution_count": 22,
   "metadata": {},
   "outputs": [
    {
     "name": "stdout",
     "output_type": "stream",
     "text": [
      "wa!!\n"
     ]
    }
   ],
   "source": [
    "mydog.bark('wa!!')"
   ]
  },
  {
   "cell_type": "markdown",
   "metadata": {},
   "source": [
    "또 다른 클래스와 상속 연습 문제를 제공해 드리겠습니다.\n",
    "\n",
    "**문제: 학교 학생과 선생님 클래스**\n",
    "\n",
    "1. `Person` 클래스를 정의하세요. 이 클래스는 다음 속성을 가져야 합니다:\n",
    "   - `name` (사람의 이름)\n",
    "   - `age` (사람의 나이)\n",
    "\n",
    "2. `Person` 클래스에 다음 메서드를 추가하세요:\n",
    "   - `greet()`: 사람이 다른 사람을 인사하는 메서드로, \"{name}이/가 인사합니다.\" 라는 메시지를 출력합니다.\n",
    "\n",
    "3. `Student` 클래스를 정의하세요. 이 클래스는 `Person` 클래스를 상속받아야 하며, 추가로 다음 속성을 가져야 합니다:\n",
    "   - `student_id` (학생의 학번)\n",
    "   - `school` (학생이 다니는 학교)\n",
    "\n",
    "4. `Student` 클래스에 `study` 메서드를 추가하세요. 이 메서드는 다른 사람과 함께 \"{name}이/가 {subject} 공부합니다.\" 라는 메시지를 출력합니다.\n",
    "\n",
    "5. `Teacher` 클래스를 정의하세요. 이 클래스도 `Person` 클래스를 상속받아야 하며, 추가로 다음 속성을 가져야 합니다:\n",
    "   - `teacher_id` (선생님의 직원 번호)\n",
    "   - `subject` (선생님의 담당 과목)\n",
    "\n",
    "6. `Teacher` 클래스에 `teach` 메서드를 추가하세요. 이 메서드는 \"{subject} 과목을 가르칩니다.\" 라는 메시지를 출력합니다.\n",
    "\n",
    "7. 각 클래스의 객체를 생성하고 속성을 설정하고 메서드를 호출하여 다음 작업을 수행하세요:\n",
    "   - 학생 객체를 생성하고 `study` 메서드를 호출하여 공부하도록 시뮬레이션하세요.\n",
    "   - 선생님 객체를 생성하고 `teach` 메서드를 호출하여 가르치도록 시뮬레이션하세요.\n",
    "   - 각 객체의 `greet` 메서드를 호출하여 인사하는 동작을 시뮬레이션하세요.\n",
    "\n",
    "이렇게 하면 클래스와 상속을 사용하여 학생과 선생님의 동작을 모델링하면서 객체 지향 프로그래밍의 개념을 연습할 수 있습니다. 문제를 해결하는 과정에서 도움이 필요하면 언제든지 질문해 주세요!"
   ]
  },
  {
   "cell_type": "code",
   "execution_count": 14,
   "metadata": {},
   "outputs": [],
   "source": [
    "class Person():\n",
    "    def __init__(self,name,age):\n",
    "        self.name = name\n",
    "        self.age = age\n",
    "    def greet(self):\n",
    "        print(f'{self.name} is saying hi')\n",
    "class Student(Person):\n",
    "    def __init__(self, name, age,student_id,school):\n",
    "        super().__init__(name, age)\n",
    "        self.student_id = student_id\n",
    "        self.school = school\n",
    "    def study(self):\n",
    "        print(f'{self.name} is studying a subject')\n",
    "    def school_greet(self):\n",
    "        super().greet()\n",
    "        print(f'{self.name}he is from {self.school}')"
   ]
  },
  {
   "cell_type": "code",
   "execution_count": 15,
   "metadata": {},
   "outputs": [
    {
     "name": "stdout",
     "output_type": "stream",
     "text": [
      "sejik is saying hi\n"
     ]
    }
   ],
   "source": [
    "person1 = Person('sejik',20)\n",
    "person1.greet()"
   ]
  },
  {
   "cell_type": "code",
   "execution_count": 16,
   "metadata": {},
   "outputs": [
    {
     "name": "stdout",
     "output_type": "stream",
     "text": [
      "a is saying hi\n",
      "ahe is from gnu\n"
     ]
    }
   ],
   "source": [
    "student1 = Student('a', 20, 123,'gnu')\n",
    "student1.school_greet()"
   ]
  },
  {
   "cell_type": "code",
   "execution_count": null,
   "metadata": {},
   "outputs": [],
   "source": []
  }
 ],
 "metadata": {
  "kernelspec": {
   "display_name": "torchenv",
   "language": "python",
   "name": "python3"
  },
  "language_info": {
   "codemirror_mode": {
    "name": "ipython",
    "version": 3
   },
   "file_extension": ".py",
   "mimetype": "text/x-python",
   "name": "python",
   "nbconvert_exporter": "python",
   "pygments_lexer": "ipython3",
   "version": "3.8.18"
  }
 },
 "nbformat": 4,
 "nbformat_minor": 2
}
